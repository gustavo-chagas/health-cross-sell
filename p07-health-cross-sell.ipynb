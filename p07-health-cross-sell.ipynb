{
 "cells": [
  {
   "cell_type": "markdown",
   "id": "ea13f80c",
   "metadata": {
    "heading_collapsed": true
   },
   "source": [
    "# 0.0 IMPORTS"
   ]
  },
  {
   "cell_type": "code",
   "execution_count": 56,
   "id": "363f4b7f",
   "metadata": {
    "ExecuteTime": {
     "end_time": "2022-08-08T19:15:44.261366Z",
     "start_time": "2022-08-08T19:15:44.231063Z"
    },
    "hidden": true
   },
   "outputs": [],
   "source": [
    "import psycopg2\n",
    "import pandas as pd\n",
    "import numpy as np\n",
    "import warnings\n",
    "import json\n",
    "\n",
    "import seaborn as sns\n",
    "import matplotlib.pyplot as plt\n",
    "import scikitplot as skplt\n",
    "\n",
    "from IPython.core.display import HTML, display\n",
    "\n",
    "from sklearn.metrics import precision_score\n",
    "from sklearn.metrics import ConfusionMatrixDisplay\n",
    "from sklearn import preprocessing as pp\n",
    "from sklearn import model_selection as ms\n",
    "from sklearn import ensemble as en\n",
    "from sklearn import neighbors as nh\n",
    "from sklearn.linear_model import LogisticRegression as lr\n",
    "from sklearn import tree\n",
    "import pyltr\n",
    "import cv\n",
    "import pickle"
   ]
  },
  {
   "cell_type": "markdown",
   "id": "1f664326",
   "metadata": {
    "heading_collapsed": true,
    "hidden": true
   },
   "source": [
    "## 0.1 HELPER FUNCTIONS"
   ]
  },
  {
   "cell_type": "code",
   "execution_count": 2,
   "id": "d705ec46",
   "metadata": {
    "ExecuteTime": {
     "end_time": "2022-08-08T17:59:31.624805Z",
     "start_time": "2022-08-08T17:59:31.501492Z"
    },
    "hidden": true
   },
   "outputs": [],
   "source": [
    "def jupyter_settings():\n",
    "    %matplotlib inline\n",
    "    %pylab inline\n",
    "    \n",
    "    plt.style.use( 'bmh' )\n",
    "    plt.rcParams['figure.figsize'] = [15, 8]\n",
    "    plt.rcParams['font.size'] = 24\n",
    "    \n",
    "    display( HTML( '<style>.container { width:100% !important; }</style>') )\n",
    "    pd.options.display.max_columns = None\n",
    "    pd.options.display.max_rows = None\n",
    "    pd.set_option( 'display.expand_frame_repr', False )\n",
    "    \n",
    "    sns.set()\n",
    "    \n",
    "def precision_at_k(data,k):\n",
    "\n",
    "    data = data.reset_index(drop=True)\n",
    "    data['ranking'] = data.index + 1\n",
    "\n",
    "    data['precision_at_k'] = data['response'].cumsum()/data['ranking']\n",
    "\n",
    "    return data.loc[k,'precision_at_k']\n",
    "\n",
    "def recall_at_k(data,k):\n",
    "\n",
    "    data = data.reset_index(drop=True)\n",
    "    data['ranking'] = data.index + 1\n",
    "\n",
    "    data['recall_at_k'] = data['response'].cumsum()/data['response'].sum()\n",
    "    \n",
    "    return data.loc[k,'recall_at_k']\n",
    "\n",
    "def gain_lift_curve(yhat, yval, plot = True, size = (6,8)):\n",
    "    '''\n",
    "    plots gain and lift curve, respectively\n",
    "    returns the curves and a table used to plot the curves\n",
    "    '''\n",
    "\n",
    "    # create table proba with the propensity score for each class (0 and 1)\n",
    "    table_proba = pd.DataFrame(yhat)\n",
    "\n",
    "    # add the 'response' column\n",
    "    table_proba['target'] = yval.values\n",
    "\n",
    "    # add the 'correct' column to evaluate wheter the prediction was right or not\n",
    "    x = lambda x: \"yes\" if x[0] > x[1] and x['target'] == 0 else \"yes\" if x[1] > x[0] and x['target'] == 1 else \"yes\" if x[0] == x[1] else \"no\" \n",
    "    table_proba['correct'] = table_proba.apply(x, axis = 1)\n",
    "\n",
    "    # order by propensity score for the class 1\n",
    "    table_proba.sort_values(1, ascending = False, inplace = True)\n",
    "\n",
    "    # create cumulative propensity score\n",
    "    ## calculate the quantity of class 1 rows\n",
    "    qty_class_1 = table_proba.groupby('target').count().loc[1,1]\n",
    "\n",
    "    ## apply a score for every row which target is 1\n",
    "    x = lambda x: 1/qty_class_1 if x['target'] == 1 else 0\n",
    "    table_proba['propensity_score'] = table_proba.apply(x, axis = 1)\n",
    "    table_proba['cumulative_propensity_score'] = np.cumsum(table_proba['propensity_score'])\n",
    "\n",
    "    # create % cumulative of the base\n",
    "    x = lambda x: 1/len(table_proba)\n",
    "    table_proba['porc_base'] = table_proba.apply(x, axis = 1)\n",
    "    table_proba['cumulative_porc_base'] = np.cumsum(table_proba['porc_base'])\n",
    "    table_proba.drop('porc_base', axis = 1, inplace = True)\n",
    "\n",
    "    # create the lift column\n",
    "    table_proba['lift'] = table_proba['cumulative_propensity_score'] / table_proba['cumulative_porc_base']\n",
    "\n",
    "    if plot:\n",
    "        fig, axes = plt.subplots(2, 1, figsize=size)\n",
    "\n",
    "        # gap between graphics\n",
    "        fig.tight_layout(pad =5)\n",
    "\n",
    "        # gain curve\n",
    "        sns.lineplot(ax = axes[0], x = table_proba['cumulative_porc_base'], y = table_proba['cumulative_propensity_score'], label=\"cumulative (model)\", linewidth = 2.5);\n",
    "        sns.lineplot(ax = axes[0], x = table_proba['cumulative_porc_base'], y = table_proba['cumulative_porc_base'], label=\"baseline\", linewidth = 2.5, color = 'black' )\n",
    "        axes[0].lines[1].set_linestyle(\"--\")\n",
    "        axes[0].legend()\n",
    "        axes[0].set_title(\"cumulative gains curve\")\n",
    "        axes[0].set_xlabel(\"percentage of sample\")\n",
    "        axes[0].set_ylabel(\"gain\")\n",
    "\n",
    "        # lift curve\n",
    "        ## do not consider the beginning of the series, as it varies a lot (the sample is still small)\n",
    "        table_proba_filtered = table_proba.query('cumulative_porc_base >= 0.1')\n",
    "\n",
    "        sns.lineplot(ax = axes[1], x = table_proba_filtered['cumulative_porc_base'], y = table_proba_filtered['lift'], label=\"model\", linewidth = 2.5 );\n",
    "        sns.lineplot(ax = axes[1], x = table_proba_filtered['cumulative_porc_base'], y = np.ones(len(table_proba_filtered)), label=\"baseline\", linewidth = 2.5, color = 'black' )\n",
    "        axes[1].lines[1].set_linestyle(\"--\")\n",
    "        axes[1].legend()\n",
    "        axes[1].set_title(\"lift curve\")\n",
    "        axes[1].set_xlabel(\"percentage of sample\")\n",
    "\n",
    "        plt.show();\n",
    "        \n",
    "    return (table_proba)\n",
    "\n",
    "def precision_recall_at_k(table, k = 2000):\n",
    "    ''' \n",
    "    receives the table that was generated in gain_lift_curve function and returns: \n",
    "    - a tuple containg the precision at k and recall at k, respectively\n",
    "    - a new table with precision_at_k and recall_at_k metrics \n",
    "    '''\n",
    "    table.reset_index(drop=True, inplace = True)\n",
    "    table['ranking'] = table.index + 1 # as the index starts in 0 it is necessary to +1\n",
    "    table['precision_at_k'] = table['target'].cumsum() / table['ranking']\n",
    "    table['recall_at_k'] = table['target'].cumsum() / table['target'].sum()\n",
    "    return ((table.loc[k-1, 'precision_at_k'], table.loc[k-1, 'recall_at_k']),table)"
   ]
  },
  {
   "cell_type": "code",
   "execution_count": 3,
   "id": "b0984f4f",
   "metadata": {
    "ExecuteTime": {
     "end_time": "2022-08-08T17:59:31.736068Z",
     "start_time": "2022-08-08T17:59:31.624805Z"
    },
    "hidden": true
   },
   "outputs": [
    {
     "name": "stdout",
     "output_type": "stream",
     "text": [
      "%pylab is deprecated, use %matplotlib inline and import the required libraries.\n",
      "Populating the interactive namespace from numpy and matplotlib\n"
     ]
    },
    {
     "data": {
      "text/html": [
       "<style>.container { width:100% !important; }</style>"
      ],
      "text/plain": [
       "<IPython.core.display.HTML object>"
      ]
     },
     "metadata": {},
     "output_type": "display_data"
    }
   ],
   "source": [
    "jupyter_settings();\n",
    "warnings.filterwarnings(\"ignore\");"
   ]
  },
  {
   "cell_type": "markdown",
   "id": "a760f180",
   "metadata": {
    "heading_collapsed": true,
    "hidden": true
   },
   "source": [
    "## 0.2 FETCHING DATA "
   ]
  },
  {
   "cell_type": "code",
   "execution_count": 4,
   "id": "e53612a2",
   "metadata": {
    "ExecuteTime": {
     "end_time": "2022-08-08T17:59:32.686105Z",
     "start_time": "2022-08-08T17:59:31.741519Z"
    },
    "hidden": true
   },
   "outputs": [
    {
     "name": "stdout",
     "output_type": "stream",
     "text": [
      "[('pg_catalog',), ('information_schema',), ('public',), ('pa004',)]\n"
     ]
    }
   ],
   "source": [
    "with open('.credentials.json') as json_file:\n",
    "    cred = json.load(json_file)\n",
    "\n",
    "conn = psycopg2.connect(dbname=cred['dbname'], user=cred['user'], password=cred['password'],host=cred['host'],port=cred['port'])\n",
    "\n",
    "cursor = conn.cursor()\n",
    "cursor.execute('select schema_name from information_schema.schemata')\n",
    "schemas = cursor.fetchall()\n",
    "print(schemas)\n",
    "\n",
    "cursor.close()"
   ]
  },
  {
   "cell_type": "code",
   "execution_count": 5,
   "id": "0ee0371e",
   "metadata": {
    "ExecuteTime": {
     "end_time": "2022-08-08T17:59:43.976982Z",
     "start_time": "2022-08-08T17:59:32.686105Z"
    },
    "hidden": true
   },
   "outputs": [
    {
     "name": "stdout",
     "output_type": "stream",
     "text": [
      "[('users',), ('vehicle',), ('insurance',)]\n"
     ]
    }
   ],
   "source": [
    "query_tables = \"select table_name from information_schema.tables where table_schema = 'pa004' \"\n",
    "\n",
    "cursor = conn.cursor()\n",
    "cursor.execute(query_tables)\n",
    "tables = cursor.fetchall()\n",
    "print(tables)\n",
    "\n",
    "users = pd.read_sql_query('select * from pa004.users',conn)\n",
    "vehicle = pd.read_sql_query('select * from pa004.vehicle',conn)\n",
    "insurance = pd.read_sql_query('select * from pa004.insurance',conn)\n",
    "\n",
    "cursor.close()\n",
    "conn.close()"
   ]
  },
  {
   "cell_type": "code",
   "execution_count": 6,
   "id": "415c7945",
   "metadata": {
    "ExecuteTime": {
     "end_time": "2022-08-08T17:59:44.757893Z",
     "start_time": "2022-08-08T17:59:43.976982Z"
    },
    "hidden": true
   },
   "outputs": [
    {
     "data": {
      "text/html": [
       "<div>\n",
       "<style scoped>\n",
       "    .dataframe tbody tr th:only-of-type {\n",
       "        vertical-align: middle;\n",
       "    }\n",
       "\n",
       "    .dataframe tbody tr th {\n",
       "        vertical-align: top;\n",
       "    }\n",
       "\n",
       "    .dataframe thead th {\n",
       "        text-align: right;\n",
       "    }\n",
       "</style>\n",
       "<table border=\"1\" class=\"dataframe\">\n",
       "  <thead>\n",
       "    <tr style=\"text-align: right;\">\n",
       "      <th></th>\n",
       "      <th>id</th>\n",
       "      <th>gender</th>\n",
       "      <th>age</th>\n",
       "      <th>region_code</th>\n",
       "      <th>policy_sales_channel</th>\n",
       "      <th>driving_license</th>\n",
       "      <th>vehicle_age</th>\n",
       "      <th>vehicle_damage</th>\n",
       "      <th>previously_insured</th>\n",
       "      <th>annual_premium</th>\n",
       "      <th>vintage</th>\n",
       "      <th>response</th>\n",
       "    </tr>\n",
       "  </thead>\n",
       "  <tbody>\n",
       "    <tr>\n",
       "      <th>0</th>\n",
       "      <td>1</td>\n",
       "      <td>Male</td>\n",
       "      <td>44</td>\n",
       "      <td>28.0</td>\n",
       "      <td>26.0</td>\n",
       "      <td>1</td>\n",
       "      <td>&gt; 2 Years</td>\n",
       "      <td>Yes</td>\n",
       "      <td>0</td>\n",
       "      <td>40454.0</td>\n",
       "      <td>217</td>\n",
       "      <td>1</td>\n",
       "    </tr>\n",
       "    <tr>\n",
       "      <th>1</th>\n",
       "      <td>2</td>\n",
       "      <td>Male</td>\n",
       "      <td>76</td>\n",
       "      <td>3.0</td>\n",
       "      <td>26.0</td>\n",
       "      <td>1</td>\n",
       "      <td>1-2 Year</td>\n",
       "      <td>No</td>\n",
       "      <td>0</td>\n",
       "      <td>33536.0</td>\n",
       "      <td>183</td>\n",
       "      <td>0</td>\n",
       "    </tr>\n",
       "    <tr>\n",
       "      <th>2</th>\n",
       "      <td>3</td>\n",
       "      <td>Male</td>\n",
       "      <td>47</td>\n",
       "      <td>28.0</td>\n",
       "      <td>26.0</td>\n",
       "      <td>1</td>\n",
       "      <td>&gt; 2 Years</td>\n",
       "      <td>Yes</td>\n",
       "      <td>0</td>\n",
       "      <td>38294.0</td>\n",
       "      <td>27</td>\n",
       "      <td>1</td>\n",
       "    </tr>\n",
       "    <tr>\n",
       "      <th>3</th>\n",
       "      <td>4</td>\n",
       "      <td>Male</td>\n",
       "      <td>21</td>\n",
       "      <td>11.0</td>\n",
       "      <td>152.0</td>\n",
       "      <td>1</td>\n",
       "      <td>&lt; 1 Year</td>\n",
       "      <td>No</td>\n",
       "      <td>1</td>\n",
       "      <td>28619.0</td>\n",
       "      <td>203</td>\n",
       "      <td>0</td>\n",
       "    </tr>\n",
       "    <tr>\n",
       "      <th>4</th>\n",
       "      <td>5</td>\n",
       "      <td>Female</td>\n",
       "      <td>29</td>\n",
       "      <td>41.0</td>\n",
       "      <td>152.0</td>\n",
       "      <td>1</td>\n",
       "      <td>&lt; 1 Year</td>\n",
       "      <td>No</td>\n",
       "      <td>1</td>\n",
       "      <td>27496.0</td>\n",
       "      <td>39</td>\n",
       "      <td>0</td>\n",
       "    </tr>\n",
       "  </tbody>\n",
       "</table>\n",
       "</div>"
      ],
      "text/plain": [
       "   id  gender  age  region_code  policy_sales_channel  driving_license vehicle_age vehicle_damage  previously_insured  annual_premium  vintage  response\n",
       "0   1    Male   44         28.0                  26.0                1   > 2 Years            Yes                   0         40454.0      217         1\n",
       "1   2    Male   76          3.0                  26.0                1    1-2 Year             No                   0         33536.0      183         0\n",
       "2   3    Male   47         28.0                  26.0                1   > 2 Years            Yes                   0         38294.0       27         1\n",
       "3   4    Male   21         11.0                 152.0                1    < 1 Year             No                   1         28619.0      203         0\n",
       "4   5  Female   29         41.0                 152.0                1    < 1 Year             No                   1         27496.0       39         0"
      ]
     },
     "execution_count": 6,
     "metadata": {},
     "output_type": "execute_result"
    }
   ],
   "source": [
    "df = pd.merge(users, vehicle, on='id')\n",
    "df = pd.merge(df,insurance,on='id')\n",
    "df.head()"
   ]
  },
  {
   "cell_type": "markdown",
   "id": "c62dc328",
   "metadata": {
    "heading_collapsed": true
   },
   "source": [
    "# 1.0 DATA DESCRIPTION"
   ]
  },
  {
   "cell_type": "code",
   "execution_count": 7,
   "id": "0b7e9313",
   "metadata": {
    "ExecuteTime": {
     "end_time": "2022-08-08T17:59:44.968916Z",
     "start_time": "2022-08-08T17:59:44.761651Z"
    },
    "hidden": true
   },
   "outputs": [],
   "source": [
    "df1 = df.copy()"
   ]
  },
  {
   "cell_type": "markdown",
   "id": "4628865c",
   "metadata": {
    "heading_collapsed": true,
    "hidden": true
   },
   "source": [
    "## 1.1 DATA DIMENSIONS"
   ]
  },
  {
   "cell_type": "code",
   "execution_count": 8,
   "id": "745401b7",
   "metadata": {
    "ExecuteTime": {
     "end_time": "2022-08-08T17:59:44.985511Z",
     "start_time": "2022-08-08T17:59:44.968916Z"
    },
    "hidden": true
   },
   "outputs": [
    {
     "name": "stdout",
     "output_type": "stream",
     "text": [
      "Rows: 381109\n",
      "Columns: 12\n"
     ]
    }
   ],
   "source": [
    "print('Rows: {}'.format(df1.shape[0]))\n",
    "print('Columns: {}'.format(df1.shape[1]))"
   ]
  },
  {
   "cell_type": "markdown",
   "id": "02e3d0eb",
   "metadata": {
    "heading_collapsed": true,
    "hidden": true
   },
   "source": [
    "## 1.2 DATA TYPES"
   ]
  },
  {
   "cell_type": "code",
   "execution_count": 9,
   "id": "9f24f6e6",
   "metadata": {
    "ExecuteTime": {
     "end_time": "2022-08-08T17:59:45.015604Z",
     "start_time": "2022-08-08T17:59:44.986012Z"
    },
    "hidden": true
   },
   "outputs": [
    {
     "data": {
      "text/plain": [
       "id                        int64\n",
       "gender                   object\n",
       "age                       int64\n",
       "region_code             float64\n",
       "policy_sales_channel    float64\n",
       "driving_license           int64\n",
       "vehicle_age              object\n",
       "vehicle_damage           object\n",
       "previously_insured        int64\n",
       "annual_premium          float64\n",
       "vintage                   int64\n",
       "response                  int64\n",
       "dtype: object"
      ]
     },
     "execution_count": 9,
     "metadata": {},
     "output_type": "execute_result"
    }
   ],
   "source": [
    "df1.dtypes"
   ]
  },
  {
   "cell_type": "markdown",
   "id": "6979d93f",
   "metadata": {
    "heading_collapsed": true,
    "hidden": true
   },
   "source": [
    "## 1.3 CHECKING NA DATA"
   ]
  },
  {
   "cell_type": "code",
   "execution_count": 10,
   "id": "c0f4d95b",
   "metadata": {
    "ExecuteTime": {
     "end_time": "2022-08-08T17:59:45.460412Z",
     "start_time": "2022-08-08T17:59:45.023667Z"
    },
    "hidden": true
   },
   "outputs": [
    {
     "data": {
      "text/plain": [
       "id                      0\n",
       "gender                  0\n",
       "age                     0\n",
       "region_code             0\n",
       "policy_sales_channel    0\n",
       "driving_license         0\n",
       "vehicle_age             0\n",
       "vehicle_damage          0\n",
       "previously_insured      0\n",
       "annual_premium          0\n",
       "vintage                 0\n",
       "response                0\n",
       "dtype: int64"
      ]
     },
     "execution_count": 10,
     "metadata": {},
     "output_type": "execute_result"
    }
   ],
   "source": [
    "df1.isna().sum()"
   ]
  },
  {
   "cell_type": "markdown",
   "id": "44d183b1",
   "metadata": {
    "ExecuteTime": {
     "end_time": "2022-07-06T22:07:48.426206Z",
     "start_time": "2022-07-06T22:07:48.422303Z"
    },
    "heading_collapsed": true,
    "hidden": true
   },
   "source": [
    "## 1.4 CHANGING TYPES"
   ]
  },
  {
   "cell_type": "code",
   "execution_count": 11,
   "id": "95e73aae",
   "metadata": {
    "ExecuteTime": {
     "end_time": "2022-08-08T17:59:45.505871Z",
     "start_time": "2022-08-08T17:59:45.465751Z"
    },
    "hidden": true
   },
   "outputs": [],
   "source": [
    "df1['region_code'] = df1['region_code'].astype('int64')\n",
    "df1['policy_sales_channel'] = df1['policy_sales_channel'].astype('int64')"
   ]
  },
  {
   "cell_type": "markdown",
   "id": "eb0f61a8",
   "metadata": {
    "heading_collapsed": true,
    "hidden": true
   },
   "source": [
    "## 1.5 STATISTIC DESCRIPTION"
   ]
  },
  {
   "cell_type": "code",
   "execution_count": 12,
   "id": "140ac041",
   "metadata": {
    "ExecuteTime": {
     "end_time": "2022-08-08T17:59:45.527543Z",
     "start_time": "2022-08-08T17:59:45.505871Z"
    },
    "hidden": true
   },
   "outputs": [],
   "source": [
    "num_attributes = df1.select_dtypes(include=['int64','float64'])\n",
    "cat_attributes = df1.select_dtypes(exclude=['int64','float64','datetime64[ns]'])"
   ]
  },
  {
   "cell_type": "markdown",
   "id": "ff293260",
   "metadata": {
    "heading_collapsed": true,
    "hidden": true
   },
   "source": [
    "### 1.5.1 NUMERICAL ATTRIBUTES"
   ]
  },
  {
   "cell_type": "code",
   "execution_count": 13,
   "id": "46258641",
   "metadata": {
    "ExecuteTime": {
     "end_time": "2022-08-08T17:59:47.353629Z",
     "start_time": "2022-08-08T17:59:45.527543Z"
    },
    "hidden": true
   },
   "outputs": [
    {
     "data": {
      "text/html": [
       "<div>\n",
       "<style scoped>\n",
       "    .dataframe tbody tr th:only-of-type {\n",
       "        vertical-align: middle;\n",
       "    }\n",
       "\n",
       "    .dataframe tbody tr th {\n",
       "        vertical-align: top;\n",
       "    }\n",
       "\n",
       "    .dataframe thead th {\n",
       "        text-align: right;\n",
       "    }\n",
       "</style>\n",
       "<table border=\"1\" class=\"dataframe\">\n",
       "  <thead>\n",
       "    <tr style=\"text-align: right;\">\n",
       "      <th></th>\n",
       "      <th>attributes</th>\n",
       "      <th>min</th>\n",
       "      <th>max</th>\n",
       "      <th>range</th>\n",
       "      <th>mean</th>\n",
       "      <th>median</th>\n",
       "      <th>std</th>\n",
       "      <th>skew</th>\n",
       "      <th>kurtosis</th>\n",
       "    </tr>\n",
       "  </thead>\n",
       "  <tbody>\n",
       "    <tr>\n",
       "      <th>0</th>\n",
       "      <td>id</td>\n",
       "      <td>1.0</td>\n",
       "      <td>381109.0</td>\n",
       "      <td>381108.0</td>\n",
       "      <td>190555.000000</td>\n",
       "      <td>190555.0</td>\n",
       "      <td>110016.691870</td>\n",
       "      <td>9.443274e-16</td>\n",
       "      <td>-1.200000</td>\n",
       "    </tr>\n",
       "    <tr>\n",
       "      <th>1</th>\n",
       "      <td>age</td>\n",
       "      <td>20.0</td>\n",
       "      <td>85.0</td>\n",
       "      <td>65.0</td>\n",
       "      <td>38.822584</td>\n",
       "      <td>36.0</td>\n",
       "      <td>15.511591</td>\n",
       "      <td>6.725390e-01</td>\n",
       "      <td>-0.565655</td>\n",
       "    </tr>\n",
       "    <tr>\n",
       "      <th>2</th>\n",
       "      <td>region_code</td>\n",
       "      <td>0.0</td>\n",
       "      <td>52.0</td>\n",
       "      <td>52.0</td>\n",
       "      <td>26.388807</td>\n",
       "      <td>28.0</td>\n",
       "      <td>13.229871</td>\n",
       "      <td>-1.152664e-01</td>\n",
       "      <td>-0.867857</td>\n",
       "    </tr>\n",
       "    <tr>\n",
       "      <th>3</th>\n",
       "      <td>policy_sales_channel</td>\n",
       "      <td>1.0</td>\n",
       "      <td>163.0</td>\n",
       "      <td>162.0</td>\n",
       "      <td>112.034295</td>\n",
       "      <td>133.0</td>\n",
       "      <td>54.203924</td>\n",
       "      <td>-9.000081e-01</td>\n",
       "      <td>-0.970810</td>\n",
       "    </tr>\n",
       "    <tr>\n",
       "      <th>4</th>\n",
       "      <td>driving_license</td>\n",
       "      <td>0.0</td>\n",
       "      <td>1.0</td>\n",
       "      <td>1.0</td>\n",
       "      <td>0.997869</td>\n",
       "      <td>1.0</td>\n",
       "      <td>0.046109</td>\n",
       "      <td>-2.159518e+01</td>\n",
       "      <td>464.354302</td>\n",
       "    </tr>\n",
       "    <tr>\n",
       "      <th>5</th>\n",
       "      <td>previously_insured</td>\n",
       "      <td>0.0</td>\n",
       "      <td>1.0</td>\n",
       "      <td>1.0</td>\n",
       "      <td>0.458210</td>\n",
       "      <td>0.0</td>\n",
       "      <td>0.498251</td>\n",
       "      <td>1.677471e-01</td>\n",
       "      <td>-1.971871</td>\n",
       "    </tr>\n",
       "    <tr>\n",
       "      <th>6</th>\n",
       "      <td>annual_premium</td>\n",
       "      <td>2630.0</td>\n",
       "      <td>540165.0</td>\n",
       "      <td>537535.0</td>\n",
       "      <td>30564.389581</td>\n",
       "      <td>31669.0</td>\n",
       "      <td>17213.132474</td>\n",
       "      <td>1.766087e+00</td>\n",
       "      <td>34.004569</td>\n",
       "    </tr>\n",
       "    <tr>\n",
       "      <th>7</th>\n",
       "      <td>vintage</td>\n",
       "      <td>10.0</td>\n",
       "      <td>299.0</td>\n",
       "      <td>289.0</td>\n",
       "      <td>154.347397</td>\n",
       "      <td>154.0</td>\n",
       "      <td>83.671194</td>\n",
       "      <td>3.029517e-03</td>\n",
       "      <td>-1.200688</td>\n",
       "    </tr>\n",
       "    <tr>\n",
       "      <th>8</th>\n",
       "      <td>response</td>\n",
       "      <td>0.0</td>\n",
       "      <td>1.0</td>\n",
       "      <td>1.0</td>\n",
       "      <td>0.122563</td>\n",
       "      <td>0.0</td>\n",
       "      <td>0.327935</td>\n",
       "      <td>2.301906e+00</td>\n",
       "      <td>3.298788</td>\n",
       "    </tr>\n",
       "  </tbody>\n",
       "</table>\n",
       "</div>"
      ],
      "text/plain": [
       "             attributes     min       max     range           mean    median            std          skew    kurtosis\n",
       "0                    id     1.0  381109.0  381108.0  190555.000000  190555.0  110016.691870  9.443274e-16   -1.200000\n",
       "1                   age    20.0      85.0      65.0      38.822584      36.0      15.511591  6.725390e-01   -0.565655\n",
       "2           region_code     0.0      52.0      52.0      26.388807      28.0      13.229871 -1.152664e-01   -0.867857\n",
       "3  policy_sales_channel     1.0     163.0     162.0     112.034295     133.0      54.203924 -9.000081e-01   -0.970810\n",
       "4       driving_license     0.0       1.0       1.0       0.997869       1.0       0.046109 -2.159518e+01  464.354302\n",
       "5    previously_insured     0.0       1.0       1.0       0.458210       0.0       0.498251  1.677471e-01   -1.971871\n",
       "6        annual_premium  2630.0  540165.0  537535.0   30564.389581   31669.0   17213.132474  1.766087e+00   34.004569\n",
       "7               vintage    10.0     299.0     289.0     154.347397     154.0      83.671194  3.029517e-03   -1.200688\n",
       "8              response     0.0       1.0       1.0       0.122563       0.0       0.327935  2.301906e+00    3.298788"
      ]
     },
     "execution_count": 13,
     "metadata": {},
     "output_type": "execute_result"
    }
   ],
   "source": [
    "# Central tendency: mean, median\n",
    "ct1 = pd.DataFrame(num_attributes.apply(np.mean)).T\n",
    "ct2 = pd.DataFrame(num_attributes.apply(np.median)).T\n",
    "\n",
    "#Dispersion: std, min, max, range, skew, kurtosis\n",
    "d1 = pd.DataFrame(num_attributes.apply(np.std)).T\n",
    "d2 = pd.DataFrame(num_attributes.apply(min)).T\n",
    "d3 = pd.DataFrame(num_attributes.apply(max)).T\n",
    "d4 = pd.DataFrame(num_attributes.apply(lambda x: x.max()-x.min())).T\n",
    "d5 = pd.DataFrame(num_attributes.apply(lambda x: x.skew())).T\n",
    "d6 = pd.DataFrame(num_attributes.apply(lambda x: x.kurtosis())).T\n",
    "\n",
    "#Concatenate\n",
    "m = pd.concat([d2, d3, d4, ct1, ct2, d1, d5, d6]).T.reset_index()\n",
    "m.columns=['attributes','min','max','range','mean','median','std','skew','kurtosis']\n",
    "m"
   ]
  },
  {
   "cell_type": "markdown",
   "id": "ecfc6e16",
   "metadata": {
    "hidden": true
   },
   "source": [
    "### 1.5.2 CATEGORICAL ATTRIBUTES"
   ]
  },
  {
   "cell_type": "code",
   "execution_count": 14,
   "id": "7a3d1b3d",
   "metadata": {
    "ExecuteTime": {
     "end_time": "2022-08-08T17:59:47.615335Z",
     "start_time": "2022-08-08T17:59:47.353629Z"
    },
    "hidden": true
   },
   "outputs": [
    {
     "data": {
      "text/plain": [
       "gender                             [Male, Female]\n",
       "vehicle_age       [> 2 Years, 1-2 Year, < 1 Year]\n",
       "vehicle_damage                          [Yes, No]\n",
       "dtype: object"
      ]
     },
     "execution_count": 14,
     "metadata": {},
     "output_type": "execute_result"
    }
   ],
   "source": [
    "cat_attributes.apply(lambda x: x.unique())"
   ]
  },
  {
   "cell_type": "markdown",
   "id": "00627b59",
   "metadata": {
    "heading_collapsed": true
   },
   "source": [
    "# 2.0 FEATURE ENGINEERING"
   ]
  },
  {
   "cell_type": "code",
   "execution_count": 15,
   "id": "65d8f95e",
   "metadata": {
    "ExecuteTime": {
     "end_time": "2022-08-08T17:59:47.711348Z",
     "start_time": "2022-08-08T17:59:47.615335Z"
    },
    "hidden": true
   },
   "outputs": [],
   "source": [
    "df2 = df1.copy()"
   ]
  },
  {
   "cell_type": "markdown",
   "id": "c4773f18",
   "metadata": {
    "heading_collapsed": true,
    "hidden": true
   },
   "source": [
    "## 2.1 HYPOTHESIS LIST"
   ]
  },
  {
   "cell_type": "markdown",
   "id": "53ac3902",
   "metadata": {
    "hidden": true
   },
   "source": [
    "1. Older people will be more interested.\n",
    "2. People with a drivers license will be more interested.\n",
    "3. People previously ensured will be more interested.\n",
    "4. People with lower annual premium are the most interested.\n",
    "5. People with higher vehicle age will be more interested.\n",
    "6. People that had their vehicle damaged will be more interested."
   ]
  },
  {
   "cell_type": "markdown",
   "id": "c46cc915",
   "metadata": {
    "heading_collapsed": true,
    "hidden": true
   },
   "source": [
    "## 2.2 FEATURE ENGINEERING"
   ]
  },
  {
   "cell_type": "code",
   "execution_count": 16,
   "id": "7189e64b",
   "metadata": {
    "ExecuteTime": {
     "end_time": "2022-08-08T17:59:48.421701Z",
     "start_time": "2022-08-08T17:59:47.711348Z"
    },
    "hidden": true
   },
   "outputs": [
    {
     "data": {
      "text/html": [
       "<div>\n",
       "<style scoped>\n",
       "    .dataframe tbody tr th:only-of-type {\n",
       "        vertical-align: middle;\n",
       "    }\n",
       "\n",
       "    .dataframe tbody tr th {\n",
       "        vertical-align: top;\n",
       "    }\n",
       "\n",
       "    .dataframe thead th {\n",
       "        text-align: right;\n",
       "    }\n",
       "</style>\n",
       "<table border=\"1\" class=\"dataframe\">\n",
       "  <thead>\n",
       "    <tr style=\"text-align: right;\">\n",
       "      <th></th>\n",
       "      <th>id</th>\n",
       "      <th>gender</th>\n",
       "      <th>age</th>\n",
       "      <th>region_code</th>\n",
       "      <th>policy_sales_channel</th>\n",
       "      <th>driving_license</th>\n",
       "      <th>vehicle_age</th>\n",
       "      <th>vehicle_damage</th>\n",
       "      <th>previously_insured</th>\n",
       "      <th>annual_premium</th>\n",
       "      <th>vintage</th>\n",
       "      <th>response</th>\n",
       "    </tr>\n",
       "  </thead>\n",
       "  <tbody>\n",
       "    <tr>\n",
       "      <th>0</th>\n",
       "      <td>1</td>\n",
       "      <td>Male</td>\n",
       "      <td>44</td>\n",
       "      <td>28</td>\n",
       "      <td>26</td>\n",
       "      <td>1</td>\n",
       "      <td>over_2_years</td>\n",
       "      <td>1</td>\n",
       "      <td>0</td>\n",
       "      <td>40454.0</td>\n",
       "      <td>217</td>\n",
       "      <td>1</td>\n",
       "    </tr>\n",
       "    <tr>\n",
       "      <th>1</th>\n",
       "      <td>2</td>\n",
       "      <td>Male</td>\n",
       "      <td>76</td>\n",
       "      <td>3</td>\n",
       "      <td>26</td>\n",
       "      <td>1</td>\n",
       "      <td>between_1_2_years</td>\n",
       "      <td>0</td>\n",
       "      <td>0</td>\n",
       "      <td>33536.0</td>\n",
       "      <td>183</td>\n",
       "      <td>0</td>\n",
       "    </tr>\n",
       "    <tr>\n",
       "      <th>2</th>\n",
       "      <td>3</td>\n",
       "      <td>Male</td>\n",
       "      <td>47</td>\n",
       "      <td>28</td>\n",
       "      <td>26</td>\n",
       "      <td>1</td>\n",
       "      <td>over_2_years</td>\n",
       "      <td>1</td>\n",
       "      <td>0</td>\n",
       "      <td>38294.0</td>\n",
       "      <td>27</td>\n",
       "      <td>1</td>\n",
       "    </tr>\n",
       "    <tr>\n",
       "      <th>3</th>\n",
       "      <td>4</td>\n",
       "      <td>Male</td>\n",
       "      <td>21</td>\n",
       "      <td>11</td>\n",
       "      <td>152</td>\n",
       "      <td>1</td>\n",
       "      <td>under_1_year</td>\n",
       "      <td>0</td>\n",
       "      <td>1</td>\n",
       "      <td>28619.0</td>\n",
       "      <td>203</td>\n",
       "      <td>0</td>\n",
       "    </tr>\n",
       "    <tr>\n",
       "      <th>4</th>\n",
       "      <td>5</td>\n",
       "      <td>Female</td>\n",
       "      <td>29</td>\n",
       "      <td>41</td>\n",
       "      <td>152</td>\n",
       "      <td>1</td>\n",
       "      <td>under_1_year</td>\n",
       "      <td>0</td>\n",
       "      <td>1</td>\n",
       "      <td>27496.0</td>\n",
       "      <td>39</td>\n",
       "      <td>0</td>\n",
       "    </tr>\n",
       "  </tbody>\n",
       "</table>\n",
       "</div>"
      ],
      "text/plain": [
       "   id  gender  age  region_code  policy_sales_channel  driving_license        vehicle_age  vehicle_damage  previously_insured  annual_premium  vintage  response\n",
       "0   1    Male   44           28                    26                1       over_2_years               1                   0         40454.0      217         1\n",
       "1   2    Male   76            3                    26                1  between_1_2_years               0                   0         33536.0      183         0\n",
       "2   3    Male   47           28                    26                1       over_2_years               1                   0         38294.0       27         1\n",
       "3   4    Male   21           11                   152                1       under_1_year               0                   1         28619.0      203         0\n",
       "4   5  Female   29           41                   152                1       under_1_year               0                   1         27496.0       39         0"
      ]
     },
     "execution_count": 16,
     "metadata": {},
     "output_type": "execute_result"
    }
   ],
   "source": [
    "ins_cat = df2[['driving_license','previously_insured','response']]\n",
    "cat_attributes = cat_attributes.join(ins_cat)\n",
    "num_attributes = num_attributes.drop(ins_cat,axis=1)\n",
    "\n",
    "# vehicle age\n",
    "dict_vehicle_age = {'> 2 Years':'over_2_years', '1-2 Year':'between_1_2_years', '< 1 Year':'under_1_year'}\n",
    "df2['vehicle_age'] = df2['vehicle_age'].map(dict_vehicle_age)\n",
    "cat_attributes['vehicle_age'] = cat_attributes['vehicle_age'].map(dict_vehicle_age)\n",
    "\n",
    "# vehicle damage\n",
    "dict_vehicle_damage = {'Yes': 1, 'No': 0}\n",
    "df2['vehicle_damage'] = df2['vehicle_damage'].map(dict_vehicle_damage)\n",
    "cat_attributes['vehicle_damage'] = cat_attributes['vehicle_damage'].map(dict_vehicle_damage)\n",
    "\n",
    "df2.head()"
   ]
  },
  {
   "cell_type": "markdown",
   "id": "863a0131",
   "metadata": {
    "heading_collapsed": true
   },
   "source": [
    "# 3.0 EXPLORATORY DATA ANALYSIS"
   ]
  },
  {
   "cell_type": "code",
   "execution_count": 17,
   "id": "c1577b55",
   "metadata": {
    "ExecuteTime": {
     "end_time": "2022-08-08T17:59:48.541167Z",
     "start_time": "2022-08-08T17:59:48.421701Z"
    },
    "hidden": true
   },
   "outputs": [],
   "source": [
    "df3 = df2.copy()"
   ]
  },
  {
   "cell_type": "markdown",
   "id": "868c2e13",
   "metadata": {
    "hidden": true
   },
   "source": [
    "## 3.1 UNIVARIATE ANALYSIS"
   ]
  },
  {
   "cell_type": "code",
   "execution_count": 18,
   "id": "509b8b68",
   "metadata": {
    "ExecuteTime": {
     "end_time": "2022-08-08T17:59:55.274479Z",
     "start_time": "2022-08-08T17:59:48.545993Z"
    },
    "hidden": true,
    "hide_input": false
   },
   "outputs": [
    {
     "data": {
      "image/png": "[encoded data removed]",
      "text/plain": [
       "<Figure size 1080x576 with 3 Axes>"
      ]
     },
     "metadata": {},
     "output_type": "display_data"
    }
   ],
   "source": [
    "#age\n",
    "plt.subplot(1,3,1)\n",
    "sns.boxplot(x='response',y='age',data=df3);\n",
    "\n",
    "aux_0 = df3.loc[df3['response']==0,'age']\n",
    "plt.subplot(1,3,2)\n",
    "sns.histplot(aux_0);\n",
    "\n",
    "aux_1 = df3.loc[df3['response']==1,'age']\n",
    "plt.subplot(1,3,3)\n",
    "sns.histplot(aux_1);"
   ]
  },
  {
   "cell_type": "code",
   "execution_count": 19,
   "id": "ca6459b9",
   "metadata": {
    "ExecuteTime": {
     "end_time": "2022-08-08T18:00:01.582265Z",
     "start_time": "2022-08-08T17:59:55.277555Z"
    },
    "hidden": true,
    "hide_input": false
   },
   "outputs": [
    {
     "data": {
      "image/png": "[encoded data removed]",
      "text/plain": [
       "<Figure size 1080x576 with 3 Axes>"
      ]
     },
     "metadata": {},
     "output_type": "display_data"
    }
   ],
   "source": [
    "#annual_premium\n",
    "plt.subplot(1,3,1)\n",
    "aux = df3[(df3['annual_premium']<80000) & (df3['annual_premium']>10000)]\n",
    "sns.boxplot(x='response',y='annual_premium',data=aux);\n",
    "\n",
    "aux_0 = aux.loc[df3['response']==0,'annual_premium']\n",
    "plt.subplot(1,3,2)\n",
    "sns.histplot(aux_0);\n",
    "\n",
    "aux_1 = aux.loc[df3['response']==1,'annual_premium']\n",
    "plt.subplot(1,3,3)\n",
    "sns.histplot(aux_1);"
   ]
  },
  {
   "cell_type": "code",
   "execution_count": 20,
   "id": "9f69e7ff",
   "metadata": {
    "ExecuteTime": {
     "end_time": "2022-08-08T18:00:01.682222Z",
     "start_time": "2022-08-08T18:00:01.587019Z"
    },
    "hidden": true,
    "hide_input": false
   },
   "outputs": [
    {
     "data": {
      "text/html": [
       "<div>\n",
       "<style scoped>\n",
       "    .dataframe tbody tr th:only-of-type {\n",
       "        vertical-align: middle;\n",
       "    }\n",
       "\n",
       "    .dataframe tbody tr th {\n",
       "        vertical-align: top;\n",
       "    }\n",
       "\n",
       "    .dataframe thead th {\n",
       "        text-align: right;\n",
       "    }\n",
       "</style>\n",
       "<table border=\"1\" class=\"dataframe\">\n",
       "  <thead>\n",
       "    <tr style=\"text-align: right;\">\n",
       "      <th></th>\n",
       "      <th>response</th>\n",
       "      <th>driving_license</th>\n",
       "      <th>driving_license_perc</th>\n",
       "    </tr>\n",
       "  </thead>\n",
       "  <tbody>\n",
       "    <tr>\n",
       "      <th>0</th>\n",
       "      <td>0</td>\n",
       "      <td>333628</td>\n",
       "      <td>0.877283</td>\n",
       "    </tr>\n",
       "    <tr>\n",
       "      <th>1</th>\n",
       "      <td>1</td>\n",
       "      <td>46669</td>\n",
       "      <td>0.122717</td>\n",
       "    </tr>\n",
       "  </tbody>\n",
       "</table>\n",
       "</div>"
      ],
      "text/plain": [
       "   response  driving_license  driving_license_perc\n",
       "0         0           333628              0.877283\n",
       "1         1            46669              0.122717"
      ]
     },
     "execution_count": 20,
     "metadata": {},
     "output_type": "execute_result"
    }
   ],
   "source": [
    "#driving_license\n",
    "aux = df3[['driving_license','response']].groupby('response').sum().reset_index()\n",
    "aux.head()\n",
    "aux['driving_license_perc'] = aux['driving_license']/aux['driving_license'].sum()\n",
    "aux"
   ]
  },
  {
   "cell_type": "code",
   "execution_count": 21,
   "id": "502049ca",
   "metadata": {
    "ExecuteTime": {
     "end_time": "2022-08-08T18:00:02.406559Z",
     "start_time": "2022-08-08T18:00:01.682222Z"
    },
    "hidden": true,
    "hide_input": false
   },
   "outputs": [
    {
     "data": {
      "image/png": "[encoded data removed]",
      "text/plain": [
       "<Figure size 1080x576 with 1 Axes>"
      ]
     },
     "metadata": {},
     "output_type": "display_data"
    }
   ],
   "source": [
    "#region_code\n",
    "aux = df3[['id','region_code','response']].groupby(['region_code','response']).count().reset_index()\n",
    "sns.scatterplot(x='region_code',y='id',hue='response',data=aux);"
   ]
  },
  {
   "cell_type": "code",
   "execution_count": 22,
   "id": "854babdc",
   "metadata": {
    "ExecuteTime": {
     "end_time": "2022-08-08T18:00:02.574681Z",
     "start_time": "2022-08-08T18:00:02.406559Z"
    },
    "hidden": true,
    "hide_input": false
   },
   "outputs": [
    {
     "data": {
      "text/html": [
       "<div>\n",
       "<style scoped>\n",
       "    .dataframe tbody tr th:only-of-type {\n",
       "        vertical-align: middle;\n",
       "    }\n",
       "\n",
       "    .dataframe tbody tr th {\n",
       "        vertical-align: top;\n",
       "    }\n",
       "\n",
       "    .dataframe thead th {\n",
       "        text-align: right;\n",
       "    }\n",
       "</style>\n",
       "<table border=\"1\" class=\"dataframe\">\n",
       "  <thead>\n",
       "    <tr style=\"text-align: right;\">\n",
       "      <th>response</th>\n",
       "      <th>0</th>\n",
       "      <th>1</th>\n",
       "    </tr>\n",
       "    <tr>\n",
       "      <th>previously_insured</th>\n",
       "      <th></th>\n",
       "      <th></th>\n",
       "    </tr>\n",
       "  </thead>\n",
       "  <tbody>\n",
       "    <tr>\n",
       "      <th>0</th>\n",
       "      <td>0.774546</td>\n",
       "      <td>0.225454</td>\n",
       "    </tr>\n",
       "    <tr>\n",
       "      <th>1</th>\n",
       "      <td>0.999095</td>\n",
       "      <td>0.000905</td>\n",
       "    </tr>\n",
       "  </tbody>\n",
       "</table>\n",
       "</div>"
      ],
      "text/plain": [
       "response                   0         1\n",
       "previously_insured                    \n",
       "0                   0.774546  0.225454\n",
       "1                   0.999095  0.000905"
      ]
     },
     "execution_count": 22,
     "metadata": {},
     "output_type": "execute_result"
    }
   ],
   "source": [
    "#previously_insured\n",
    "pd.crosstab(df3['previously_insured'],df3['response']).apply(lambda x: x/x.sum(),axis=1)"
   ]
  },
  {
   "cell_type": "code",
   "execution_count": 23,
   "id": "b219dec7",
   "metadata": {
    "ExecuteTime": {
     "end_time": "2022-08-08T18:00:02.786610Z",
     "start_time": "2022-08-08T18:00:02.574681Z"
    },
    "hidden": true,
    "hide_input": false
   },
   "outputs": [
    {
     "data": {
      "text/html": [
       "<div>\n",
       "<style scoped>\n",
       "    .dataframe tbody tr th:only-of-type {\n",
       "        vertical-align: middle;\n",
       "    }\n",
       "\n",
       "    .dataframe tbody tr th {\n",
       "        vertical-align: top;\n",
       "    }\n",
       "\n",
       "    .dataframe thead th {\n",
       "        text-align: right;\n",
       "    }\n",
       "</style>\n",
       "<table border=\"1\" class=\"dataframe\">\n",
       "  <thead>\n",
       "    <tr style=\"text-align: right;\">\n",
       "      <th></th>\n",
       "      <th>vehicle_age</th>\n",
       "      <th>response</th>\n",
       "      <th>0</th>\n",
       "    </tr>\n",
       "  </thead>\n",
       "  <tbody>\n",
       "    <tr>\n",
       "      <th>0</th>\n",
       "      <td>between_1_2_years</td>\n",
       "      <td>0</td>\n",
       "      <td>0.434285</td>\n",
       "    </tr>\n",
       "    <tr>\n",
       "      <th>2</th>\n",
       "      <td>between_1_2_years</td>\n",
       "      <td>1</td>\n",
       "      <td>0.091328</td>\n",
       "    </tr>\n",
       "    <tr>\n",
       "      <th>3</th>\n",
       "      <td>over_2_years</td>\n",
       "      <td>0</td>\n",
       "      <td>0.029663</td>\n",
       "    </tr>\n",
       "    <tr>\n",
       "      <th>5</th>\n",
       "      <td>over_2_years</td>\n",
       "      <td>1</td>\n",
       "      <td>0.012338</td>\n",
       "    </tr>\n",
       "    <tr>\n",
       "      <th>1</th>\n",
       "      <td>under_1_year</td>\n",
       "      <td>0</td>\n",
       "      <td>0.413488</td>\n",
       "    </tr>\n",
       "    <tr>\n",
       "      <th>4</th>\n",
       "      <td>under_1_year</td>\n",
       "      <td>1</td>\n",
       "      <td>0.018897</td>\n",
       "    </tr>\n",
       "  </tbody>\n",
       "</table>\n",
       "</div>"
      ],
      "text/plain": [
       "         vehicle_age  response         0\n",
       "0  between_1_2_years         0  0.434285\n",
       "2  between_1_2_years         1  0.091328\n",
       "3       over_2_years         0  0.029663\n",
       "5       over_2_years         1  0.012338\n",
       "1       under_1_year         0  0.413488\n",
       "4       under_1_year         1  0.018897"
      ]
     },
     "execution_count": 23,
     "metadata": {},
     "output_type": "execute_result"
    }
   ],
   "source": [
    "#vehicle_age\n",
    "df3[['vehicle_age','response']].value_counts(normalize=True).reset_index().sort_values('vehicle_age')"
   ]
  },
  {
   "cell_type": "code",
   "execution_count": 24,
   "id": "bfff9d41",
   "metadata": {
    "ExecuteTime": {
     "end_time": "2022-08-08T18:00:07.001459Z",
     "start_time": "2022-08-08T18:00:02.792763Z"
    },
    "hidden": true,
    "hide_input": false
   },
   "outputs": [
    {
     "data": {
      "image/png": "[encoded data removed]",
      "text/plain": [
       "<Figure size 1728x864 with 1 Axes>"
      ]
     },
     "metadata": {},
     "output_type": "display_data"
    }
   ],
   "source": [
    "#policy_sales_channel\n",
    "plt.figure(figsize=(24,12))\n",
    "aux = df3[['policy_sales_channel','response']].groupby('policy_sales_channel').sum().reset_index()\n",
    "sns.barplot(x='response',y='policy_sales_channel',data=aux);"
   ]
  },
  {
   "cell_type": "code",
   "execution_count": 25,
   "id": "ec246b7c",
   "metadata": {
    "ExecuteTime": {
     "end_time": "2022-08-08T18:00:13.959155Z",
     "start_time": "2022-08-08T18:00:07.007931Z"
    },
    "hidden": true,
    "hide_input": false
   },
   "outputs": [
    {
     "data": {
      "image/png": "[encoded data removed]",
      "text/plain": [
       "<Figure size 1080x576 with 3 Axes>"
      ]
     },
     "metadata": {},
     "output_type": "display_data"
    }
   ],
   "source": [
    "#vintage\n",
    "plt.subplot(1,3,1)\n",
    "sns.boxplot(x='response',y='vintage',data=df3);\n",
    "\n",
    "aux_0 = df3.loc[df3['response']==0,'vintage']\n",
    "plt.subplot(1,3,2)\n",
    "sns.histplot(aux_0);\n",
    "\n",
    "aux_1 = df3.loc[df3['response']==1,'vintage']\n",
    "plt.subplot(1,3,3)\n",
    "sns.histplot(aux_1);"
   ]
  },
  {
   "cell_type": "markdown",
   "id": "f1c4ef75",
   "metadata": {
    "hidden": true
   },
   "source": [
    "## 3.2 BIVARIATE ANALYSIS"
   ]
  },
  {
   "cell_type": "code",
   "execution_count": 26,
   "id": "71c7971c",
   "metadata": {
    "ExecuteTime": {
     "end_time": "2022-08-08T18:00:14.005407Z",
     "start_time": "2022-08-08T18:00:13.959155Z"
    },
    "hidden": true
   },
   "outputs": [
    {
     "data": {
      "text/plain": [
       "Index(['id', 'gender', 'age', 'region_code', 'policy_sales_channel',\n",
       "       'driving_license', 'vehicle_age', 'vehicle_damage',\n",
       "       'previously_insured', 'annual_premium', 'vintage', 'response'],\n",
       "      dtype='object')"
      ]
     },
     "execution_count": 26,
     "metadata": {},
     "output_type": "execute_result"
    }
   ],
   "source": [
    "aux32 = df3[df3['response']==1]\n",
    "aux32.columns"
   ]
  },
  {
   "cell_type": "markdown",
   "id": "ba273a2a",
   "metadata": {
    "heading_collapsed": true,
    "hidden": true,
    "hide_input": false
   },
   "source": [
    "### 1. Older people will be more interested.\n",
    "**FALSE.** The people that are more interested are around the median."
   ]
  },
  {
   "cell_type": "code",
   "execution_count": 27,
   "id": "720c2c55",
   "metadata": {
    "ExecuteTime": {
     "end_time": "2022-08-08T18:00:15.249151Z",
     "start_time": "2022-08-08T18:00:14.006908Z"
    },
    "hidden": true,
    "hide_input": true,
    "scrolled": false
   },
   "outputs": [
    {
     "data": {
      "image/png": "[encoded data removed]",
      "text/plain": [
       "<Figure size 1080x576 with 3 Axes>"
      ]
     },
     "metadata": {},
     "output_type": "display_data"
    }
   ],
   "source": [
    "h1 = df3[['age','response']].groupby('age').count().reset_index()\n",
    "h11 = aux32[['age','response']].groupby('age').count().reset_index()\n",
    "h111 = pd.merge(h1,h11,on='age',how='left')\n",
    "h111 = h111.fillna(0)\n",
    "\n",
    "h111['percentage'] = (h111['response_y']/h111['response_x']) *100\n",
    "\n",
    "bins = list(np.arange(19,90,10))\n",
    "\n",
    "h111['age_binned'] = pd.cut(h111['age'],bins=bins)\n",
    "h12 = h111[['age_binned','percentage']].groupby('age_binned').mean().reset_index()\n",
    "\n",
    "\n",
    "plt.subplot(1,2,1)\n",
    "sns.barplot(x='age_binned',y='percentage',data=h12);\n",
    "#plt.xticks(rotation=90);\n",
    "\n",
    "plt.subplot(1,2,2)\n",
    "h111.drop(['response_x','response_y'],inplace=True,axis=1)\n",
    "sns.heatmap(h111.corr(method='pearson'),annot=True);\n"
   ]
  },
  {
   "cell_type": "markdown",
   "id": "a4c428e5",
   "metadata": {
    "heading_collapsed": true,
    "hidden": true,
    "hide_input": true
   },
   "source": [
    "### 2. People with a drivers license will be more interested.\n",
    "**TRUE.** People with a drivers license are more interested."
   ]
  },
  {
   "cell_type": "code",
   "execution_count": 28,
   "id": "0ececf05",
   "metadata": {
    "ExecuteTime": {
     "end_time": "2022-08-08T18:00:15.653977Z",
     "start_time": "2022-08-08T18:00:15.258627Z"
    },
    "hidden": true,
    "hide_input": true
   },
   "outputs": [
    {
     "data": {
      "image/png": "[encoded data removed]",
      "text/plain": [
       "<Figure size 1080x576 with 1 Axes>"
      ]
     },
     "metadata": {},
     "output_type": "display_data"
    }
   ],
   "source": [
    "h2 = df3[['driving_license','response']].groupby('driving_license').count().reset_index()\n",
    "h21 = aux32[['driving_license','response']].groupby('driving_license').count().reset_index()\n",
    "h21['percentage'] = (h21['response']/h2['response']) *100\n",
    "\n",
    "sns.barplot(x='driving_license',y='percentage',data=h21);"
   ]
  },
  {
   "cell_type": "markdown",
   "id": "e4469ed7",
   "metadata": {
    "heading_collapsed": true,
    "hidden": true
   },
   "source": [
    "### 3. People previously ensured will be more interested.\n",
    "**FALSE.** People previously ensured are less interested."
   ]
  },
  {
   "cell_type": "code",
   "execution_count": 29,
   "id": "358558d4",
   "metadata": {
    "ExecuteTime": {
     "end_time": "2022-08-08T18:00:15.727951Z",
     "start_time": "2022-08-08T18:00:15.660123Z"
    },
    "hidden": true,
    "hide_input": true
   },
   "outputs": [
    {
     "name": "stdout",
     "output_type": "stream",
     "text": [
      "   previously_insured  percentage\n",
      "0                   0   22.545416\n",
      "1                   1    0.090478\n"
     ]
    }
   ],
   "source": [
    "h3 = df3[['previously_insured','response']].groupby('previously_insured').count().reset_index()\n",
    "h31 = aux32[['previously_insured','response']].groupby('previously_insured').count().reset_index()\n",
    "h31['percentage'] = (h31['response']/h3['response']) *100\n",
    "h31.drop('response',axis=1, inplace=True)\n",
    "\n",
    "print(h31)"
   ]
  },
  {
   "cell_type": "markdown",
   "id": "767009d5",
   "metadata": {
    "heading_collapsed": true,
    "hidden": true,
    "hide_input": true
   },
   "source": [
    "### 4. People with lower annual premium are the most interested.\n",
    "**TRUE.** However, that only applies to the <10k range."
   ]
  },
  {
   "cell_type": "code",
   "execution_count": 30,
   "id": "266615e3",
   "metadata": {
    "ExecuteTime": {
     "end_time": "2022-08-08T18:00:16.789164Z",
     "start_time": "2022-08-08T18:00:15.727951Z"
    },
    "hidden": true,
    "hide_input": true,
    "scrolled": false
   },
   "outputs": [
    {
     "data": {
      "image/png": "[encoded data removed]",
      "text/plain": [
       "<Figure size 1080x576 with 3 Axes>"
      ]
     },
     "metadata": {},
     "output_type": "display_data"
    }
   ],
   "source": [
    "h4 = df3[['annual_premium','response']].groupby('annual_premium').count().reset_index()\n",
    "h41 = aux32[['annual_premium','response']].groupby('annual_premium').count().reset_index()\n",
    "h411 = pd.merge(h4,h41,on='annual_premium',how='left')\n",
    "h411 = h411.fillna(0)\n",
    "h411['percentage'] = (h411['response_y']/h411['response_x']) *100\n",
    "\n",
    "bins = [0, 10000, 20000, 30000, 40000, 50000, 60000]\n",
    "labels = ['<10k','10-20k','20-30k', '30-40k', '40-50k', '> 60k']\n",
    "h411['premium_binned'] = pd.cut(h411['annual_premium'],bins=bins, labels=labels)\n",
    "h42 = h411[['premium_binned','percentage']].groupby('premium_binned').mean().reset_index()\n",
    "\n",
    "plt.subplot(1,2,1)\n",
    "sns.barplot(x='premium_binned',y='percentage',data=h42);\n",
    "\n",
    "plt.subplot(1,2,2)\n",
    "h411.drop(['response_x','response_y'],inplace=True,axis=1)\n",
    "sns.heatmap(h411.corr(method='pearson'),annot=True);"
   ]
  },
  {
   "cell_type": "markdown",
   "id": "47fef906",
   "metadata": {
    "heading_collapsed": true,
    "hidden": true
   },
   "source": [
    "### 5. People with higher vehicle age will be more interested.\n",
    "**TRUE.** People with higher vehicle age are percentually more interested."
   ]
  },
  {
   "cell_type": "code",
   "execution_count": 31,
   "id": "ca221a9a",
   "metadata": {
    "ExecuteTime": {
     "end_time": "2022-08-08T18:00:17.278113Z",
     "start_time": "2022-08-08T18:00:16.789998Z"
    },
    "hidden": true,
    "hide_input": true
   },
   "outputs": [
    {
     "data": {
      "image/png": "[encoded data removed]",
      "text/plain": [
       "<Figure size 1080x576 with 1 Axes>"
      ]
     },
     "metadata": {},
     "output_type": "display_data"
    }
   ],
   "source": [
    "h5 = df3[['vehicle_age','response']].groupby('vehicle_age').count().reset_index()\n",
    "h51 = aux32[['vehicle_age','response']].groupby('vehicle_age').count().reset_index()\n",
    "h511 = pd.merge(h5,h51,on='vehicle_age',how='left')\n",
    "h511 = h511.fillna(0)\n",
    "h511['percentage'] = (h511['response_y']/h511['response_x']) *100\n",
    "\n",
    "order = ['under_1_year','between_1_2_years','over_2_years']\n",
    "sns.barplot(x='vehicle_age',y='percentage',data=h511, order=order);"
   ]
  },
  {
   "cell_type": "markdown",
   "id": "d5093ee1",
   "metadata": {
    "heading_collapsed": true,
    "hidden": true,
    "hide_input": true
   },
   "source": [
    "### 6. People that had their vehicle damaged will be more interested.\n",
    "**TRUE**. People with higher vehicle age are percentually more interested."
   ]
  },
  {
   "cell_type": "code",
   "execution_count": 32,
   "id": "a7375da6",
   "metadata": {
    "ExecuteTime": {
     "end_time": "2022-08-08T18:00:17.668861Z",
     "start_time": "2022-08-08T18:00:17.281721Z"
    },
    "hidden": true,
    "hide_input": true
   },
   "outputs": [
    {
     "data": {
      "image/png": "[encoded data removed]",
      "text/plain": [
       "<Figure size 1080x576 with 1 Axes>"
      ]
     },
     "metadata": {},
     "output_type": "display_data"
    }
   ],
   "source": [
    "h6 = df3[['vehicle_damage','response']].groupby('vehicle_damage').count().reset_index()\n",
    "h61 = aux32[['vehicle_damage','response']].groupby('vehicle_damage').count().reset_index()\n",
    "h611 = pd.merge(h6,h61,on='vehicle_damage',how='left')\n",
    "h611 = h611.fillna(0)\n",
    "h611['percentage'] = (h611['response_y']/h611['response_x']) *100\n",
    "\n",
    "\n",
    "sns.barplot(x='vehicle_damage',y='percentage',data=h611);"
   ]
  },
  {
   "cell_type": "markdown",
   "id": "8eabe929",
   "metadata": {
    "heading_collapsed": true
   },
   "source": [
    "# 4.0 DATA PREPARATION "
   ]
  },
  {
   "cell_type": "code",
   "execution_count": 33,
   "id": "1d0ba985",
   "metadata": {
    "ExecuteTime": {
     "end_time": "2022-08-08T18:00:17.729146Z",
     "start_time": "2022-08-08T18:00:17.673877Z"
    },
    "hidden": true
   },
   "outputs": [],
   "source": [
    "df4 = df3.copy()"
   ]
  },
  {
   "cell_type": "markdown",
   "id": "9d571900",
   "metadata": {
    "hidden": true
   },
   "source": [
    "## 4.1 SPLITTING"
   ]
  },
  {
   "cell_type": "code",
   "execution_count": 34,
   "id": "011c490d",
   "metadata": {
    "ExecuteTime": {
     "end_time": "2022-08-08T18:00:18.297985Z",
     "start_time": "2022-08-08T18:00:17.729146Z"
    },
    "hidden": true
   },
   "outputs": [],
   "source": [
    "X = df4.drop('response',axis=1)\n",
    "y = df4['response'].copy()\n",
    "\n",
    "x_train, x_val, y_train, y_val = ms.train_test_split(X, y, stratify=y, test_size=0.20)\n",
    "\n",
    "df4 = pd.concat([x_train, y_train], axis=1)"
   ]
  },
  {
   "cell_type": "markdown",
   "id": "fc6f1c83",
   "metadata": {
    "hidden": true
   },
   "source": [
    "## 4.1 TRAIN STANDARDIZATION"
   ]
  },
  {
   "cell_type": "code",
   "execution_count": 35,
   "id": "9962799f",
   "metadata": {
    "ExecuteTime": {
     "end_time": "2022-08-08T18:00:18.468931Z",
     "start_time": "2022-08-08T18:00:18.297985Z"
    },
    "hidden": true
   },
   "outputs": [],
   "source": [
    "#annual_premium\n",
    "ss = pp.StandardScaler()\n",
    "df4['annual_premium'] = ss.fit_transform(df4[['annual_premium']].values)"
   ]
  },
  {
   "cell_type": "markdown",
   "id": "0cda6a25",
   "metadata": {
    "hidden": true
   },
   "source": [
    "## 4.2 TRAIN RESCALING"
   ]
  },
  {
   "cell_type": "code",
   "execution_count": 36,
   "id": "021bbc97",
   "metadata": {
    "ExecuteTime": {
     "end_time": "2022-08-08T18:00:18.588557Z",
     "start_time": "2022-08-08T18:00:18.468931Z"
    },
    "hidden": true
   },
   "outputs": [],
   "source": [
    "mms_age = pp.MinMaxScaler()\n",
    "mms_vintage = pp.MinMaxScaler()\n",
    "#age\n",
    "df4['age'] = mms_age.fit_transform(df4[['age']].values)\n",
    "#vintage\n",
    "df4['vintage'] = mms_vintage.fit_transform(df4[['vintage']].values)"
   ]
  },
  {
   "cell_type": "markdown",
   "id": "dee6fc3f",
   "metadata": {
    "hidden": true
   },
   "source": [
    "## 4.3 TRAIN ENCODING "
   ]
  },
  {
   "cell_type": "code",
   "execution_count": 37,
   "id": "5b1b8410",
   "metadata": {
    "ExecuteTime": {
     "end_time": "2022-08-08T18:00:19.258693Z",
     "start_time": "2022-08-08T18:00:18.588557Z"
    },
    "hidden": true
   },
   "outputs": [],
   "source": [
    "# gender - Hot One/ Target Encoding\n",
    "target_encode_gender = df4.groupby('gender')['response'].mean()\n",
    "df4.loc[:,'gender'] = df4['gender'].map(target_encode_gender)\n",
    "\n",
    "#region_code - Frequency/ Target/ Weighted Target \n",
    "target_encode_region_code = df4.groupby('region_code')['response'].mean()\n",
    "df4.loc[:,'region_code'] = df4['region_code'].map(target_encode_region_code)\n",
    "\n",
    "#vehicle_age - One Hot/ Order/ Frequency\n",
    "df4 = pd.get_dummies(df4,prefix='vehicle_age',columns=['vehicle_age'])\n",
    "\n",
    "#policy_sales_channel - Target/ Frequency\n",
    "fe_policy_sales_channel = df4.groupby('policy_sales_channel').size()/len(df4)\n",
    "df4.loc[:,'policy_sales_channel'] = df4['policy_sales_channel'].map(fe_policy_sales_channel)"
   ]
  },
  {
   "cell_type": "markdown",
   "id": "41581052",
   "metadata": {
    "hidden": true
   },
   "source": [
    "## 4.5 VALIDATION PREPARATION"
   ]
  },
  {
   "cell_type": "code",
   "execution_count": 38,
   "id": "1852e61e",
   "metadata": {
    "ExecuteTime": {
     "end_time": "2022-08-08T18:00:19.558748Z",
     "start_time": "2022-08-08T18:00:19.265420Z"
    },
    "hidden": true
   },
   "outputs": [],
   "source": [
    "# gender\n",
    "x_val.loc[:,'gender'] = x_val.loc[:,'gender'].map(target_encode_gender)\n",
    "\n",
    "# age\n",
    "x_val.loc[:,'age'] = mms_age.transform(x_val[['age']].values)\n",
    "\n",
    "# region_code\n",
    "x_val.loc[:,'region_code'] = x_val.loc[:,'region_code'].map(target_encode_region_code)\n",
    "\n",
    "# vehicle_age\n",
    "x_val = pd.get_dummies(x_val,prefix='vehicle_age',columns=['vehicle_age'])\n",
    "\n",
    "# annual_premium\n",
    "x_val.loc[:,'annual_premium'] = ss.transform(x_val[['annual_premium']].values)\n",
    "\n",
    "# policy_cales_channel\n",
    "x_val.loc[:,'policy_sales_channel'] = x_val['policy_sales_channel'].map(fe_policy_sales_channel)\n",
    "\n",
    "# vintage\n",
    "x_val.loc[:,'vintage'] = mms_vintage.transform(x_val[['vintage']].values)\n",
    "\n",
    "# fillna\n",
    "x_val = x_val.fillna(0)"
   ]
  },
  {
   "cell_type": "markdown",
   "id": "176bbf0e",
   "metadata": {
    "heading_collapsed": true
   },
   "source": [
    "# 5.0 FEATURE SELECTION"
   ]
  },
  {
   "cell_type": "code",
   "execution_count": 39,
   "id": "16861ee1",
   "metadata": {
    "ExecuteTime": {
     "end_time": "2022-08-08T18:00:19.654550Z",
     "start_time": "2022-08-08T18:00:19.558748Z"
    },
    "hidden": true
   },
   "outputs": [],
   "source": [
    "df5 = df4.copy()"
   ]
  },
  {
   "cell_type": "markdown",
   "id": "6ea3435d",
   "metadata": {
    "hidden": true
   },
   "source": [
    "## 5.1 FEATURE IMPORTANCE"
   ]
  },
  {
   "cell_type": "code",
   "execution_count": 40,
   "id": "5d9a7654",
   "metadata": {
    "ExecuteTime": {
     "end_time": "2022-08-08T18:00:58.923943Z",
     "start_time": "2022-08-08T18:00:19.654550Z"
    },
    "hidden": true
   },
   "outputs": [],
   "source": [
    "forest = en.ExtraTreesClassifier(n_estimators=250,random_state=0,n_jobs=-1)\n",
    "\n",
    "x_train_n = df5.drop(['id','response'],axis=1)\n",
    "y_train_n = y_train.values\n",
    "forest.fit(x_train_n,y_train_n);"
   ]
  },
  {
   "cell_type": "code",
   "execution_count": 41,
   "id": "7f6458a5",
   "metadata": {
    "ExecuteTime": {
     "end_time": "2022-08-08T18:01:01.274823Z",
     "start_time": "2022-08-08T18:00:59.078006Z"
    },
    "hidden": true
   },
   "outputs": [
    {
     "name": "stdout",
     "output_type": "stream",
     "text": [
      "Feature Ranking:\n",
      "                         feature  importance\n",
      "0                        vintage    0.273158\n",
      "0                 annual_premium    0.244627\n",
      "0                            age    0.164916\n",
      "0                    region_code    0.106669\n",
      "0                 vehicle_damage    0.066725\n",
      "0           policy_sales_channel    0.059987\n",
      "0             previously_insured    0.057180\n",
      "0       vehicle_age_under_1_year    0.012181\n",
      "0  vehicle_age_between_1_2_years    0.006663\n",
      "0                         gender    0.004908\n",
      "0       vehicle_age_over_2_years    0.002519\n",
      "0                driving_license    0.000468\n"
     ]
    }
   ],
   "source": [
    "importances = forest.feature_importances_\n",
    "indices = np.argsort(importances)[::-1]\n",
    "\n",
    "print('Feature Ranking:')\n",
    "df = pd.DataFrame()\n",
    "for i,j in zip(x_train_n,forest.feature_importances_):\n",
    "    aux = pd.DataFrame({'feature':i,'importance':j},index=[0])\n",
    "    df = pd.concat([df,aux],axis=0)\n",
    "print(df.sort_values('importance', ascending=False))"
   ]
  },
  {
   "cell_type": "markdown",
   "id": "5a463876",
   "metadata": {
    "heading_collapsed": true
   },
   "source": [
    "# 6.0 MACHINE LEARNING MODELLING"
   ]
  },
  {
   "cell_type": "code",
   "execution_count": 42,
   "id": "d05f5123",
   "metadata": {
    "ExecuteTime": {
     "end_time": "2022-08-08T18:01:01.439391Z",
     "start_time": "2022-08-08T18:01:01.274823Z"
    },
    "hidden": true
   },
   "outputs": [],
   "source": [
    "df6 = df5.copy()"
   ]
  },
  {
   "cell_type": "code",
   "execution_count": 43,
   "id": "d54e3a58",
   "metadata": {
    "ExecuteTime": {
     "end_time": "2022-08-08T18:01:03.137582Z",
     "start_time": "2022-08-08T18:01:01.439391Z"
    },
    "hidden": true
   },
   "outputs": [],
   "source": [
    "cols_selected = ['vintage','annual_premium','age','region_code','vehicle_damage','policy_sales_channel','previously_insured']   \n",
    "x_train = df5[cols_selected]\n",
    "x_validation = x_val[cols_selected]"
   ]
  },
  {
   "cell_type": "markdown",
   "id": "59a794ee",
   "metadata": {
    "ExecuteTime": {
     "end_time": "2022-07-19T21:58:05.414802Z",
     "start_time": "2022-07-19T21:58:05.395115Z"
    },
    "heading_collapsed": true,
    "hidden": true
   },
   "source": [
    "## 6.1 KNN"
   ]
  },
  {
   "cell_type": "code",
   "execution_count": 44,
   "id": "01967444",
   "metadata": {
    "ExecuteTime": {
     "end_time": "2022-08-08T18:01:30.347018Z",
     "start_time": "2022-08-08T18:01:03.139004Z"
    },
    "hidden": true
   },
   "outputs": [],
   "source": [
    "knn_model = nh.KNeighborsClassifier(n_neighbors=11)\n",
    "\n",
    "knn_model.fit(x_train,y_train)\n",
    "\n",
    "yhat_knn = knn_model.predict_proba(x_validation)"
   ]
  },
  {
   "cell_type": "code",
   "execution_count": 45,
   "id": "55b3c1f5",
   "metadata": {
    "ExecuteTime": {
     "end_time": "2022-08-08T18:01:31.285906Z",
     "start_time": "2022-08-08T18:01:30.352731Z"
    },
    "hidden": true,
    "hide_input": true
   },
   "outputs": [
    {
     "data": {
      "image/png": "[encoded data removed]",
      "text/plain": [
       "<Figure size 1080x576 with 1 Axes>"
      ]
     },
     "metadata": {},
     "output_type": "display_data"
    }
   ],
   "source": [
    "skplt.metrics.plot_cumulative_gain(y_val,yhat_knn);"
   ]
  },
  {
   "cell_type": "markdown",
   "id": "28e8a8bf",
   "metadata": {
    "ExecuteTime": {
     "end_time": "2022-07-19T21:58:05.414802Z",
     "start_time": "2022-07-19T21:58:05.395115Z"
    },
    "heading_collapsed": true,
    "hidden": true
   },
   "source": [
    "## 6.2 LOGISTIC REGRESSION"
   ]
  },
  {
   "cell_type": "code",
   "execution_count": 46,
   "id": "6cb4f751",
   "metadata": {
    "ExecuteTime": {
     "end_time": "2022-08-08T18:01:33.866658Z",
     "start_time": "2022-08-08T18:01:31.285906Z"
    },
    "hidden": true,
    "hide_input": false
   },
   "outputs": [],
   "source": [
    "lr_model = lr(max_iter=200)\n",
    "\n",
    "lr_model.fit(x_train,y_train)\n",
    "\n",
    "yhat_lr = lr_model.predict_proba(x_validation)"
   ]
  },
  {
   "cell_type": "code",
   "execution_count": 47,
   "id": "eb76ca56",
   "metadata": {
    "ExecuteTime": {
     "end_time": "2022-08-08T18:01:34.514675Z",
     "start_time": "2022-08-08T18:01:33.866658Z"
    },
    "hidden": true
   },
   "outputs": [
    {
     "data": {
      "image/png": "[encoded data removed]",
      "text/plain": [
       "<Figure size 1080x576 with 1 Axes>"
      ]
     },
     "metadata": {},
     "output_type": "display_data"
    }
   ],
   "source": [
    "skplt.metrics.plot_cumulative_gain(y_val,yhat_lr);"
   ]
  },
  {
   "cell_type": "markdown",
   "id": "af4048ad",
   "metadata": {
    "ExecuteTime": {
     "end_time": "2022-07-19T21:58:05.414802Z",
     "start_time": "2022-07-19T21:58:05.395115Z"
    },
    "heading_collapsed": true,
    "hidden": true
   },
   "source": [
    "## 6.3 EXTRA TREES"
   ]
  },
  {
   "cell_type": "code",
   "execution_count": 48,
   "id": "ffefdb30",
   "metadata": {
    "ExecuteTime": {
     "end_time": "2022-08-08T18:02:27.647747Z",
     "start_time": "2022-08-08T18:01:34.514675Z"
    },
    "hidden": true
   },
   "outputs": [],
   "source": [
    "et =  en.ExtraTreesClassifier(n_estimators=300,n_jobs=-1,random_state=42)\n",
    "et.fit(x_train,y_train)\n",
    "yhat_et = et.predict_proba(x_validation)"
   ]
  },
  {
   "cell_type": "code",
   "execution_count": 49,
   "id": "4f1fa3e0",
   "metadata": {
    "ExecuteTime": {
     "end_time": "2022-08-08T18:02:28.910187Z",
     "start_time": "2022-08-08T18:02:27.697558Z"
    },
    "hidden": true
   },
   "outputs": [
    {
     "data": {
      "image/png": "[encoded data removed]",
      "text/plain": [
       "<Figure size 1080x576 with 1 Axes>"
      ]
     },
     "metadata": {},
     "output_type": "display_data"
    }
   ],
   "source": [
    "skplt.metrics.plot_cumulative_gain(y_val,yhat_et);"
   ]
  },
  {
   "cell_type": "markdown",
   "id": "0c23cccd",
   "metadata": {
    "heading_collapsed": true
   },
   "source": [
    "# 7.0 MODEL PERFORMANCE - CROSS VALIDATION"
   ]
  },
  {
   "cell_type": "markdown",
   "id": "476b50c8",
   "metadata": {
    "hidden": true
   },
   "source": [
    "For Logistic Regression and Extra Trees."
   ]
  },
  {
   "cell_type": "markdown",
   "id": "d8f6b23e",
   "metadata": {
    "heading_collapsed": true,
    "hidden": true
   },
   "source": [
    "## 7.1 LOGISTIC REGRESSION"
   ]
  },
  {
   "cell_type": "code",
   "execution_count": 50,
   "id": "83a8f93d",
   "metadata": {
    "ExecuteTime": {
     "end_time": "2022-08-08T18:04:08.920844Z",
     "start_time": "2022-08-08T18:02:28.918157Z"
    },
    "hidden": true
   },
   "outputs": [
    {
     "data": {
      "text/html": [
       "<div>\n",
       "<style scoped>\n",
       "    .dataframe tbody tr th:only-of-type {\n",
       "        vertical-align: middle;\n",
       "    }\n",
       "\n",
       "    .dataframe tbody tr th {\n",
       "        vertical-align: top;\n",
       "    }\n",
       "\n",
       "    .dataframe thead th {\n",
       "        text-align: right;\n",
       "    }\n",
       "</style>\n",
       "<table border=\"1\" class=\"dataframe\">\n",
       "  <thead>\n",
       "    <tr style=\"text-align: right;\">\n",
       "      <th></th>\n",
       "      <th>mean</th>\n",
       "      <th>std</th>\n",
       "    </tr>\n",
       "  </thead>\n",
       "  <tbody>\n",
       "    <tr>\n",
       "      <th>precision_at_k</th>\n",
       "      <td>0.268710</td>\n",
       "      <td>0.000791</td>\n",
       "    </tr>\n",
       "    <tr>\n",
       "      <th>recall_at_k</th>\n",
       "      <td>0.862909</td>\n",
       "      <td>0.002542</td>\n",
       "    </tr>\n",
       "  </tbody>\n",
       "</table>\n",
       "</div>"
      ],
      "text/plain": [
       "                    mean       std\n",
       "precision_at_k  0.268710  0.000791\n",
       "recall_at_k     0.862909  0.002542"
      ]
     },
     "execution_count": 50,
     "metadata": {},
     "output_type": "execute_result"
    }
   ],
   "source": [
    "cv.runCrossValidation(lr_model, x_train, x_validation,y_train,y_val, n_splits = 5, n_repeats = 2, top_k = 30000, verbose=False)"
   ]
  },
  {
   "cell_type": "markdown",
   "id": "a0a1d323",
   "metadata": {
    "heading_collapsed": true,
    "hidden": true
   },
   "source": [
    "## 7.2 EXTRA TREES"
   ]
  },
  {
   "cell_type": "code",
   "execution_count": 51,
   "id": "50a6dc38",
   "metadata": {
    "ExecuteTime": {
     "end_time": "2022-08-08T18:12:44.793182Z",
     "start_time": "2022-08-08T18:04:08.927500Z"
    },
    "hidden": true
   },
   "outputs": [
    {
     "data": {
      "text/html": [
       "<div>\n",
       "<style scoped>\n",
       "    .dataframe tbody tr th:only-of-type {\n",
       "        vertical-align: middle;\n",
       "    }\n",
       "\n",
       "    .dataframe tbody tr th {\n",
       "        vertical-align: top;\n",
       "    }\n",
       "\n",
       "    .dataframe thead th {\n",
       "        text-align: right;\n",
       "    }\n",
       "</style>\n",
       "<table border=\"1\" class=\"dataframe\">\n",
       "  <thead>\n",
       "    <tr style=\"text-align: right;\">\n",
       "      <th></th>\n",
       "      <th>mean</th>\n",
       "      <th>std</th>\n",
       "    </tr>\n",
       "  </thead>\n",
       "  <tbody>\n",
       "    <tr>\n",
       "      <th>precision_at_k</th>\n",
       "      <td>0.271850</td>\n",
       "      <td>0.000848</td>\n",
       "    </tr>\n",
       "    <tr>\n",
       "      <th>recall_at_k</th>\n",
       "      <td>0.872993</td>\n",
       "      <td>0.002722</td>\n",
       "    </tr>\n",
       "  </tbody>\n",
       "</table>\n",
       "</div>"
      ],
      "text/plain": [
       "                    mean       std\n",
       "precision_at_k  0.271850  0.000848\n",
       "recall_at_k     0.872993  0.002722"
      ]
     },
     "execution_count": 51,
     "metadata": {},
     "output_type": "execute_result"
    }
   ],
   "source": [
    "cv.runCrossValidation(et, x_train, x_validation,y_train,y_val, n_splits = 5, n_repeats = 2, top_k = 30000, verbose=False)"
   ]
  },
  {
   "cell_type": "markdown",
   "id": "83827acf",
   "metadata": {
    "hidden": true
   },
   "source": [
    "The model chosen was the Logistic regression because it runs approximately 4x faster than ExtraTrees, while having very close precision and recall numbers in comparison."
   ]
  },
  {
   "cell_type": "markdown",
   "id": "83d7d093",
   "metadata": {},
   "source": [
    "# 8.0 HYPERPARAMETER FINE TUNING"
   ]
  },
  {
   "cell_type": "code",
   "execution_count": 54,
   "id": "ad7fee7c",
   "metadata": {
    "ExecuteTime": {
     "end_time": "2022-08-08T19:04:45.119174Z",
     "start_time": "2022-08-08T19:02:22.982763Z"
    }
   },
   "outputs": [
    {
     "data": {
      "text/html": [
       "<div>\n",
       "<style scoped>\n",
       "    .dataframe tbody tr th:only-of-type {\n",
       "        vertical-align: middle;\n",
       "    }\n",
       "\n",
       "    .dataframe tbody tr th {\n",
       "        vertical-align: top;\n",
       "    }\n",
       "\n",
       "    .dataframe thead th {\n",
       "        text-align: right;\n",
       "    }\n",
       "</style>\n",
       "<table border=\"1\" class=\"dataframe\">\n",
       "  <thead>\n",
       "    <tr style=\"text-align: right;\">\n",
       "      <th></th>\n",
       "      <th>mean</th>\n",
       "      <th>std</th>\n",
       "    </tr>\n",
       "  </thead>\n",
       "  <tbody>\n",
       "    <tr>\n",
       "      <th>precision_at_k</th>\n",
       "      <td>0.269353</td>\n",
       "      <td>0.001076</td>\n",
       "    </tr>\n",
       "    <tr>\n",
       "      <th>recall_at_k</th>\n",
       "      <td>0.864975</td>\n",
       "      <td>0.003455</td>\n",
       "    </tr>\n",
       "  </tbody>\n",
       "</table>\n",
       "</div>"
      ],
      "text/plain": [
       "                    mean       std\n",
       "precision_at_k  0.269353  0.001076\n",
       "recall_at_k     0.864975  0.003455"
      ]
     },
     "execution_count": 54,
     "metadata": {},
     "output_type": "execute_result"
    }
   ],
   "source": [
    "lr_model = lr(penalty = 'none',\n",
    "                              solver = 'sag',\n",
    "                              class_weight = 'balanced',\n",
    "                              max_iter = 1000,\n",
    "                              n_jobs=-1)\n",
    "\n",
    "cv.runCrossValidation(lr_model, x_train, x_validation,y_train,y_val, n_splits = 5, n_repeats = 2, top_k = 30000, verbose=False)"
   ]
  },
  {
   "cell_type": "code",
   "execution_count": 62,
   "id": "10c7b3a3",
   "metadata": {
    "ExecuteTime": {
     "end_time": "2022-08-08T19:19:08.404257Z",
     "start_time": "2022-08-08T19:19:08.345912Z"
    }
   },
   "outputs": [
    {
     "ename": "FileNotFoundError",
     "evalue": "[Errno 2] No such file or directory: '/Documents/repos/health-cross-sell/model/lrmodel.pkl'",
     "output_type": "error",
     "traceback": [
      "\u001b[1;31m---------------------------------------------------------------------------\u001b[0m",
      "\u001b[1;31mFileNotFoundError\u001b[0m                         Traceback (most recent call last)",
      "Input \u001b[1;32mIn [62]\u001b[0m, in \u001b[0;36m<cell line: 1>\u001b[1;34m()\u001b[0m\n\u001b[1;32m----> 1\u001b[0m pickle\u001b[38;5;241m.\u001b[39mdump(lr_model, \u001b[38;5;28;43mopen\u001b[39;49m\u001b[43m(\u001b[49m\u001b[38;5;124;43m'\u001b[39;49m\u001b[38;5;124;43m/Documents/repos/health-cross-sell/model/lrmodel.pkl\u001b[39;49m\u001b[38;5;124;43m'\u001b[39;49m\u001b[43m,\u001b[49m\u001b[43m \u001b[49m\u001b[38;5;124;43m'\u001b[39;49m\u001b[38;5;124;43mwb\u001b[39;49m\u001b[38;5;124;43m'\u001b[39;49m\u001b[43m)\u001b[49m)\n",
      "\u001b[1;31mFileNotFoundError\u001b[0m: [Errno 2] No such file or directory: '/Documents/repos/health-cross-sell/model/lrmodel.pkl'"
     ]
    }
   ],
   "source": [
    "pickle.dump(lr_model, open('c/Documents/repos/health-cross-sell/model/lrmodel.pkl', 'wb'))"
   ]
  },
  {
   "cell_type": "code",
   "execution_count": null,
   "id": "8f231df8",
   "metadata": {},
   "outputs": [],
   "source": []
  }
 ],
 "metadata": {
  "kernelspec": {
   "display_name": "Python 3 (ipykernel)",
   "language": "python",
   "name": "python3"
  },
  "language_info": {
   "codemirror_mode": {
    "name": "ipython",
    "version": 3
   },
   "file_extension": ".py",
   "mimetype": "text/x-python",
   "name": "python",
   "nbconvert_exporter": "python",
   "pygments_lexer": "ipython3",
   "version": "3.9.12"
  }
 },
 "nbformat": 4,
 "nbformat_minor": 5
}
