{
 "cells": [
  {
   "cell_type": "markdown",
   "id": "ea13f80c",
   "metadata": {
    "heading_collapsed": true
   },
   "source": [
    "# 0.0 IMPORTS"
   ]
  },
  {
   "cell_type": "code",
   "execution_count": 144,
   "id": "363f4b7f",
   "metadata": {
    "ExecuteTime": {
     "end_time": "2022-07-11T23:32:16.051292Z",
     "start_time": "2022-07-11T23:32:16.032138Z"
    },
    "hidden": true
   },
   "outputs": [],
   "source": [
    "import psycopg2\n",
    "import pandas as pd\n",
    "import warnings\n",
    "import numpy as np\n",
    "import json\n",
    "import seaborn as sns\n",
    "import matplotlib.pyplot as plt\n",
    "from IPython.core.display import HTML, display\n",
    "warnings.filterwarnings(\"ignore\")\n",
    "import tabulate"
   ]
  },
  {
   "cell_type": "markdown",
   "id": "1f664326",
   "metadata": {
    "heading_collapsed": true,
    "hidden": true
   },
   "source": [
    "## 0.1 HELPER FUNCTIONS"
   ]
  },
  {
   "cell_type": "code",
   "execution_count": 145,
   "id": "d705ec46",
   "metadata": {
    "ExecuteTime": {
     "end_time": "2022-07-11T23:32:16.067284Z",
     "start_time": "2022-07-11T23:32:16.052721Z"
    },
    "hidden": true
   },
   "outputs": [],
   "source": [
    "def jupyter_settings():\n",
    "    %matplotlib inline\n",
    "    %pylab inline\n",
    "    \n",
    "    plt.style.use( 'bmh' )\n",
    "    plt.rcParams['figure.figsize'] = [25, 12]\n",
    "    plt.rcParams['font.size'] = 24\n",
    "    \n",
    "    display( HTML( '<style>.container { width:100% !important; }</style>') )\n",
    "    pd.options.display.max_columns = None\n",
    "    pd.options.display.max_rows = None\n",
    "    pd.set_option( 'display.expand_frame_repr', False )\n",
    "    \n",
    "    sns.set()\n",
    "    "
   ]
  },
  {
   "cell_type": "code",
   "execution_count": 146,
   "id": "b0984f4f",
   "metadata": {
    "ExecuteTime": {
     "end_time": "2022-07-11T23:32:16.082741Z",
     "start_time": "2022-07-11T23:32:16.068410Z"
    },
    "hidden": true
   },
   "outputs": [
    {
     "name": "stdout",
     "output_type": "stream",
     "text": [
      "%pylab is deprecated, use %matplotlib inline and import the required libraries.\n",
      "Populating the interactive namespace from numpy and matplotlib\n"
     ]
    },
    {
     "data": {
      "text/html": [
       "<style>.container { width:100% !important; }</style>"
      ],
      "text/plain": [
       "<IPython.core.display.HTML object>"
      ]
     },
     "metadata": {},
     "output_type": "display_data"
    }
   ],
   "source": [
    "jupyter_settings();"
   ]
  },
  {
   "cell_type": "markdown",
   "id": "a760f180",
   "metadata": {
    "heading_collapsed": true,
    "hidden": true
   },
   "source": [
    "## 0.2 FETCHING DATA "
   ]
  },
  {
   "cell_type": "code",
   "execution_count": 147,
   "id": "e53612a2",
   "metadata": {
    "ExecuteTime": {
     "end_time": "2022-07-11T23:32:16.841217Z",
     "start_time": "2022-07-11T23:32:16.083754Z"
    },
    "hidden": true
   },
   "outputs": [
    {
     "name": "stdout",
     "output_type": "stream",
     "text": [
      "[('pg_catalog',), ('information_schema',), ('public',), ('pa004',)]\n"
     ]
    }
   ],
   "source": [
    "with open('.credentials.json') as json_file:\n",
    "    cred = json.load(json_file)\n",
    "\n",
    "conn = psycopg2.connect(dbname=cred['dbname'], user=cred['user'], password=cred['password'],host=cred['host'],port=cred['port'])\n",
    "\n",
    "cursor = conn.cursor()\n",
    "cursor.execute('select schema_name from information_schema.schemata')\n",
    "schemas = cursor.fetchall()\n",
    "print(schemas)\n",
    "\n",
    "cursor.close()"
   ]
  },
  {
   "cell_type": "code",
   "execution_count": 148,
   "id": "0ee0371e",
   "metadata": {
    "ExecuteTime": {
     "end_time": "2022-07-11T23:32:23.088840Z",
     "start_time": "2022-07-11T23:32:16.843220Z"
    },
    "hidden": true
   },
   "outputs": [
    {
     "name": "stdout",
     "output_type": "stream",
     "text": [
      "[('users',), ('vehicle',), ('insurance',)]\n"
     ]
    }
   ],
   "source": [
    "query_tables = \"select table_name from information_schema.tables where table_schema = 'pa004' \"\n",
    "\n",
    "cursor = conn.cursor()\n",
    "cursor.execute(query_tables)\n",
    "tables = cursor.fetchall()\n",
    "print(tables)\n",
    "\n",
    "users = pd.read_sql_query('select * from pa004.users',conn)\n",
    "vehicle = pd.read_sql_query('select * from pa004.vehicle',conn)\n",
    "insurance = pd.read_sql_query('select * from pa004.insurance',conn)\n",
    "\n",
    "cursor.close()\n",
    "conn.close()"
   ]
  },
  {
   "cell_type": "code",
   "execution_count": 149,
   "id": "415c7945",
   "metadata": {
    "ExecuteTime": {
     "end_time": "2022-07-11T23:32:23.406334Z",
     "start_time": "2022-07-11T23:32:23.091243Z"
    },
    "hidden": true
   },
   "outputs": [
    {
     "data": {
      "text/html": [
       "<div>\n",
       "<style scoped>\n",
       "    .dataframe tbody tr th:only-of-type {\n",
       "        vertical-align: middle;\n",
       "    }\n",
       "\n",
       "    .dataframe tbody tr th {\n",
       "        vertical-align: top;\n",
       "    }\n",
       "\n",
       "    .dataframe thead th {\n",
       "        text-align: right;\n",
       "    }\n",
       "</style>\n",
       "<table border=\"1\" class=\"dataframe\">\n",
       "  <thead>\n",
       "    <tr style=\"text-align: right;\">\n",
       "      <th></th>\n",
       "      <th>id</th>\n",
       "      <th>gender</th>\n",
       "      <th>age</th>\n",
       "      <th>region_code</th>\n",
       "      <th>policy_sales_channel</th>\n",
       "      <th>driving_license</th>\n",
       "      <th>vehicle_age</th>\n",
       "      <th>vehicle_damage</th>\n",
       "      <th>previously_insured</th>\n",
       "      <th>annual_premium</th>\n",
       "      <th>vintage</th>\n",
       "      <th>response</th>\n",
       "    </tr>\n",
       "  </thead>\n",
       "  <tbody>\n",
       "    <tr>\n",
       "      <th>0</th>\n",
       "      <td>1</td>\n",
       "      <td>Male</td>\n",
       "      <td>44</td>\n",
       "      <td>28.0</td>\n",
       "      <td>26.0</td>\n",
       "      <td>1</td>\n",
       "      <td>&gt; 2 Years</td>\n",
       "      <td>Yes</td>\n",
       "      <td>0</td>\n",
       "      <td>40454.0</td>\n",
       "      <td>217</td>\n",
       "      <td>1</td>\n",
       "    </tr>\n",
       "    <tr>\n",
       "      <th>1</th>\n",
       "      <td>2</td>\n",
       "      <td>Male</td>\n",
       "      <td>76</td>\n",
       "      <td>3.0</td>\n",
       "      <td>26.0</td>\n",
       "      <td>1</td>\n",
       "      <td>1-2 Year</td>\n",
       "      <td>No</td>\n",
       "      <td>0</td>\n",
       "      <td>33536.0</td>\n",
       "      <td>183</td>\n",
       "      <td>0</td>\n",
       "    </tr>\n",
       "    <tr>\n",
       "      <th>2</th>\n",
       "      <td>3</td>\n",
       "      <td>Male</td>\n",
       "      <td>47</td>\n",
       "      <td>28.0</td>\n",
       "      <td>26.0</td>\n",
       "      <td>1</td>\n",
       "      <td>&gt; 2 Years</td>\n",
       "      <td>Yes</td>\n",
       "      <td>0</td>\n",
       "      <td>38294.0</td>\n",
       "      <td>27</td>\n",
       "      <td>1</td>\n",
       "    </tr>\n",
       "    <tr>\n",
       "      <th>3</th>\n",
       "      <td>4</td>\n",
       "      <td>Male</td>\n",
       "      <td>21</td>\n",
       "      <td>11.0</td>\n",
       "      <td>152.0</td>\n",
       "      <td>1</td>\n",
       "      <td>&lt; 1 Year</td>\n",
       "      <td>No</td>\n",
       "      <td>1</td>\n",
       "      <td>28619.0</td>\n",
       "      <td>203</td>\n",
       "      <td>0</td>\n",
       "    </tr>\n",
       "    <tr>\n",
       "      <th>4</th>\n",
       "      <td>5</td>\n",
       "      <td>Female</td>\n",
       "      <td>29</td>\n",
       "      <td>41.0</td>\n",
       "      <td>152.0</td>\n",
       "      <td>1</td>\n",
       "      <td>&lt; 1 Year</td>\n",
       "      <td>No</td>\n",
       "      <td>1</td>\n",
       "      <td>27496.0</td>\n",
       "      <td>39</td>\n",
       "      <td>0</td>\n",
       "    </tr>\n",
       "  </tbody>\n",
       "</table>\n",
       "</div>"
      ],
      "text/plain": [
       "   id  gender  age  region_code  policy_sales_channel  driving_license vehicle_age vehicle_damage  previously_insured  annual_premium  vintage  response\n",
       "0   1    Male   44         28.0                  26.0                1   > 2 Years            Yes                   0         40454.0      217         1\n",
       "1   2    Male   76          3.0                  26.0                1    1-2 Year             No                   0         33536.0      183         0\n",
       "2   3    Male   47         28.0                  26.0                1   > 2 Years            Yes                   0         38294.0       27         1\n",
       "3   4    Male   21         11.0                 152.0                1    < 1 Year             No                   1         28619.0      203         0\n",
       "4   5  Female   29         41.0                 152.0                1    < 1 Year             No                   1         27496.0       39         0"
      ]
     },
     "execution_count": 149,
     "metadata": {},
     "output_type": "execute_result"
    }
   ],
   "source": [
    "df = pd.merge(users, vehicle, on='id')\n",
    "df = pd.merge(df,insurance,on='id')\n",
    "df.head()"
   ]
  },
  {
   "cell_type": "markdown",
   "id": "c62dc328",
   "metadata": {
    "heading_collapsed": true
   },
   "source": [
    "# 1.0 DATA DESCRIPTION"
   ]
  },
  {
   "cell_type": "code",
   "execution_count": 150,
   "id": "0b7e9313",
   "metadata": {
    "ExecuteTime": {
     "end_time": "2022-07-11T23:32:23.581177Z",
     "start_time": "2022-07-11T23:32:23.407253Z"
    },
    "hidden": true
   },
   "outputs": [],
   "source": [
    "df1 = df.copy()"
   ]
  },
  {
   "cell_type": "markdown",
   "id": "4628865c",
   "metadata": {
    "heading_collapsed": true,
    "hidden": true
   },
   "source": [
    "## 1.1 DATA DIMENSIONS"
   ]
  },
  {
   "cell_type": "code",
   "execution_count": 151,
   "id": "745401b7",
   "metadata": {
    "ExecuteTime": {
     "end_time": "2022-07-11T23:32:23.597294Z",
     "start_time": "2022-07-11T23:32:23.582191Z"
    },
    "hidden": true
   },
   "outputs": [
    {
     "name": "stdout",
     "output_type": "stream",
     "text": [
      "Rows: 381109\n",
      "Columns: 12\n"
     ]
    }
   ],
   "source": [
    "print('Rows: {}'.format(df1.shape[0]))\n",
    "print('Columns: {}'.format(df1.shape[1]))"
   ]
  },
  {
   "cell_type": "markdown",
   "id": "02e3d0eb",
   "metadata": {
    "heading_collapsed": true,
    "hidden": true
   },
   "source": [
    "## 1.2 DATA TYPES"
   ]
  },
  {
   "cell_type": "code",
   "execution_count": 152,
   "id": "9f24f6e6",
   "metadata": {
    "ExecuteTime": {
     "end_time": "2022-07-11T23:32:23.612428Z",
     "start_time": "2022-07-11T23:32:23.598273Z"
    },
    "hidden": true
   },
   "outputs": [
    {
     "data": {
      "text/plain": [
       "id                        int64\n",
       "gender                   object\n",
       "age                       int64\n",
       "region_code             float64\n",
       "policy_sales_channel    float64\n",
       "driving_license           int64\n",
       "vehicle_age              object\n",
       "vehicle_damage           object\n",
       "previously_insured        int64\n",
       "annual_premium          float64\n",
       "vintage                   int64\n",
       "response                  int64\n",
       "dtype: object"
      ]
     },
     "execution_count": 152,
     "metadata": {},
     "output_type": "execute_result"
    }
   ],
   "source": [
    "df1.dtypes"
   ]
  },
  {
   "cell_type": "markdown",
   "id": "6979d93f",
   "metadata": {
    "heading_collapsed": true,
    "hidden": true
   },
   "source": [
    "## 1.3 CHECKING NA DATA"
   ]
  },
  {
   "cell_type": "code",
   "execution_count": 153,
   "id": "c0f4d95b",
   "metadata": {
    "ExecuteTime": {
     "end_time": "2022-07-11T23:32:23.722209Z",
     "start_time": "2022-07-11T23:32:23.615420Z"
    },
    "hidden": true
   },
   "outputs": [
    {
     "data": {
      "text/plain": [
       "id                      0\n",
       "gender                  0\n",
       "age                     0\n",
       "region_code             0\n",
       "policy_sales_channel    0\n",
       "driving_license         0\n",
       "vehicle_age             0\n",
       "vehicle_damage          0\n",
       "previously_insured      0\n",
       "annual_premium          0\n",
       "vintage                 0\n",
       "response                0\n",
       "dtype: int64"
      ]
     },
     "execution_count": 153,
     "metadata": {},
     "output_type": "execute_result"
    }
   ],
   "source": [
    "df1.isna().sum()"
   ]
  },
  {
   "cell_type": "markdown",
   "id": "44d183b1",
   "metadata": {
    "ExecuteTime": {
     "end_time": "2022-07-06T22:07:48.426206Z",
     "start_time": "2022-07-06T22:07:48.422303Z"
    },
    "heading_collapsed": true,
    "hidden": true
   },
   "source": [
    "## 1.4 CHANGING TYPES"
   ]
  },
  {
   "cell_type": "code",
   "execution_count": 154,
   "id": "95e73aae",
   "metadata": {
    "ExecuteTime": {
     "end_time": "2022-07-11T23:32:23.753308Z",
     "start_time": "2022-07-11T23:32:23.723507Z"
    },
    "hidden": true
   },
   "outputs": [],
   "source": [
    "df1['region_code'] = df1['region_code'].astype('int64')\n",
    "df1['policy_sales_channel'] = df1['policy_sales_channel'].astype('int64')"
   ]
  },
  {
   "cell_type": "markdown",
   "id": "eb0f61a8",
   "metadata": {
    "hidden": true
   },
   "source": [
    "## 1.5 STATISTIC DESCRIPTION"
   ]
  },
  {
   "cell_type": "code",
   "execution_count": 155,
   "id": "140ac041",
   "metadata": {
    "ExecuteTime": {
     "end_time": "2022-07-11T23:32:23.769561Z",
     "start_time": "2022-07-11T23:32:23.754237Z"
    },
    "hidden": true
   },
   "outputs": [],
   "source": [
    "num_attributes = df1.select_dtypes(include=['int64','float64'])\n",
    "cat_attributes = df1.select_dtypes(exclude=['int64','float64','datetime64[ns]'])"
   ]
  },
  {
   "cell_type": "markdown",
   "id": "ff293260",
   "metadata": {
    "hidden": true
   },
   "source": [
    "### 1.5.1 NUMERICAL ATTRIBUTES"
   ]
  },
  {
   "cell_type": "code",
   "execution_count": 156,
   "id": "46258641",
   "metadata": {
    "ExecuteTime": {
     "end_time": "2022-07-11T23:32:24.285542Z",
     "start_time": "2022-07-11T23:32:23.771251Z"
    },
    "hidden": true
   },
   "outputs": [
    {
     "data": {
      "text/html": [
       "<div>\n",
       "<style scoped>\n",
       "    .dataframe tbody tr th:only-of-type {\n",
       "        vertical-align: middle;\n",
       "    }\n",
       "\n",
       "    .dataframe tbody tr th {\n",
       "        vertical-align: top;\n",
       "    }\n",
       "\n",
       "    .dataframe thead th {\n",
       "        text-align: right;\n",
       "    }\n",
       "</style>\n",
       "<table border=\"1\" class=\"dataframe\">\n",
       "  <thead>\n",
       "    <tr style=\"text-align: right;\">\n",
       "      <th></th>\n",
       "      <th>attributes</th>\n",
       "      <th>min</th>\n",
       "      <th>max</th>\n",
       "      <th>range</th>\n",
       "      <th>mean</th>\n",
       "      <th>median</th>\n",
       "      <th>std</th>\n",
       "      <th>skew</th>\n",
       "      <th>kurtosis</th>\n",
       "    </tr>\n",
       "  </thead>\n",
       "  <tbody>\n",
       "    <tr>\n",
       "      <th>0</th>\n",
       "      <td>id</td>\n",
       "      <td>1.0</td>\n",
       "      <td>381109.0</td>\n",
       "      <td>381108.0</td>\n",
       "      <td>190555.000000</td>\n",
       "      <td>190555.0</td>\n",
       "      <td>110016.691870</td>\n",
       "      <td>9.443274e-16</td>\n",
       "      <td>-1.200000</td>\n",
       "    </tr>\n",
       "    <tr>\n",
       "      <th>1</th>\n",
       "      <td>age</td>\n",
       "      <td>20.0</td>\n",
       "      <td>85.0</td>\n",
       "      <td>65.0</td>\n",
       "      <td>38.822584</td>\n",
       "      <td>36.0</td>\n",
       "      <td>15.511591</td>\n",
       "      <td>6.725390e-01</td>\n",
       "      <td>-0.565655</td>\n",
       "    </tr>\n",
       "    <tr>\n",
       "      <th>2</th>\n",
       "      <td>region_code</td>\n",
       "      <td>0.0</td>\n",
       "      <td>52.0</td>\n",
       "      <td>52.0</td>\n",
       "      <td>26.388807</td>\n",
       "      <td>28.0</td>\n",
       "      <td>13.229871</td>\n",
       "      <td>-1.152664e-01</td>\n",
       "      <td>-0.867857</td>\n",
       "    </tr>\n",
       "    <tr>\n",
       "      <th>3</th>\n",
       "      <td>policy_sales_channel</td>\n",
       "      <td>1.0</td>\n",
       "      <td>163.0</td>\n",
       "      <td>162.0</td>\n",
       "      <td>112.034295</td>\n",
       "      <td>133.0</td>\n",
       "      <td>54.203924</td>\n",
       "      <td>-9.000081e-01</td>\n",
       "      <td>-0.970810</td>\n",
       "    </tr>\n",
       "    <tr>\n",
       "      <th>4</th>\n",
       "      <td>driving_license</td>\n",
       "      <td>0.0</td>\n",
       "      <td>1.0</td>\n",
       "      <td>1.0</td>\n",
       "      <td>0.997869</td>\n",
       "      <td>1.0</td>\n",
       "      <td>0.046109</td>\n",
       "      <td>-2.159518e+01</td>\n",
       "      <td>464.354302</td>\n",
       "    </tr>\n",
       "    <tr>\n",
       "      <th>5</th>\n",
       "      <td>previously_insured</td>\n",
       "      <td>0.0</td>\n",
       "      <td>1.0</td>\n",
       "      <td>1.0</td>\n",
       "      <td>0.458210</td>\n",
       "      <td>0.0</td>\n",
       "      <td>0.498251</td>\n",
       "      <td>1.677471e-01</td>\n",
       "      <td>-1.971871</td>\n",
       "    </tr>\n",
       "    <tr>\n",
       "      <th>6</th>\n",
       "      <td>annual_premium</td>\n",
       "      <td>2630.0</td>\n",
       "      <td>540165.0</td>\n",
       "      <td>537535.0</td>\n",
       "      <td>30564.389581</td>\n",
       "      <td>31669.0</td>\n",
       "      <td>17213.132474</td>\n",
       "      <td>1.766087e+00</td>\n",
       "      <td>34.004569</td>\n",
       "    </tr>\n",
       "    <tr>\n",
       "      <th>7</th>\n",
       "      <td>vintage</td>\n",
       "      <td>10.0</td>\n",
       "      <td>299.0</td>\n",
       "      <td>289.0</td>\n",
       "      <td>154.347397</td>\n",
       "      <td>154.0</td>\n",
       "      <td>83.671194</td>\n",
       "      <td>3.029517e-03</td>\n",
       "      <td>-1.200688</td>\n",
       "    </tr>\n",
       "    <tr>\n",
       "      <th>8</th>\n",
       "      <td>response</td>\n",
       "      <td>0.0</td>\n",
       "      <td>1.0</td>\n",
       "      <td>1.0</td>\n",
       "      <td>0.122563</td>\n",
       "      <td>0.0</td>\n",
       "      <td>0.327935</td>\n",
       "      <td>2.301906e+00</td>\n",
       "      <td>3.298788</td>\n",
       "    </tr>\n",
       "  </tbody>\n",
       "</table>\n",
       "</div>"
      ],
      "text/plain": [
       "             attributes     min       max     range           mean    median            std          skew    kurtosis\n",
       "0                    id     1.0  381109.0  381108.0  190555.000000  190555.0  110016.691870  9.443274e-16   -1.200000\n",
       "1                   age    20.0      85.0      65.0      38.822584      36.0      15.511591  6.725390e-01   -0.565655\n",
       "2           region_code     0.0      52.0      52.0      26.388807      28.0      13.229871 -1.152664e-01   -0.867857\n",
       "3  policy_sales_channel     1.0     163.0     162.0     112.034295     133.0      54.203924 -9.000081e-01   -0.970810\n",
       "4       driving_license     0.0       1.0       1.0       0.997869       1.0       0.046109 -2.159518e+01  464.354302\n",
       "5    previously_insured     0.0       1.0       1.0       0.458210       0.0       0.498251  1.677471e-01   -1.971871\n",
       "6        annual_premium  2630.0  540165.0  537535.0   30564.389581   31669.0   17213.132474  1.766087e+00   34.004569\n",
       "7               vintage    10.0     299.0     289.0     154.347397     154.0      83.671194  3.029517e-03   -1.200688\n",
       "8              response     0.0       1.0       1.0       0.122563       0.0       0.327935  2.301906e+00    3.298788"
      ]
     },
     "execution_count": 156,
     "metadata": {},
     "output_type": "execute_result"
    }
   ],
   "source": [
    "# Central tendency: mean, median\n",
    "ct1 = pd.DataFrame(num_attributes.apply(np.mean)).T\n",
    "ct2 = pd.DataFrame(num_attributes.apply(np.median)).T\n",
    "\n",
    "#Dispersion: std, min, max, range, skew, kurtosis\n",
    "d1 = pd.DataFrame(num_attributes.apply(np.std)).T\n",
    "d2 = pd.DataFrame(num_attributes.apply(min)).T\n",
    "d3 = pd.DataFrame(num_attributes.apply(max)).T\n",
    "d4 = pd.DataFrame(num_attributes.apply(lambda x: x.max()-x.min())).T\n",
    "d5 = pd.DataFrame(num_attributes.apply(lambda x: x.skew())).T\n",
    "d6 = pd.DataFrame(num_attributes.apply(lambda x: x.kurtosis())).T\n",
    "\n",
    "#Concatenate\n",
    "m = pd.concat([d2, d3, d4, ct1, ct2, d1, d5, d6]).T.reset_index()\n",
    "m.columns=['attributes','min','max','range','mean','median','std','skew','kurtosis']\n",
    "m"
   ]
  },
  {
   "cell_type": "markdown",
   "id": "ecfc6e16",
   "metadata": {
    "hidden": true
   },
   "source": [
    "### 1.5.2 CATEGORICAL ATTRIBUTES"
   ]
  },
  {
   "cell_type": "code",
   "execution_count": 157,
   "id": "7a3d1b3d",
   "metadata": {
    "ExecuteTime": {
     "end_time": "2022-07-11T23:32:24.363922Z",
     "start_time": "2022-07-11T23:32:24.286584Z"
    },
    "hidden": true
   },
   "outputs": [
    {
     "data": {
      "text/plain": [
       "gender                             [Male, Female]\n",
       "vehicle_age       [> 2 Years, 1-2 Year, < 1 Year]\n",
       "vehicle_damage                          [Yes, No]\n",
       "dtype: object"
      ]
     },
     "execution_count": 157,
     "metadata": {},
     "output_type": "execute_result"
    }
   ],
   "source": [
    "cat_attributes.apply(lambda x: x.unique())"
   ]
  },
  {
   "cell_type": "markdown",
   "id": "00627b59",
   "metadata": {
    "heading_collapsed": true
   },
   "source": [
    "# 2.0 FEATURE ENGINEERING"
   ]
  },
  {
   "cell_type": "code",
   "execution_count": 158,
   "id": "65d8f95e",
   "metadata": {
    "ExecuteTime": {
     "end_time": "2022-07-11T23:32:24.426597Z",
     "start_time": "2022-07-11T23:32:24.364854Z"
    },
    "hidden": true
   },
   "outputs": [],
   "source": [
    "df2 = df1.copy()"
   ]
  },
  {
   "cell_type": "markdown",
   "id": "c4773f18",
   "metadata": {
    "hidden": true
   },
   "source": [
    "## 2.1 HYPOTHESIS LIST"
   ]
  },
  {
   "cell_type": "markdown",
   "id": "53ac3902",
   "metadata": {
    "hidden": true
   },
   "source": [
    "1. Older people will be more interested.\n",
    "2. People with a drivers license will be more interested.\n",
    "3. People previously ensured will be more interested.\n",
    "4. People with lower annual premium will be more interested.\n",
    "5. People with higher vehicle age will be more interested.\n",
    "6. People that had their vehicle damaged will be more interested."
   ]
  },
  {
   "cell_type": "markdown",
   "id": "c46cc915",
   "metadata": {
    "heading_collapsed": true,
    "hidden": true
   },
   "source": [
    "## 2.2 FEATURE ENGINEERING"
   ]
  },
  {
   "cell_type": "code",
   "execution_count": 159,
   "id": "7189e64b",
   "metadata": {
    "ExecuteTime": {
     "end_time": "2022-07-11T23:32:24.681832Z",
     "start_time": "2022-07-11T23:32:24.427858Z"
    },
    "hidden": true
   },
   "outputs": [
    {
     "data": {
      "text/html": [
       "<div>\n",
       "<style scoped>\n",
       "    .dataframe tbody tr th:only-of-type {\n",
       "        vertical-align: middle;\n",
       "    }\n",
       "\n",
       "    .dataframe tbody tr th {\n",
       "        vertical-align: top;\n",
       "    }\n",
       "\n",
       "    .dataframe thead th {\n",
       "        text-align: right;\n",
       "    }\n",
       "</style>\n",
       "<table border=\"1\" class=\"dataframe\">\n",
       "  <thead>\n",
       "    <tr style=\"text-align: right;\">\n",
       "      <th></th>\n",
       "      <th>id</th>\n",
       "      <th>gender</th>\n",
       "      <th>age</th>\n",
       "      <th>region_code</th>\n",
       "      <th>policy_sales_channel</th>\n",
       "      <th>driving_license</th>\n",
       "      <th>vehicle_age</th>\n",
       "      <th>vehicle_damage</th>\n",
       "      <th>previously_insured</th>\n",
       "      <th>annual_premium</th>\n",
       "      <th>vintage</th>\n",
       "      <th>response</th>\n",
       "    </tr>\n",
       "  </thead>\n",
       "  <tbody>\n",
       "    <tr>\n",
       "      <th>0</th>\n",
       "      <td>1</td>\n",
       "      <td>Male</td>\n",
       "      <td>44</td>\n",
       "      <td>28</td>\n",
       "      <td>26</td>\n",
       "      <td>1</td>\n",
       "      <td>over_2_years</td>\n",
       "      <td>1</td>\n",
       "      <td>0</td>\n",
       "      <td>40454.0</td>\n",
       "      <td>217</td>\n",
       "      <td>1</td>\n",
       "    </tr>\n",
       "    <tr>\n",
       "      <th>1</th>\n",
       "      <td>2</td>\n",
       "      <td>Male</td>\n",
       "      <td>76</td>\n",
       "      <td>3</td>\n",
       "      <td>26</td>\n",
       "      <td>1</td>\n",
       "      <td>between_1_2_years</td>\n",
       "      <td>0</td>\n",
       "      <td>0</td>\n",
       "      <td>33536.0</td>\n",
       "      <td>183</td>\n",
       "      <td>0</td>\n",
       "    </tr>\n",
       "    <tr>\n",
       "      <th>2</th>\n",
       "      <td>3</td>\n",
       "      <td>Male</td>\n",
       "      <td>47</td>\n",
       "      <td>28</td>\n",
       "      <td>26</td>\n",
       "      <td>1</td>\n",
       "      <td>over_2_years</td>\n",
       "      <td>1</td>\n",
       "      <td>0</td>\n",
       "      <td>38294.0</td>\n",
       "      <td>27</td>\n",
       "      <td>1</td>\n",
       "    </tr>\n",
       "    <tr>\n",
       "      <th>3</th>\n",
       "      <td>4</td>\n",
       "      <td>Male</td>\n",
       "      <td>21</td>\n",
       "      <td>11</td>\n",
       "      <td>152</td>\n",
       "      <td>1</td>\n",
       "      <td>under_1_year</td>\n",
       "      <td>0</td>\n",
       "      <td>1</td>\n",
       "      <td>28619.0</td>\n",
       "      <td>203</td>\n",
       "      <td>0</td>\n",
       "    </tr>\n",
       "    <tr>\n",
       "      <th>4</th>\n",
       "      <td>5</td>\n",
       "      <td>Female</td>\n",
       "      <td>29</td>\n",
       "      <td>41</td>\n",
       "      <td>152</td>\n",
       "      <td>1</td>\n",
       "      <td>under_1_year</td>\n",
       "      <td>0</td>\n",
       "      <td>1</td>\n",
       "      <td>27496.0</td>\n",
       "      <td>39</td>\n",
       "      <td>0</td>\n",
       "    </tr>\n",
       "  </tbody>\n",
       "</table>\n",
       "</div>"
      ],
      "text/plain": [
       "   id  gender  age  region_code  policy_sales_channel  driving_license        vehicle_age  vehicle_damage  previously_insured  annual_premium  vintage  response\n",
       "0   1    Male   44           28                    26                1       over_2_years               1                   0         40454.0      217         1\n",
       "1   2    Male   76            3                    26                1  between_1_2_years               0                   0         33536.0      183         0\n",
       "2   3    Male   47           28                    26                1       over_2_years               1                   0         38294.0       27         1\n",
       "3   4    Male   21           11                   152                1       under_1_year               0                   1         28619.0      203         0\n",
       "4   5  Female   29           41                   152                1       under_1_year               0                   1         27496.0       39         0"
      ]
     },
     "execution_count": 159,
     "metadata": {},
     "output_type": "execute_result"
    }
   ],
   "source": [
    "ins_cat = df2[['driving_license','previously_insured','response']]\n",
    "cat_attributes = cat_attributes.join(ins_cat)\n",
    "num_attributes = num_attributes.drop(ins_cat,axis=1)\n",
    "\n",
    "# vehicle age\n",
    "dict_vehicle_age = {'> 2 Years':'over_2_years', '1-2 Year':'between_1_2_years', '< 1 Year':'under_1_year'}\n",
    "df2['vehicle_age'] = df2['vehicle_age'].map(dict_vehicle_age)\n",
    "cat_attributes['vehicle_age'] = cat_attributes['vehicle_age'].map(dict_vehicle_age)\n",
    "\n",
    "# vehicle damage\n",
    "dict_vehicle_damage = {'Yes': 1, 'No': 0}\n",
    "df2['vehicle_damage'] = df2['vehicle_damage'].map(dict_vehicle_damage)\n",
    "cat_attributes['vehicle_damage'] = cat_attributes['vehicle_damage'].map(dict_vehicle_damage)\n",
    "\n",
    "df2.head()"
   ]
  },
  {
   "cell_type": "markdown",
   "id": "863a0131",
   "metadata": {},
   "source": [
    "# 3.0 EXPLORATORY DATA ANALYSIS"
   ]
  },
  {
   "cell_type": "code",
   "execution_count": 219,
   "id": "c1577b55",
   "metadata": {
    "ExecuteTime": {
     "end_time": "2022-07-12T00:43:35.307985Z",
     "start_time": "2022-07-12T00:43:35.193649Z"
    }
   },
   "outputs": [],
   "source": [
    "df3 = df2.copy()"
   ]
  },
  {
   "cell_type": "markdown",
   "id": "868c2e13",
   "metadata": {
    "heading_collapsed": true
   },
   "source": [
    "## 3.1 UNIVARIATE ANALYSIS"
   ]
  },
  {
   "cell_type": "markdown",
   "id": "ff210ed3",
   "metadata": {
    "ExecuteTime": {
     "end_time": "2022-05-19T22:55:28.058381Z",
     "start_time": "2022-05-19T22:55:28.040175Z"
    },
    "heading_collapsed": true,
    "hidden": true
   },
   "source": [
    "### 3.1.1 RESPONSE VARIABLE"
   ]
  },
  {
   "cell_type": "code",
   "execution_count": 161,
   "id": "906075f6",
   "metadata": {
    "ExecuteTime": {
     "end_time": "2022-07-11T23:32:25.919655Z",
     "start_time": "2022-07-11T23:32:24.779690Z"
    },
    "hidden": true,
    "hide_input": true
   },
   "outputs": [
    {
     "data": {
      "image/png": "[encoded data removed]",
      "text/plain": [
       "<Figure size 1800x864 with 1 Axes>"
      ]
     },
     "metadata": {},
     "output_type": "display_data"
    }
   ],
   "source": [
    "sns.countplot(df3['response']);"
   ]
  },
  {
   "cell_type": "markdown",
   "id": "11a64e5f",
   "metadata": {
    "ExecuteTime": {
     "end_time": "2022-05-19T22:55:28.058381Z",
     "start_time": "2022-05-19T22:55:28.040175Z"
    },
    "heading_collapsed": true,
    "hidden": true
   },
   "source": [
    "### 3.1.2 NUMERICAL VARIABLES"
   ]
  },
  {
   "cell_type": "code",
   "execution_count": 162,
   "id": "2bb6d1b2",
   "metadata": {
    "ExecuteTime": {
     "end_time": "2022-07-11T23:32:26.692171Z",
     "start_time": "2022-07-11T23:32:25.921372Z"
    },
    "hidden": true,
    "hide_input": true
   },
   "outputs": [
    {
     "data": {
      "image/png": "[encoded data removed]",
      "text/plain": [
       "<Figure size 1800x864 with 6 Axes>"
      ]
     },
     "metadata": {},
     "output_type": "display_data"
    }
   ],
   "source": [
    "num_attributes.hist(bins=50);"
   ]
  },
  {
   "cell_type": "markdown",
   "id": "3132276a",
   "metadata": {
    "ExecuteTime": {
     "end_time": "2022-05-19T22:55:28.058381Z",
     "start_time": "2022-05-19T22:55:28.040175Z"
    },
    "heading_collapsed": true,
    "hidden": true,
    "hide_input": true
   },
   "source": [
    "### 3.1.3 CATEGORICAL VARIABLES"
   ]
  },
  {
   "cell_type": "code",
   "execution_count": 163,
   "id": "8a4c8bc0",
   "metadata": {
    "ExecuteTime": {
     "end_time": "2022-07-11T23:32:34.975014Z",
     "start_time": "2022-07-11T23:32:26.692994Z"
    },
    "hidden": true,
    "hide_input": true
   },
   "outputs": [
    {
     "data": {
      "image/png": "[encoded data removed]",
      "text/plain": [
       "<Figure size 1800x864 with 6 Axes>"
      ]
     },
     "metadata": {},
     "output_type": "display_data"
    }
   ],
   "source": [
    "plt.subplot(2,3,1)\n",
    "sns.countplot(cat_attributes['gender']);\n",
    "plt.subplot(2,3,2)\n",
    "ordering = ['under_1_year','between_1_2_year','over_2_years']\n",
    "sns.countplot(cat_attributes['vehicle_age'],order=ordering);\n",
    "plt.subplot(2,3,3)\n",
    "sns.countplot(cat_attributes['vehicle_damage']);\n",
    "plt.subplot(2,3,4)\n",
    "sns.countplot(cat_attributes['driving_license']);\n",
    "plt.subplot(2,3,5)\n",
    "sns.countplot(cat_attributes['previously_insured']);\n",
    "plt.subplot(2,3,6)\n",
    "sns.countplot(cat_attributes['response']);"
   ]
  },
  {
   "cell_type": "markdown",
   "id": "f1c4ef75",
   "metadata": {},
   "source": [
    "## 3.2 BIVARIATE ANALYSIS"
   ]
  },
  {
   "cell_type": "code",
   "execution_count": 220,
   "id": "71c7971c",
   "metadata": {
    "ExecuteTime": {
     "end_time": "2022-07-12T00:43:37.914359Z",
     "start_time": "2022-07-12T00:43:37.889656Z"
    }
   },
   "outputs": [
    {
     "data": {
      "text/plain": [
       "Index(['id', 'gender', 'age', 'region_code', 'policy_sales_channel',\n",
       "       'driving_license', 'vehicle_age', 'vehicle_damage',\n",
       "       'previously_insured', 'annual_premium', 'vintage', 'response'],\n",
       "      dtype='object')"
      ]
     },
     "execution_count": 220,
     "metadata": {},
     "output_type": "execute_result"
    }
   ],
   "source": [
    "aux32 = df3[df3['response']==1]\n",
    "aux32.columns"
   ]
  },
  {
   "cell_type": "markdown",
   "id": "ba273a2a",
   "metadata": {
    "heading_collapsed": true,
    "hide_input": false
   },
   "source": [
    "### 1. Older people will be more interested."
   ]
  },
  {
   "cell_type": "code",
   "execution_count": 258,
   "id": "720c2c55",
   "metadata": {
    "ExecuteTime": {
     "end_time": "2022-07-12T01:18:23.875390Z",
     "start_time": "2022-07-12T01:18:23.546353Z"
    },
    "hidden": true,
    "hide_input": true,
    "scrolled": false
   },
   "outputs": [
    {
     "data": {
      "image/png": "[encoded data removed]",
      "text/plain": [
       "<Figure size 1800x864 with 3 Axes>"
      ]
     },
     "metadata": {},
     "output_type": "display_data"
    }
   ],
   "source": [
    "h1 = df3[['age','response']].groupby('age').count().reset_index()\n",
    "h11 = aux32[['age','response']].groupby('age').count().reset_index()\n",
    "h111 = pd.merge(h1,h11,on='age',how='left')\n",
    "h111 = h111.fillna(0)\n",
    "\n",
    "h111['percentage'] = (h111['response_y']/h111['response_x']) *100\n",
    "\n",
    "bins = list(np.arange(19,90,10))\n",
    "\n",
    "h111['age_binned'] = pd.cut(h111['age'],bins=bins)\n",
    "h12 = h111[['age_binned','percentage']].groupby('age_binned').mean().reset_index()\n",
    "\n",
    "\n",
    "plt.subplot(1,2,1)\n",
    "sns.barplot(x='age_binned',y='percentage',data=h12);\n",
    "#plt.xticks(rotation=90);\n",
    "\n",
    "plt.subplot(1,2,2)\n",
    "h111.drop(['response_x','response_y'],inplace=True,axis=1)\n",
    "sns.heatmap(h111.corr(method='pearson'),annot=True);\n"
   ]
  },
  {
   "cell_type": "markdown",
   "id": "a4c428e5",
   "metadata": {
    "heading_collapsed": true,
    "hide_input": true
   },
   "source": [
    "### 2. People with a drivers license will be more interested."
   ]
  },
  {
   "cell_type": "code",
   "execution_count": 199,
   "id": "0ececf05",
   "metadata": {
    "ExecuteTime": {
     "end_time": "2022-07-12T00:12:01.107888Z",
     "start_time": "2022-07-12T00:12:01.076936Z"
    },
    "hidden": true,
    "hide_input": true
   },
   "outputs": [
    {
     "name": "stdout",
     "output_type": "stream",
     "text": [
      "   driving_license  percentage\n",
      "0                0    5.049261\n",
      "1                1   12.271724\n"
     ]
    }
   ],
   "source": [
    "h2 = df3[['driving_license','response']].groupby('driving_license').count().reset_index()\n",
    "h21 = aux32[['driving_license','response']].groupby('driving_license').count().reset_index()\n",
    "h21['percentage'] = (h21['response']/h2['response']) *100\n",
    "h21.drop('response',axis=1, inplace=True)\n",
    "\n",
    "print(h21)"
   ]
  },
  {
   "cell_type": "markdown",
   "id": "e4469ed7",
   "metadata": {
    "heading_collapsed": true
   },
   "source": [
    "### 3. People previously ensured will be more interested."
   ]
  },
  {
   "cell_type": "code",
   "execution_count": 200,
   "id": "358558d4",
   "metadata": {
    "ExecuteTime": {
     "end_time": "2022-07-12T00:15:09.193285Z",
     "start_time": "2022-07-12T00:15:09.159028Z"
    },
    "hidden": true,
    "hide_input": true
   },
   "outputs": [
    {
     "name": "stdout",
     "output_type": "stream",
     "text": [
      "   previously_insured  percentage\n",
      "0                   0   22.545416\n",
      "1                   1    0.090478\n"
     ]
    }
   ],
   "source": [
    "h3 = df3[['previously_insured','response']].groupby('previously_insured').count().reset_index()\n",
    "h31 = aux32[['previously_insured','response']].groupby('previously_insured').count().reset_index()\n",
    "h31['percentage'] = (h31['response']/h3['response']) *100\n",
    "h31.drop('response',axis=1, inplace=True)\n",
    "\n",
    "print(h31)"
   ]
  },
  {
   "cell_type": "markdown",
   "id": "767009d5",
   "metadata": {
    "heading_collapsed": true,
    "hide_input": true
   },
   "source": [
    "### 4. People with lower annual premium will be more interested."
   ]
  },
  {
   "cell_type": "code",
   "execution_count": 259,
   "id": "266615e3",
   "metadata": {
    "ExecuteTime": {
     "end_time": "2022-07-12T01:20:27.924903Z",
     "start_time": "2022-07-12T01:20:27.601825Z"
    },
    "hidden": true,
    "hide_input": true,
    "scrolled": false
   },
   "outputs": [
    {
     "data": {
      "image/png": "[encoded data removed]",
      "text/plain": [
       "<Figure size 1800x864 with 3 Axes>"
      ]
     },
     "metadata": {},
     "output_type": "display_data"
    }
   ],
   "source": [
    "h4 = df3[['annual_premium','response']].groupby('annual_premium').count().reset_index()\n",
    "h41 = aux32[['annual_premium','response']].groupby('annual_premium').count().reset_index()\n",
    "h411 = pd.merge(h4,h41,on='annual_premium',how='left')\n",
    "h411 = h411.fillna(0)\n",
    "h411['percentage'] = (h411['response_y']/h411['response_x']) *100\n",
    "\n",
    "bins = [0, 10000, 20000, 30000, 40000, 50000, 60000]\n",
    "labels = ['<10k','10-20k','20-30k', '30-40k', '40-50k', '> 60k']\n",
    "h411['premium_binned'] = pd.cut(h411['annual_premium'],bins=bins, labels=labels)\n",
    "h42 = h411[['premium_binned','percentage']].groupby('premium_binned').mean().reset_index()\n",
    "\n",
    "plt.subplot(1,2,1)\n",
    "sns.barplot(x='premium_binned',y='percentage',data=h42);\n",
    "\n",
    "plt.subplot(1,2,2)\n",
    "h411.drop(['response_x','response_y'],inplace=True,axis=1)\n",
    "sns.heatmap(h411.corr(method='pearson'),annot=True);"
   ]
  },
  {
   "cell_type": "markdown",
   "id": "47fef906",
   "metadata": {},
   "source": [
    "### 5. People with higher vehicle age will be more interested."
   ]
  },
  {
   "cell_type": "code",
   "execution_count": 169,
   "id": "ca221a9a",
   "metadata": {
    "ExecuteTime": {
     "end_time": "2022-07-11T23:32:35.745882Z",
     "start_time": "2022-07-11T23:32:35.418118Z"
    }
   },
   "outputs": [
    {
     "data": {
      "image/png": "[encoded data removed]",
      "text/plain": [
       "<Figure size 1800x864 with 1 Axes>"
      ]
     },
     "metadata": {},
     "output_type": "display_data"
    }
   ],
   "source": [
    "h5 = aux32\n",
    "order = ['under_1_year','between_1_2_years','over_2_years']\n",
    "sns.countplot(h5['vehicle_age'],order=order);"
   ]
  },
  {
   "cell_type": "markdown",
   "id": "d5093ee1",
   "metadata": {},
   "source": [
    "### 6. People that had their vehicle damaged will be more interested."
   ]
  },
  {
   "cell_type": "code",
   "execution_count": 170,
   "id": "a7375da6",
   "metadata": {
    "ExecuteTime": {
     "end_time": "2022-07-11T23:34:37.879923Z",
     "start_time": "2022-07-11T23:34:37.653246Z"
    }
   },
   "outputs": [
    {
     "data": {
      "image/png": "[encoded data removed]",
      "text/plain": [
       "<Figure size 1800x864 with 1 Axes>"
      ]
     },
     "metadata": {},
     "output_type": "display_data"
    }
   ],
   "source": [
    "h6 = aux32\n",
    "sns.countplot(h6['vehicle_damage']);"
   ]
  },
  {
   "cell_type": "code",
   "execution_count": null,
   "id": "12d7b775",
   "metadata": {},
   "outputs": [],
   "source": []
  }
 ],
 "metadata": {
  "kernelspec": {
   "display_name": "Python 3 (ipykernel)",
   "language": "python",
   "name": "python3"
  },
  "language_info": {
   "codemirror_mode": {
    "name": "ipython",
    "version": 3
   },
   "file_extension": ".py",
   "mimetype": "text/x-python",
   "name": "python",
   "nbconvert_exporter": "python",
   "pygments_lexer": "ipython3",
   "version": "3.9.12"
  }
 },
 "nbformat": 4,
 "nbformat_minor": 5
}
