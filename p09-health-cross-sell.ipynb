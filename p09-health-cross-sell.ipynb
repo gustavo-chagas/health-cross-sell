{
 "cells": [
  {
   "cell_type": "markdown",
   "id": "ea13f80c",
   "metadata": {},
   "source": [
    "# 0.0 IMPORTS"
   ]
  },
  {
   "cell_type": "code",
   "execution_count": 1,
   "id": "363f4b7f",
   "metadata": {
    "ExecuteTime": {
     "end_time": "2022-08-11T16:41:12.812166Z",
     "start_time": "2022-08-11T16:41:06.032277Z"
    }
   },
   "outputs": [
    {
     "name": "stderr",
     "output_type": "stream",
     "text": [
      "C:\\Users\\gusta\\AppData\\Local\\Temp\\ipykernel_10756\\2018881892.py:11: DeprecationWarning: Importing display from IPython.core.display is deprecated since IPython 7.14, please import from IPython display\n",
      "  from IPython.core.display import HTML, display\n"
     ]
    }
   ],
   "source": [
    "import psycopg2\n",
    "import pandas as pd\n",
    "import numpy as np\n",
    "import warnings\n",
    "import json\n",
    "\n",
    "import seaborn as sns\n",
    "import matplotlib.pyplot as plt\n",
    "import scikitplot as skplt\n",
    "\n",
    "from IPython.core.display import HTML, display\n",
    "\n",
    "from sklearn.metrics import precision_score\n",
    "from sklearn.metrics import ConfusionMatrixDisplay\n",
    "from sklearn import preprocessing as pp\n",
    "from sklearn import model_selection as ms\n",
    "from sklearn import ensemble as en\n",
    "from sklearn import neighbors as nh\n",
    "from sklearn.linear_model import LogisticRegression as lr\n",
    "from sklearn import tree\n",
    "import pyltr\n",
    "import cv\n",
    "import pickle"
   ]
  },
  {
   "cell_type": "markdown",
   "id": "1f664326",
   "metadata": {},
   "source": [
    "## 0.1 HELPER FUNCTIONS"
   ]
  },
  {
   "cell_type": "code",
   "execution_count": 2,
   "id": "d705ec46",
   "metadata": {
    "ExecuteTime": {
     "end_time": "2022-08-11T16:41:16.560143Z",
     "start_time": "2022-08-11T16:41:16.510384Z"
    }
   },
   "outputs": [],
   "source": [
    "def jupyter_settings():\n",
    "    %matplotlib inline\n",
    "    %pylab inline\n",
    "    \n",
    "    plt.style.use( 'bmh' )\n",
    "    plt.rcParams['figure.figsize'] = [15, 8]\n",
    "    plt.rcParams['font.size'] = 24\n",
    "    \n",
    "    display( HTML( '<style>.container { width:100% !important; }</style>') )\n",
    "    pd.options.display.max_columns = None\n",
    "    pd.options.display.max_rows = None\n",
    "    pd.set_option( 'display.expand_frame_repr', False )\n",
    "    \n",
    "    sns.set()\n",
    "    \n",
    "def precision_at_k(data,k):\n",
    "\n",
    "    data = data.reset_index(drop=True)\n",
    "    data['ranking'] = data.index + 1\n",
    "\n",
    "    data['precision_at_k'] = data['response'].cumsum()/data['ranking']\n",
    "\n",
    "    return data.loc[k,'precision_at_k']\n",
    "\n",
    "def recall_at_k(data,k):\n",
    "\n",
    "    data = data.reset_index(drop=True)\n",
    "    data['ranking'] = data.index + 1\n",
    "\n",
    "    data['recall_at_k'] = data['response'].cumsum()/data['response'].sum()\n",
    "    \n",
    "    return data.loc[k,'recall_at_k']\n",
    "\n",
    "def gain_lift_curve(yhat, yval, plot = True, size = (6,8)):\n",
    "    '''\n",
    "    plots gain and lift curve, respectively\n",
    "    returns the curves and a table used to plot the curves\n",
    "    '''\n",
    "\n",
    "    # create table proba with the propensity score for each class (0 and 1)\n",
    "    table_proba = pd.DataFrame(yhat)\n",
    "\n",
    "    # add the 'response' column\n",
    "    table_proba['target'] = yval.values\n",
    "\n",
    "    # add the 'correct' column to evaluate wheter the prediction was right or not\n",
    "    x = lambda x: \"yes\" if x[0] > x[1] and x['target'] == 0 else \"yes\" if x[1] > x[0] and x['target'] == 1 else \"yes\" if x[0] == x[1] else \"no\" \n",
    "    table_proba['correct'] = table_proba.apply(x, axis = 1)\n",
    "\n",
    "    # order by propensity score for the class 1\n",
    "    table_proba.sort_values(1, ascending = False, inplace = True)\n",
    "\n",
    "    # create cumulative propensity score\n",
    "    ## calculate the quantity of class 1 rows\n",
    "    qty_class_1 = table_proba.groupby('target').count().loc[1,1]\n",
    "\n",
    "    ## apply a score for every row which target is 1\n",
    "    x = lambda x: 1/qty_class_1 if x['target'] == 1 else 0\n",
    "    table_proba['propensity_score'] = table_proba.apply(x, axis = 1)\n",
    "    table_proba['cumulative_propensity_score'] = np.cumsum(table_proba['propensity_score'])\n",
    "\n",
    "    # create % cumulative of the base\n",
    "    x = lambda x: 1/len(table_proba)\n",
    "    table_proba['porc_base'] = table_proba.apply(x, axis = 1)\n",
    "    table_proba['cumulative_porc_base'] = np.cumsum(table_proba['porc_base'])\n",
    "    table_proba.drop('porc_base', axis = 1, inplace = True)\n",
    "\n",
    "    # create the lift column\n",
    "    table_proba['lift'] = table_proba['cumulative_propensity_score'] / table_proba['cumulative_porc_base']\n",
    "\n",
    "    if plot:\n",
    "        fig, axes = plt.subplots(2, 1, figsize=size)\n",
    "\n",
    "        # gap between graphics\n",
    "        fig.tight_layout(pad =5)\n",
    "\n",
    "        # gain curve\n",
    "        sns.lineplot(ax = axes[0], x = table_proba['cumulative_porc_base'], y = table_proba['cumulative_propensity_score'], label=\"cumulative (model)\", linewidth = 2.5);\n",
    "        sns.lineplot(ax = axes[0], x = table_proba['cumulative_porc_base'], y = table_proba['cumulative_porc_base'], label=\"baseline\", linewidth = 2.5, color = 'black' )\n",
    "        axes[0].lines[1].set_linestyle(\"--\")\n",
    "        axes[0].legend()\n",
    "        axes[0].set_title(\"cumulative gains curve\")\n",
    "        axes[0].set_xlabel(\"percentage of sample\")\n",
    "        axes[0].set_ylabel(\"gain\")\n",
    "\n",
    "        # lift curve\n",
    "        ## do not consider the beginning of the series, as it varies a lot (the sample is still small)\n",
    "        table_proba_filtered = table_proba.query('cumulative_porc_base >= 0.1')\n",
    "\n",
    "        sns.lineplot(ax = axes[1], x = table_proba_filtered['cumulative_porc_base'], y = table_proba_filtered['lift'], label=\"model\", linewidth = 2.5 );\n",
    "        sns.lineplot(ax = axes[1], x = table_proba_filtered['cumulative_porc_base'], y = np.ones(len(table_proba_filtered)), label=\"baseline\", linewidth = 2.5, color = 'black' )\n",
    "        axes[1].lines[1].set_linestyle(\"--\")\n",
    "        axes[1].legend()\n",
    "        axes[1].set_title(\"lift curve\")\n",
    "        axes[1].set_xlabel(\"percentage of sample\")\n",
    "\n",
    "        plt.show();\n",
    "        \n",
    "    return (table_proba)\n",
    "\n",
    "def precision_recall_at_k(table, k = 2000):\n",
    "    ''' \n",
    "    receives the table that was generated in gain_lift_curve function and returns: \n",
    "    - a tuple containg the precision at k and recall at k, respectively\n",
    "    - a new table with precision_at_k and recall_at_k metrics \n",
    "    '''\n",
    "    table.reset_index(drop=True, inplace = True)\n",
    "    table['ranking'] = table.index + 1 # as the index starts in 0 it is necessary to +1\n",
    "    table['precision_at_k'] = table['target'].cumsum() / table['ranking']\n",
    "    table['recall_at_k'] = table['target'].cumsum() / table['target'].sum()\n",
    "    return ((table.loc[k-1, 'precision_at_k'], table.loc[k-1, 'recall_at_k']),table)"
   ]
  },
  {
   "cell_type": "code",
   "execution_count": 3,
   "id": "b0984f4f",
   "metadata": {
    "ExecuteTime": {
     "end_time": "2022-08-11T16:41:17.613974Z",
     "start_time": "2022-08-11T16:41:17.543608Z"
    }
   },
   "outputs": [
    {
     "name": "stdout",
     "output_type": "stream",
     "text": [
      "%pylab is deprecated, use %matplotlib inline and import the required libraries.\n",
      "Populating the interactive namespace from numpy and matplotlib\n"
     ]
    },
    {
     "data": {
      "text/html": [
       "<style>.container { width:100% !important; }</style>"
      ],
      "text/plain": [
       "<IPython.core.display.HTML object>"
      ]
     },
     "metadata": {},
     "output_type": "display_data"
    }
   ],
   "source": [
    "jupyter_settings();\n",
    "warnings.filterwarnings(\"ignore\");"
   ]
  },
  {
   "cell_type": "markdown",
   "id": "a760f180",
   "metadata": {},
   "source": [
    "## 0.2 FETCHING DATA "
   ]
  },
  {
   "cell_type": "code",
   "execution_count": 4,
   "id": "e53612a2",
   "metadata": {
    "ExecuteTime": {
     "end_time": "2022-08-11T16:41:21.280610Z",
     "start_time": "2022-08-11T16:41:20.466708Z"
    }
   },
   "outputs": [
    {
     "name": "stdout",
     "output_type": "stream",
     "text": [
      "[('pg_catalog',), ('information_schema',), ('public',), ('pa004',)]\n"
     ]
    }
   ],
   "source": [
    "with open('.credentials.json') as json_file:\n",
    "    cred = json.load(json_file)\n",
    "\n",
    "conn = psycopg2.connect(dbname=cred['dbname'], user=cred['user'], password=cred['password'],host=cred['host'],port=cred['port'])\n",
    "\n",
    "cursor = conn.cursor()\n",
    "cursor.execute('select schema_name from information_schema.schemata')\n",
    "schemas = cursor.fetchall()\n",
    "print(schemas)\n",
    "\n",
    "cursor.close()"
   ]
  },
  {
   "cell_type": "code",
   "execution_count": 5,
   "id": "0ee0371e",
   "metadata": {
    "ExecuteTime": {
     "end_time": "2022-08-11T16:41:31.348820Z",
     "start_time": "2022-08-11T16:41:21.280610Z"
    }
   },
   "outputs": [
    {
     "name": "stdout",
     "output_type": "stream",
     "text": [
      "[('users',), ('vehicle',), ('insurance',)]\n"
     ]
    }
   ],
   "source": [
    "query_tables = \"select table_name from information_schema.tables where table_schema = 'pa004' \"\n",
    "\n",
    "cursor = conn.cursor()\n",
    "cursor.execute(query_tables)\n",
    "tables = cursor.fetchall()\n",
    "print(tables)\n",
    "\n",
    "users = pd.read_sql_query('select * from pa004.users',conn)\n",
    "vehicle = pd.read_sql_query('select * from pa004.vehicle',conn)\n",
    "insurance = pd.read_sql_query('select * from pa004.insurance',conn)\n",
    "\n",
    "cursor.close()\n",
    "conn.close()"
   ]
  },
  {
   "cell_type": "code",
   "execution_count": 6,
   "id": "415c7945",
   "metadata": {
    "ExecuteTime": {
     "end_time": "2022-08-11T16:41:32.241775Z",
     "start_time": "2022-08-11T16:41:31.354787Z"
    }
   },
   "outputs": [
    {
     "data": {
      "text/html": [
       "<div>\n",
       "<style scoped>\n",
       "    .dataframe tbody tr th:only-of-type {\n",
       "        vertical-align: middle;\n",
       "    }\n",
       "\n",
       "    .dataframe tbody tr th {\n",
       "        vertical-align: top;\n",
       "    }\n",
       "\n",
       "    .dataframe thead th {\n",
       "        text-align: right;\n",
       "    }\n",
       "</style>\n",
       "<table border=\"1\" class=\"dataframe\">\n",
       "  <thead>\n",
       "    <tr style=\"text-align: right;\">\n",
       "      <th></th>\n",
       "      <th>id</th>\n",
       "      <th>gender</th>\n",
       "      <th>age</th>\n",
       "      <th>region_code</th>\n",
       "      <th>policy_sales_channel</th>\n",
       "      <th>driving_license</th>\n",
       "      <th>vehicle_age</th>\n",
       "      <th>vehicle_damage</th>\n",
       "      <th>previously_insured</th>\n",
       "      <th>annual_premium</th>\n",
       "      <th>vintage</th>\n",
       "      <th>response</th>\n",
       "    </tr>\n",
       "  </thead>\n",
       "  <tbody>\n",
       "    <tr>\n",
       "      <th>0</th>\n",
       "      <td>1</td>\n",
       "      <td>Male</td>\n",
       "      <td>44</td>\n",
       "      <td>28.0</td>\n",
       "      <td>26.0</td>\n",
       "      <td>1</td>\n",
       "      <td>&gt; 2 Years</td>\n",
       "      <td>Yes</td>\n",
       "      <td>0</td>\n",
       "      <td>40454.0</td>\n",
       "      <td>217</td>\n",
       "      <td>1</td>\n",
       "    </tr>\n",
       "    <tr>\n",
       "      <th>1</th>\n",
       "      <td>2</td>\n",
       "      <td>Male</td>\n",
       "      <td>76</td>\n",
       "      <td>3.0</td>\n",
       "      <td>26.0</td>\n",
       "      <td>1</td>\n",
       "      <td>1-2 Year</td>\n",
       "      <td>No</td>\n",
       "      <td>0</td>\n",
       "      <td>33536.0</td>\n",
       "      <td>183</td>\n",
       "      <td>0</td>\n",
       "    </tr>\n",
       "    <tr>\n",
       "      <th>2</th>\n",
       "      <td>3</td>\n",
       "      <td>Male</td>\n",
       "      <td>47</td>\n",
       "      <td>28.0</td>\n",
       "      <td>26.0</td>\n",
       "      <td>1</td>\n",
       "      <td>&gt; 2 Years</td>\n",
       "      <td>Yes</td>\n",
       "      <td>0</td>\n",
       "      <td>38294.0</td>\n",
       "      <td>27</td>\n",
       "      <td>1</td>\n",
       "    </tr>\n",
       "    <tr>\n",
       "      <th>3</th>\n",
       "      <td>4</td>\n",
       "      <td>Male</td>\n",
       "      <td>21</td>\n",
       "      <td>11.0</td>\n",
       "      <td>152.0</td>\n",
       "      <td>1</td>\n",
       "      <td>&lt; 1 Year</td>\n",
       "      <td>No</td>\n",
       "      <td>1</td>\n",
       "      <td>28619.0</td>\n",
       "      <td>203</td>\n",
       "      <td>0</td>\n",
       "    </tr>\n",
       "    <tr>\n",
       "      <th>4</th>\n",
       "      <td>5</td>\n",
       "      <td>Female</td>\n",
       "      <td>29</td>\n",
       "      <td>41.0</td>\n",
       "      <td>152.0</td>\n",
       "      <td>1</td>\n",
       "      <td>&lt; 1 Year</td>\n",
       "      <td>No</td>\n",
       "      <td>1</td>\n",
       "      <td>27496.0</td>\n",
       "      <td>39</td>\n",
       "      <td>0</td>\n",
       "    </tr>\n",
       "  </tbody>\n",
       "</table>\n",
       "</div>"
      ],
      "text/plain": [
       "   id  gender  age  region_code  policy_sales_channel  driving_license vehicle_age vehicle_damage  previously_insured  annual_premium  vintage  response\n",
       "0   1    Male   44         28.0                  26.0                1   > 2 Years            Yes                   0         40454.0      217         1\n",
       "1   2    Male   76          3.0                  26.0                1    1-2 Year             No                   0         33536.0      183         0\n",
       "2   3    Male   47         28.0                  26.0                1   > 2 Years            Yes                   0         38294.0       27         1\n",
       "3   4    Male   21         11.0                 152.0                1    < 1 Year             No                   1         28619.0      203         0\n",
       "4   5  Female   29         41.0                 152.0                1    < 1 Year             No                   1         27496.0       39         0"
      ]
     },
     "execution_count": 6,
     "metadata": {},
     "output_type": "execute_result"
    }
   ],
   "source": [
    "df = pd.merge(users, vehicle, on='id')\n",
    "df = pd.merge(df,insurance,on='id')\n",
    "df.head()"
   ]
  },
  {
   "cell_type": "markdown",
   "id": "c62dc328",
   "metadata": {},
   "source": [
    "# 1.0 DATA DESCRIPTION"
   ]
  },
  {
   "cell_type": "code",
   "execution_count": 7,
   "id": "0b7e9313",
   "metadata": {
    "ExecuteTime": {
     "end_time": "2022-08-11T16:41:41.446821Z",
     "start_time": "2022-08-11T16:41:41.259484Z"
    }
   },
   "outputs": [],
   "source": [
    "df1 = df.copy()"
   ]
  },
  {
   "cell_type": "markdown",
   "id": "4628865c",
   "metadata": {},
   "source": [
    "## 1.1 DATA DIMENSIONS"
   ]
  },
  {
   "cell_type": "code",
   "execution_count": 190,
   "id": "745401b7",
   "metadata": {
    "ExecuteTime": {
     "end_time": "2022-08-10T00:08:09.944849Z",
     "start_time": "2022-08-10T00:08:09.921235Z"
    }
   },
   "outputs": [
    {
     "name": "stdout",
     "output_type": "stream",
     "text": [
      "Rows: 381109\n",
      "Columns: 12\n"
     ]
    }
   ],
   "source": [
    "print('Rows: {}'.format(df1.shape[0]))\n",
    "print('Columns: {}'.format(df1.shape[1]))"
   ]
  },
  {
   "cell_type": "markdown",
   "id": "02e3d0eb",
   "metadata": {},
   "source": [
    "## 1.2 DATA TYPES"
   ]
  },
  {
   "cell_type": "code",
   "execution_count": 94,
   "id": "9f24f6e6",
   "metadata": {
    "ExecuteTime": {
     "end_time": "2022-08-09T23:27:31.706228Z",
     "start_time": "2022-08-09T23:27:31.682147Z"
    }
   },
   "outputs": [
    {
     "data": {
      "text/plain": [
       "id                        int64\n",
       "gender                   object\n",
       "age                       int64\n",
       "region_code             float64\n",
       "policy_sales_channel    float64\n",
       "driving_license           int64\n",
       "vehicle_age              object\n",
       "vehicle_damage           object\n",
       "previously_insured        int64\n",
       "annual_premium          float64\n",
       "vintage                   int64\n",
       "response                  int64\n",
       "dtype: object"
      ]
     },
     "execution_count": 94,
     "metadata": {},
     "output_type": "execute_result"
    }
   ],
   "source": [
    "df1.dtypes"
   ]
  },
  {
   "cell_type": "markdown",
   "id": "6979d93f",
   "metadata": {},
   "source": [
    "## 1.3 CHECKING NA DATA"
   ]
  },
  {
   "cell_type": "code",
   "execution_count": 95,
   "id": "c0f4d95b",
   "metadata": {
    "ExecuteTime": {
     "end_time": "2022-08-09T23:27:33.163283Z",
     "start_time": "2022-08-09T23:27:33.007973Z"
    }
   },
   "outputs": [
    {
     "data": {
      "text/plain": [
       "id                      0\n",
       "gender                  0\n",
       "age                     0\n",
       "region_code             0\n",
       "policy_sales_channel    0\n",
       "driving_license         0\n",
       "vehicle_age             0\n",
       "vehicle_damage          0\n",
       "previously_insured      0\n",
       "annual_premium          0\n",
       "vintage                 0\n",
       "response                0\n",
       "dtype: int64"
      ]
     },
     "execution_count": 95,
     "metadata": {},
     "output_type": "execute_result"
    }
   ],
   "source": [
    "df1.isna().sum()"
   ]
  },
  {
   "cell_type": "markdown",
   "id": "44d183b1",
   "metadata": {
    "ExecuteTime": {
     "end_time": "2022-07-06T22:07:48.426206Z",
     "start_time": "2022-07-06T22:07:48.422303Z"
    }
   },
   "source": [
    "## 1.4 CHANGING TYPES"
   ]
  },
  {
   "cell_type": "code",
   "execution_count": 112,
   "id": "95e73aae",
   "metadata": {
    "ExecuteTime": {
     "end_time": "2022-08-09T23:30:12.819495Z",
     "start_time": "2022-08-09T23:30:12.800181Z"
    }
   },
   "outputs": [],
   "source": [
    "df1['region_code'] = df1['region_code'].astype('int64')\n",
    "df1['policy_sales_channel'] = df1['policy_sales_channel'].astype('int64')"
   ]
  },
  {
   "cell_type": "markdown",
   "id": "eb0f61a8",
   "metadata": {},
   "source": [
    "## 1.5 STATISTIC DESCRIPTION"
   ]
  },
  {
   "cell_type": "code",
   "execution_count": 202,
   "id": "140ac041",
   "metadata": {
    "ExecuteTime": {
     "end_time": "2022-08-10T00:12:59.097585Z",
     "start_time": "2022-08-10T00:12:59.084086Z"
    }
   },
   "outputs": [],
   "source": [
    "num_attributes = df1.select_dtypes(include=['int64','float64'])\n",
    "cat_attributes = df1.select_dtypes(exclude=['int64','float64','datetime64[ns]'])"
   ]
  },
  {
   "cell_type": "markdown",
   "id": "ff293260",
   "metadata": {},
   "source": [
    "### 1.5.1 NUMERICAL ATTRIBUTES"
   ]
  },
  {
   "cell_type": "code",
   "execution_count": 98,
   "id": "46258641",
   "metadata": {
    "ExecuteTime": {
     "end_time": "2022-08-09T23:27:40.076437Z",
     "start_time": "2022-08-09T23:27:39.463933Z"
    }
   },
   "outputs": [
    {
     "data": {
      "text/html": [
       "<div>\n",
       "<style scoped>\n",
       "    .dataframe tbody tr th:only-of-type {\n",
       "        vertical-align: middle;\n",
       "    }\n",
       "\n",
       "    .dataframe tbody tr th {\n",
       "        vertical-align: top;\n",
       "    }\n",
       "\n",
       "    .dataframe thead th {\n",
       "        text-align: right;\n",
       "    }\n",
       "</style>\n",
       "<table border=\"1\" class=\"dataframe\">\n",
       "  <thead>\n",
       "    <tr style=\"text-align: right;\">\n",
       "      <th></th>\n",
       "      <th>attributes</th>\n",
       "      <th>min</th>\n",
       "      <th>max</th>\n",
       "      <th>range</th>\n",
       "      <th>mean</th>\n",
       "      <th>median</th>\n",
       "      <th>std</th>\n",
       "      <th>skew</th>\n",
       "      <th>kurtosis</th>\n",
       "    </tr>\n",
       "  </thead>\n",
       "  <tbody>\n",
       "    <tr>\n",
       "      <th>0</th>\n",
       "      <td>id</td>\n",
       "      <td>1.0</td>\n",
       "      <td>381109.0</td>\n",
       "      <td>381108.0</td>\n",
       "      <td>190555.000000</td>\n",
       "      <td>190555.0</td>\n",
       "      <td>110016.691870</td>\n",
       "      <td>9.443274e-16</td>\n",
       "      <td>-1.200000</td>\n",
       "    </tr>\n",
       "    <tr>\n",
       "      <th>1</th>\n",
       "      <td>age</td>\n",
       "      <td>20.0</td>\n",
       "      <td>85.0</td>\n",
       "      <td>65.0</td>\n",
       "      <td>38.822584</td>\n",
       "      <td>36.0</td>\n",
       "      <td>15.511591</td>\n",
       "      <td>6.725390e-01</td>\n",
       "      <td>-0.565655</td>\n",
       "    </tr>\n",
       "    <tr>\n",
       "      <th>2</th>\n",
       "      <td>region_code</td>\n",
       "      <td>0.0</td>\n",
       "      <td>52.0</td>\n",
       "      <td>52.0</td>\n",
       "      <td>26.388807</td>\n",
       "      <td>28.0</td>\n",
       "      <td>13.229871</td>\n",
       "      <td>-1.152664e-01</td>\n",
       "      <td>-0.867857</td>\n",
       "    </tr>\n",
       "    <tr>\n",
       "      <th>3</th>\n",
       "      <td>policy_sales_channel</td>\n",
       "      <td>1.0</td>\n",
       "      <td>163.0</td>\n",
       "      <td>162.0</td>\n",
       "      <td>112.034295</td>\n",
       "      <td>133.0</td>\n",
       "      <td>54.203924</td>\n",
       "      <td>-9.000081e-01</td>\n",
       "      <td>-0.970810</td>\n",
       "    </tr>\n",
       "    <tr>\n",
       "      <th>4</th>\n",
       "      <td>driving_license</td>\n",
       "      <td>0.0</td>\n",
       "      <td>1.0</td>\n",
       "      <td>1.0</td>\n",
       "      <td>0.997869</td>\n",
       "      <td>1.0</td>\n",
       "      <td>0.046109</td>\n",
       "      <td>-2.159518e+01</td>\n",
       "      <td>464.354302</td>\n",
       "    </tr>\n",
       "    <tr>\n",
       "      <th>5</th>\n",
       "      <td>previously_insured</td>\n",
       "      <td>0.0</td>\n",
       "      <td>1.0</td>\n",
       "      <td>1.0</td>\n",
       "      <td>0.458210</td>\n",
       "      <td>0.0</td>\n",
       "      <td>0.498251</td>\n",
       "      <td>1.677471e-01</td>\n",
       "      <td>-1.971871</td>\n",
       "    </tr>\n",
       "    <tr>\n",
       "      <th>6</th>\n",
       "      <td>annual_premium</td>\n",
       "      <td>2630.0</td>\n",
       "      <td>540165.0</td>\n",
       "      <td>537535.0</td>\n",
       "      <td>30564.389581</td>\n",
       "      <td>31669.0</td>\n",
       "      <td>17213.132474</td>\n",
       "      <td>1.766087e+00</td>\n",
       "      <td>34.004569</td>\n",
       "    </tr>\n",
       "    <tr>\n",
       "      <th>7</th>\n",
       "      <td>vintage</td>\n",
       "      <td>10.0</td>\n",
       "      <td>299.0</td>\n",
       "      <td>289.0</td>\n",
       "      <td>154.347397</td>\n",
       "      <td>154.0</td>\n",
       "      <td>83.671194</td>\n",
       "      <td>3.029517e-03</td>\n",
       "      <td>-1.200688</td>\n",
       "    </tr>\n",
       "    <tr>\n",
       "      <th>8</th>\n",
       "      <td>response</td>\n",
       "      <td>0.0</td>\n",
       "      <td>1.0</td>\n",
       "      <td>1.0</td>\n",
       "      <td>0.122563</td>\n",
       "      <td>0.0</td>\n",
       "      <td>0.327935</td>\n",
       "      <td>2.301906e+00</td>\n",
       "      <td>3.298788</td>\n",
       "    </tr>\n",
       "  </tbody>\n",
       "</table>\n",
       "</div>"
      ],
      "text/plain": [
       "             attributes     min       max     range           mean    median            std          skew    kurtosis\n",
       "0                    id     1.0  381109.0  381108.0  190555.000000  190555.0  110016.691870  9.443274e-16   -1.200000\n",
       "1                   age    20.0      85.0      65.0      38.822584      36.0      15.511591  6.725390e-01   -0.565655\n",
       "2           region_code     0.0      52.0      52.0      26.388807      28.0      13.229871 -1.152664e-01   -0.867857\n",
       "3  policy_sales_channel     1.0     163.0     162.0     112.034295     133.0      54.203924 -9.000081e-01   -0.970810\n",
       "4       driving_license     0.0       1.0       1.0       0.997869       1.0       0.046109 -2.159518e+01  464.354302\n",
       "5    previously_insured     0.0       1.0       1.0       0.458210       0.0       0.498251  1.677471e-01   -1.971871\n",
       "6        annual_premium  2630.0  540165.0  537535.0   30564.389581   31669.0   17213.132474  1.766087e+00   34.004569\n",
       "7               vintage    10.0     299.0     289.0     154.347397     154.0      83.671194  3.029517e-03   -1.200688\n",
       "8              response     0.0       1.0       1.0       0.122563       0.0       0.327935  2.301906e+00    3.298788"
      ]
     },
     "execution_count": 98,
     "metadata": {},
     "output_type": "execute_result"
    }
   ],
   "source": [
    "# Central tendency: mean, median\n",
    "ct1 = pd.DataFrame(num_attributes.apply(np.mean)).T\n",
    "ct2 = pd.DataFrame(num_attributes.apply(np.median)).T\n",
    "\n",
    "#Dispersion: std, min, max, range, skew, kurtosis\n",
    "d1 = pd.DataFrame(num_attributes.apply(np.std)).T\n",
    "d2 = pd.DataFrame(num_attributes.apply(min)).T\n",
    "d3 = pd.DataFrame(num_attributes.apply(max)).T\n",
    "d4 = pd.DataFrame(num_attributes.apply(lambda x: x.max()-x.min())).T\n",
    "d5 = pd.DataFrame(num_attributes.apply(lambda x: x.skew())).T\n",
    "d6 = pd.DataFrame(num_attributes.apply(lambda x: x.kurtosis())).T\n",
    "\n",
    "#Concatenate\n",
    "m = pd.concat([d2, d3, d4, ct1, ct2, d1, d5, d6]).T.reset_index()\n",
    "m.columns=['attributes','min','max','range','mean','median','std','skew','kurtosis']\n",
    "m"
   ]
  },
  {
   "cell_type": "markdown",
   "id": "ecfc6e16",
   "metadata": {},
   "source": [
    "### 1.5.2 CATEGORICAL ATTRIBUTES"
   ]
  },
  {
   "cell_type": "code",
   "execution_count": 203,
   "id": "7a3d1b3d",
   "metadata": {
    "ExecuteTime": {
     "end_time": "2022-08-10T00:13:04.829466Z",
     "start_time": "2022-08-10T00:13:04.735562Z"
    }
   },
   "outputs": [
    {
     "data": {
      "text/plain": [
       "gender                             [Male, Female]\n",
       "vehicle_age       [> 2 Years, 1-2 Year, < 1 Year]\n",
       "vehicle_damage                          [Yes, No]\n",
       "dtype: object"
      ]
     },
     "execution_count": 203,
     "metadata": {},
     "output_type": "execute_result"
    }
   ],
   "source": [
    "cat_attributes.apply(lambda x: x.unique())"
   ]
  },
  {
   "cell_type": "markdown",
   "id": "00627b59",
   "metadata": {},
   "source": [
    "# 2.0 FEATURE ENGINEERING"
   ]
  },
  {
   "cell_type": "code",
   "execution_count": 8,
   "id": "65d8f95e",
   "metadata": {
    "ExecuteTime": {
     "end_time": "2022-08-11T16:41:46.542449Z",
     "start_time": "2022-08-11T16:41:46.474618Z"
    }
   },
   "outputs": [],
   "source": [
    "df2 = df1.copy()"
   ]
  },
  {
   "cell_type": "markdown",
   "id": "c4773f18",
   "metadata": {
    "heading_collapsed": true
   },
   "source": [
    "## 2.1 HYPOTHESIS LIST"
   ]
  },
  {
   "cell_type": "markdown",
   "id": "53ac3902",
   "metadata": {
    "hidden": true
   },
   "source": [
    "1. Older people will be more interested.\n",
    "2. People with a drivers license will be more interested.\n",
    "3. People previously ensured will be more interested.\n",
    "4. People with lower annual premium are the most interested.\n",
    "5. People with higher vehicle age will be more interested.\n",
    "6. People that had their vehicle damaged will be more interested."
   ]
  },
  {
   "cell_type": "markdown",
   "id": "c46cc915",
   "metadata": {},
   "source": [
    "## 2.2 FEATURE ENGINEERING"
   ]
  },
  {
   "cell_type": "code",
   "execution_count": 205,
   "id": "7189e64b",
   "metadata": {
    "ExecuteTime": {
     "end_time": "2022-08-10T00:13:10.472726Z",
     "start_time": "2022-08-10T00:13:10.184513Z"
    }
   },
   "outputs": [
    {
     "data": {
      "text/html": [
       "<div>\n",
       "<style scoped>\n",
       "    .dataframe tbody tr th:only-of-type {\n",
       "        vertical-align: middle;\n",
       "    }\n",
       "\n",
       "    .dataframe tbody tr th {\n",
       "        vertical-align: top;\n",
       "    }\n",
       "\n",
       "    .dataframe thead th {\n",
       "        text-align: right;\n",
       "    }\n",
       "</style>\n",
       "<table border=\"1\" class=\"dataframe\">\n",
       "  <thead>\n",
       "    <tr style=\"text-align: right;\">\n",
       "      <th></th>\n",
       "      <th>id</th>\n",
       "      <th>gender</th>\n",
       "      <th>age</th>\n",
       "      <th>region_code</th>\n",
       "      <th>policy_sales_channel</th>\n",
       "      <th>driving_license</th>\n",
       "      <th>vehicle_age</th>\n",
       "      <th>vehicle_damage</th>\n",
       "      <th>previously_insured</th>\n",
       "      <th>annual_premium</th>\n",
       "      <th>vintage</th>\n",
       "      <th>response</th>\n",
       "    </tr>\n",
       "  </thead>\n",
       "  <tbody>\n",
       "    <tr>\n",
       "      <th>0</th>\n",
       "      <td>1</td>\n",
       "      <td>Male</td>\n",
       "      <td>44</td>\n",
       "      <td>28.0</td>\n",
       "      <td>26.0</td>\n",
       "      <td>1</td>\n",
       "      <td>over_2_years</td>\n",
       "      <td>1</td>\n",
       "      <td>0</td>\n",
       "      <td>40454.0</td>\n",
       "      <td>217</td>\n",
       "      <td>1</td>\n",
       "    </tr>\n",
       "    <tr>\n",
       "      <th>1</th>\n",
       "      <td>2</td>\n",
       "      <td>Male</td>\n",
       "      <td>76</td>\n",
       "      <td>3.0</td>\n",
       "      <td>26.0</td>\n",
       "      <td>1</td>\n",
       "      <td>between_1_2_years</td>\n",
       "      <td>0</td>\n",
       "      <td>0</td>\n",
       "      <td>33536.0</td>\n",
       "      <td>183</td>\n",
       "      <td>0</td>\n",
       "    </tr>\n",
       "    <tr>\n",
       "      <th>2</th>\n",
       "      <td>3</td>\n",
       "      <td>Male</td>\n",
       "      <td>47</td>\n",
       "      <td>28.0</td>\n",
       "      <td>26.0</td>\n",
       "      <td>1</td>\n",
       "      <td>over_2_years</td>\n",
       "      <td>1</td>\n",
       "      <td>0</td>\n",
       "      <td>38294.0</td>\n",
       "      <td>27</td>\n",
       "      <td>1</td>\n",
       "    </tr>\n",
       "    <tr>\n",
       "      <th>3</th>\n",
       "      <td>4</td>\n",
       "      <td>Male</td>\n",
       "      <td>21</td>\n",
       "      <td>11.0</td>\n",
       "      <td>152.0</td>\n",
       "      <td>1</td>\n",
       "      <td>under_1_year</td>\n",
       "      <td>0</td>\n",
       "      <td>1</td>\n",
       "      <td>28619.0</td>\n",
       "      <td>203</td>\n",
       "      <td>0</td>\n",
       "    </tr>\n",
       "    <tr>\n",
       "      <th>4</th>\n",
       "      <td>5</td>\n",
       "      <td>Female</td>\n",
       "      <td>29</td>\n",
       "      <td>41.0</td>\n",
       "      <td>152.0</td>\n",
       "      <td>1</td>\n",
       "      <td>under_1_year</td>\n",
       "      <td>0</td>\n",
       "      <td>1</td>\n",
       "      <td>27496.0</td>\n",
       "      <td>39</td>\n",
       "      <td>0</td>\n",
       "    </tr>\n",
       "  </tbody>\n",
       "</table>\n",
       "</div>"
      ],
      "text/plain": [
       "   id  gender  age  region_code  policy_sales_channel  driving_license        vehicle_age  vehicle_damage  previously_insured  annual_premium  vintage  response\n",
       "0   1    Male   44         28.0                  26.0                1       over_2_years               1                   0         40454.0      217         1\n",
       "1   2    Male   76          3.0                  26.0                1  between_1_2_years               0                   0         33536.0      183         0\n",
       "2   3    Male   47         28.0                  26.0                1       over_2_years               1                   0         38294.0       27         1\n",
       "3   4    Male   21         11.0                 152.0                1       under_1_year               0                   1         28619.0      203         0\n",
       "4   5  Female   29         41.0                 152.0                1       under_1_year               0                   1         27496.0       39         0"
      ]
     },
     "execution_count": 205,
     "metadata": {},
     "output_type": "execute_result"
    }
   ],
   "source": [
    "ins_cat = df2[['driving_license','previously_insured','response']]\n",
    "cat_attributes = cat_attributes.join(ins_cat)\n",
    "num_attributes = num_attributes.drop(ins_cat,axis=1)\n",
    "\n",
    "# vehicle age\n",
    "dict_vehicle_age = {'> 2 Years':'over_2_years', '1-2 Year':'between_1_2_years', '< 1 Year':'under_1_year'}\n",
    "df2['vehicle_age'] = df2['vehicle_age'].map(dict_vehicle_age)\n",
    "cat_attributes['vehicle_age'] = cat_attributes['vehicle_age'].map(dict_vehicle_age)\n",
    "\n",
    "# vehicle damage\n",
    "dict_vehicle_damage = {'Yes': 1, 'No': 0}\n",
    "df2['vehicle_damage'] = df2['vehicle_damage'].map(dict_vehicle_damage)\n",
    "cat_attributes['vehicle_damage'] = cat_attributes['vehicle_damage'].map(dict_vehicle_damage)\n",
    "\n",
    "df2.head()"
   ]
  },
  {
   "cell_type": "markdown",
   "id": "863a0131",
   "metadata": {},
   "source": [
    "# 3.0 EXPLORATORY DATA ANALYSIS"
   ]
  },
  {
   "cell_type": "code",
   "execution_count": 9,
   "id": "c1577b55",
   "metadata": {
    "ExecuteTime": {
     "end_time": "2022-08-11T16:41:50.138200Z",
     "start_time": "2022-08-11T16:41:50.086822Z"
    }
   },
   "outputs": [],
   "source": [
    "df3 = df2.copy()"
   ]
  },
  {
   "cell_type": "markdown",
   "id": "868c2e13",
   "metadata": {
    "heading_collapsed": true
   },
   "source": [
    "## 3.1 UNIVARIATE ANALYSIS"
   ]
  },
  {
   "cell_type": "code",
   "execution_count": 19,
   "id": "509b8b68",
   "metadata": {
    "ExecuteTime": {
     "end_time": "2022-08-09T22:58:59.764837Z",
     "start_time": "2022-08-09T22:58:57.717426Z"
    },
    "hidden": true,
    "hide_input": false
   },
   "outputs": [
    {
     "data": {
      "image/png": "[encoded data removed]",
      "text/plain": [
       "<Figure size 1080x576 with 3 Axes>"
      ]
     },
     "metadata": {},
     "output_type": "display_data"
    }
   ],
   "source": [
    "#age\n",
    "plt.subplot(1,3,1)\n",
    "sns.boxplot(x='response',y='age',data=df3);\n",
    "\n",
    "aux_0 = df3.loc[df3['response']==0,'age']\n",
    "plt.subplot(1,3,2)\n",
    "sns.histplot(aux_0);\n",
    "\n",
    "aux_1 = df3.loc[df3['response']==1,'age']\n",
    "plt.subplot(1,3,3)\n",
    "sns.histplot(aux_1);"
   ]
  },
  {
   "cell_type": "code",
   "execution_count": 20,
   "id": "ca6459b9",
   "metadata": {
    "ExecuteTime": {
     "end_time": "2022-08-09T22:59:01.626350Z",
     "start_time": "2022-08-09T22:58:59.764837Z"
    },
    "hidden": true,
    "hide_input": false
   },
   "outputs": [
    {
     "data": {
      "image/png": "[encoded data removed]",
      "text/plain": [
       "<Figure size 1080x576 with 3 Axes>"
      ]
     },
     "metadata": {},
     "output_type": "display_data"
    }
   ],
   "source": [
    "#annual_premium\n",
    "plt.subplot(1,3,1)\n",
    "aux = df3[(df3['annual_premium']<80000) & (df3['annual_premium']>10000)]\n",
    "sns.boxplot(x='response',y='annual_premium',data=aux);\n",
    "\n",
    "aux_0 = aux.loc[df3['response']==0,'annual_premium']\n",
    "plt.subplot(1,3,2)\n",
    "sns.histplot(aux_0);\n",
    "\n",
    "aux_1 = aux.loc[df3['response']==1,'annual_premium']\n",
    "plt.subplot(1,3,3)\n",
    "sns.histplot(aux_1);"
   ]
  },
  {
   "cell_type": "code",
   "execution_count": 21,
   "id": "9f69e7ff",
   "metadata": {
    "ExecuteTime": {
     "end_time": "2022-08-09T22:59:01.678354Z",
     "start_time": "2022-08-09T22:59:01.626350Z"
    },
    "hidden": true,
    "hide_input": false
   },
   "outputs": [
    {
     "data": {
      "text/html": [
       "<div>\n",
       "<style scoped>\n",
       "    .dataframe tbody tr th:only-of-type {\n",
       "        vertical-align: middle;\n",
       "    }\n",
       "\n",
       "    .dataframe tbody tr th {\n",
       "        vertical-align: top;\n",
       "    }\n",
       "\n",
       "    .dataframe thead th {\n",
       "        text-align: right;\n",
       "    }\n",
       "</style>\n",
       "<table border=\"1\" class=\"dataframe\">\n",
       "  <thead>\n",
       "    <tr style=\"text-align: right;\">\n",
       "      <th></th>\n",
       "      <th>response</th>\n",
       "      <th>driving_license</th>\n",
       "      <th>driving_license_perc</th>\n",
       "    </tr>\n",
       "  </thead>\n",
       "  <tbody>\n",
       "    <tr>\n",
       "      <th>0</th>\n",
       "      <td>0</td>\n",
       "      <td>333628</td>\n",
       "      <td>0.877283</td>\n",
       "    </tr>\n",
       "    <tr>\n",
       "      <th>1</th>\n",
       "      <td>1</td>\n",
       "      <td>46669</td>\n",
       "      <td>0.122717</td>\n",
       "    </tr>\n",
       "  </tbody>\n",
       "</table>\n",
       "</div>"
      ],
      "text/plain": [
       "   response  driving_license  driving_license_perc\n",
       "0         0           333628              0.877283\n",
       "1         1            46669              0.122717"
      ]
     },
     "execution_count": 21,
     "metadata": {},
     "output_type": "execute_result"
    }
   ],
   "source": [
    "#driving_license\n",
    "aux = df3[['driving_license','response']].groupby('response').sum().reset_index()\n",
    "aux.head()\n",
    "aux['driving_license_perc'] = aux['driving_license']/aux['driving_license'].sum()\n",
    "aux"
   ]
  },
  {
   "cell_type": "code",
   "execution_count": 22,
   "id": "502049ca",
   "metadata": {
    "ExecuteTime": {
     "end_time": "2022-08-09T22:59:01.915064Z",
     "start_time": "2022-08-09T22:59:01.678354Z"
    },
    "hidden": true,
    "hide_input": false
   },
   "outputs": [
    {
     "data": {
      "image/png": "[encoded data removed]",
      "text/plain": [
       "<Figure size 1080x576 with 1 Axes>"
      ]
     },
     "metadata": {},
     "output_type": "display_data"
    }
   ],
   "source": [
    "#region_code\n",
    "aux = df3[['id','region_code','response']].groupby(['region_code','response']).count().reset_index()\n",
    "sns.scatterplot(x='region_code',y='id',hue='response',data=aux);"
   ]
  },
  {
   "cell_type": "code",
   "execution_count": 23,
   "id": "854babdc",
   "metadata": {
    "ExecuteTime": {
     "end_time": "2022-08-09T22:59:01.983503Z",
     "start_time": "2022-08-09T22:59:01.915064Z"
    },
    "hidden": true,
    "hide_input": false
   },
   "outputs": [
    {
     "data": {
      "text/html": [
       "<div>\n",
       "<style scoped>\n",
       "    .dataframe tbody tr th:only-of-type {\n",
       "        vertical-align: middle;\n",
       "    }\n",
       "\n",
       "    .dataframe tbody tr th {\n",
       "        vertical-align: top;\n",
       "    }\n",
       "\n",
       "    .dataframe thead th {\n",
       "        text-align: right;\n",
       "    }\n",
       "</style>\n",
       "<table border=\"1\" class=\"dataframe\">\n",
       "  <thead>\n",
       "    <tr style=\"text-align: right;\">\n",
       "      <th>response</th>\n",
       "      <th>0</th>\n",
       "      <th>1</th>\n",
       "    </tr>\n",
       "    <tr>\n",
       "      <th>previously_insured</th>\n",
       "      <th></th>\n",
       "      <th></th>\n",
       "    </tr>\n",
       "  </thead>\n",
       "  <tbody>\n",
       "    <tr>\n",
       "      <th>0</th>\n",
       "      <td>0.774546</td>\n",
       "      <td>0.225454</td>\n",
       "    </tr>\n",
       "    <tr>\n",
       "      <th>1</th>\n",
       "      <td>0.999095</td>\n",
       "      <td>0.000905</td>\n",
       "    </tr>\n",
       "  </tbody>\n",
       "</table>\n",
       "</div>"
      ],
      "text/plain": [
       "response                   0         1\n",
       "previously_insured                    \n",
       "0                   0.774546  0.225454\n",
       "1                   0.999095  0.000905"
      ]
     },
     "execution_count": 23,
     "metadata": {},
     "output_type": "execute_result"
    }
   ],
   "source": [
    "#previously_insured\n",
    "pd.crosstab(df3['previously_insured'],df3['response']).apply(lambda x: x/x.sum(),axis=1)"
   ]
  },
  {
   "cell_type": "code",
   "execution_count": 24,
   "id": "b219dec7",
   "metadata": {
    "ExecuteTime": {
     "end_time": "2022-08-09T22:59:02.058431Z",
     "start_time": "2022-08-09T22:59:01.983503Z"
    },
    "hidden": true,
    "hide_input": false
   },
   "outputs": [
    {
     "data": {
      "text/html": [
       "<div>\n",
       "<style scoped>\n",
       "    .dataframe tbody tr th:only-of-type {\n",
       "        vertical-align: middle;\n",
       "    }\n",
       "\n",
       "    .dataframe tbody tr th {\n",
       "        vertical-align: top;\n",
       "    }\n",
       "\n",
       "    .dataframe thead th {\n",
       "        text-align: right;\n",
       "    }\n",
       "</style>\n",
       "<table border=\"1\" class=\"dataframe\">\n",
       "  <thead>\n",
       "    <tr style=\"text-align: right;\">\n",
       "      <th></th>\n",
       "      <th>vehicle_age</th>\n",
       "      <th>response</th>\n",
       "      <th>0</th>\n",
       "    </tr>\n",
       "  </thead>\n",
       "  <tbody>\n",
       "    <tr>\n",
       "      <th>0</th>\n",
       "      <td>between_1_2_years</td>\n",
       "      <td>0</td>\n",
       "      <td>0.434285</td>\n",
       "    </tr>\n",
       "    <tr>\n",
       "      <th>2</th>\n",
       "      <td>between_1_2_years</td>\n",
       "      <td>1</td>\n",
       "      <td>0.091328</td>\n",
       "    </tr>\n",
       "    <tr>\n",
       "      <th>3</th>\n",
       "      <td>over_2_years</td>\n",
       "      <td>0</td>\n",
       "      <td>0.029663</td>\n",
       "    </tr>\n",
       "    <tr>\n",
       "      <th>5</th>\n",
       "      <td>over_2_years</td>\n",
       "      <td>1</td>\n",
       "      <td>0.012338</td>\n",
       "    </tr>\n",
       "    <tr>\n",
       "      <th>1</th>\n",
       "      <td>under_1_year</td>\n",
       "      <td>0</td>\n",
       "      <td>0.413488</td>\n",
       "    </tr>\n",
       "    <tr>\n",
       "      <th>4</th>\n",
       "      <td>under_1_year</td>\n",
       "      <td>1</td>\n",
       "      <td>0.018897</td>\n",
       "    </tr>\n",
       "  </tbody>\n",
       "</table>\n",
       "</div>"
      ],
      "text/plain": [
       "         vehicle_age  response         0\n",
       "0  between_1_2_years         0  0.434285\n",
       "2  between_1_2_years         1  0.091328\n",
       "3       over_2_years         0  0.029663\n",
       "5       over_2_years         1  0.012338\n",
       "1       under_1_year         0  0.413488\n",
       "4       under_1_year         1  0.018897"
      ]
     },
     "execution_count": 24,
     "metadata": {},
     "output_type": "execute_result"
    }
   ],
   "source": [
    "#vehicle_age\n",
    "df3[['vehicle_age','response']].value_counts(normalize=True).reset_index().sort_values('vehicle_age')"
   ]
  },
  {
   "cell_type": "code",
   "execution_count": 25,
   "id": "bfff9d41",
   "metadata": {
    "ExecuteTime": {
     "end_time": "2022-08-09T22:59:03.568852Z",
     "start_time": "2022-08-09T22:59:02.058880Z"
    },
    "hidden": true,
    "hide_input": false
   },
   "outputs": [
    {
     "data": {
      "image/png": "[encoded data removed]",
      "text/plain": [
       "<Figure size 1728x864 with 1 Axes>"
      ]
     },
     "metadata": {},
     "output_type": "display_data"
    }
   ],
   "source": [
    "#policy_sales_channel\n",
    "plt.figure(figsize=(24,12))\n",
    "aux = df3[['policy_sales_channel','response']].groupby('policy_sales_channel').sum().reset_index()\n",
    "sns.barplot(x='response',y='policy_sales_channel',data=aux);"
   ]
  },
  {
   "cell_type": "code",
   "execution_count": 26,
   "id": "ec246b7c",
   "metadata": {
    "ExecuteTime": {
     "end_time": "2022-08-09T22:59:05.861530Z",
     "start_time": "2022-08-09T22:59:03.573157Z"
    },
    "hidden": true,
    "hide_input": false
   },
   "outputs": [
    {
     "data": {
      "image/png": "[encoded data removed]",
      "text/plain": [
       "<Figure size 1080x576 with 3 Axes>"
      ]
     },
     "metadata": {},
     "output_type": "display_data"
    }
   ],
   "source": [
    "#vintage\n",
    "plt.subplot(1,3,1)\n",
    "sns.boxplot(x='response',y='vintage',data=df3);\n",
    "\n",
    "aux_0 = df3.loc[df3['response']==0,'vintage']\n",
    "plt.subplot(1,3,2)\n",
    "sns.histplot(aux_0);\n",
    "\n",
    "aux_1 = df3.loc[df3['response']==1,'vintage']\n",
    "plt.subplot(1,3,3)\n",
    "sns.histplot(aux_1);"
   ]
  },
  {
   "cell_type": "markdown",
   "id": "f1c4ef75",
   "metadata": {
    "heading_collapsed": true
   },
   "source": [
    "## 3.2 BIVARIATE ANALYSIS"
   ]
  },
  {
   "cell_type": "code",
   "execution_count": 27,
   "id": "71c7971c",
   "metadata": {
    "ExecuteTime": {
     "end_time": "2022-08-09T22:59:05.884334Z",
     "start_time": "2022-08-09T22:59:05.861530Z"
    },
    "hidden": true
   },
   "outputs": [
    {
     "data": {
      "text/plain": [
       "Index(['id', 'gender', 'age', 'region_code', 'policy_sales_channel',\n",
       "       'driving_license', 'vehicle_age', 'vehicle_damage',\n",
       "       'previously_insured', 'annual_premium', 'vintage', 'response'],\n",
       "      dtype='object')"
      ]
     },
     "execution_count": 27,
     "metadata": {},
     "output_type": "execute_result"
    }
   ],
   "source": [
    "aux32 = df3[df3['response']==1]\n",
    "aux32.columns"
   ]
  },
  {
   "cell_type": "markdown",
   "id": "ba273a2a",
   "metadata": {
    "heading_collapsed": true,
    "hidden": true,
    "hide_input": false
   },
   "source": [
    "### 1. Older people will be more interested.\n",
    "**FALSE.** The people that are more interested are around the median."
   ]
  },
  {
   "cell_type": "code",
   "execution_count": 28,
   "id": "720c2c55",
   "metadata": {
    "ExecuteTime": {
     "end_time": "2022-08-09T22:59:06.229313Z",
     "start_time": "2022-08-09T22:59:05.889628Z"
    },
    "hidden": true,
    "hide_input": true,
    "scrolled": false
   },
   "outputs": [
    {
     "data": {
      "image/png": "[encoded data removed]",
      "text/plain": [
       "<Figure size 1080x576 with 3 Axes>"
      ]
     },
     "metadata": {},
     "output_type": "display_data"
    }
   ],
   "source": [
    "h1 = df3[['age','response']].groupby('age').count().reset_index()\n",
    "h11 = aux32[['age','response']].groupby('age').count().reset_index()\n",
    "h111 = pd.merge(h1,h11,on='age',how='left')\n",
    "h111 = h111.fillna(0)\n",
    "\n",
    "h111['percentage'] = (h111['response_y']/h111['response_x']) *100\n",
    "\n",
    "bins = list(np.arange(19,90,10))\n",
    "\n",
    "h111['age_binned'] = pd.cut(h111['age'],bins=bins)\n",
    "h12 = h111[['age_binned','percentage']].groupby('age_binned').mean().reset_index()\n",
    "\n",
    "\n",
    "plt.subplot(1,2,1)\n",
    "sns.barplot(x='age_binned',y='percentage',data=h12);\n",
    "#plt.xticks(rotation=90);\n",
    "\n",
    "plt.subplot(1,2,2)\n",
    "h111.drop(['response_x','response_y'],inplace=True,axis=1)\n",
    "sns.heatmap(h111.corr(method='pearson'),annot=True);\n"
   ]
  },
  {
   "cell_type": "markdown",
   "id": "a4c428e5",
   "metadata": {
    "heading_collapsed": true,
    "hidden": true,
    "hide_input": true
   },
   "source": [
    "### 2. People with a drivers license will be more interested.\n",
    "**TRUE.** People with a drivers license are more interested."
   ]
  },
  {
   "cell_type": "code",
   "execution_count": 29,
   "id": "0ececf05",
   "metadata": {
    "ExecuteTime": {
     "end_time": "2022-08-09T22:59:06.378522Z",
     "start_time": "2022-08-09T22:59:06.237189Z"
    },
    "hidden": true,
    "hide_input": true
   },
   "outputs": [
    {
     "data": {
      "image/png": "[encoded data removed]",
      "text/plain": [
       "<Figure size 1080x576 with 1 Axes>"
      ]
     },
     "metadata": {},
     "output_type": "display_data"
    }
   ],
   "source": [
    "h2 = df3[['driving_license','response']].groupby('driving_license').count().reset_index()\n",
    "h21 = aux32[['driving_license','response']].groupby('driving_license').count().reset_index()\n",
    "h21['percentage'] = (h21['response']/h2['response']) *100\n",
    "\n",
    "sns.barplot(x='driving_license',y='percentage',data=h21);"
   ]
  },
  {
   "cell_type": "markdown",
   "id": "e4469ed7",
   "metadata": {
    "heading_collapsed": true,
    "hidden": true
   },
   "source": [
    "### 3. People previously ensured will be more interested.\n",
    "**FALSE.** People previously ensured are less interested."
   ]
  },
  {
   "cell_type": "code",
   "execution_count": 30,
   "id": "358558d4",
   "metadata": {
    "ExecuteTime": {
     "end_time": "2022-08-09T22:59:06.427538Z",
     "start_time": "2022-08-09T22:59:06.378522Z"
    },
    "hidden": true,
    "hide_input": true
   },
   "outputs": [
    {
     "name": "stdout",
     "output_type": "stream",
     "text": [
      "   previously_insured  percentage\n",
      "0                   0   22.545416\n",
      "1                   1    0.090478\n"
     ]
    }
   ],
   "source": [
    "h3 = df3[['previously_insured','response']].groupby('previously_insured').count().reset_index()\n",
    "h31 = aux32[['previously_insured','response']].groupby('previously_insured').count().reset_index()\n",
    "h31['percentage'] = (h31['response']/h3['response']) *100\n",
    "h31.drop('response',axis=1, inplace=True)\n",
    "\n",
    "print(h31)"
   ]
  },
  {
   "cell_type": "markdown",
   "id": "767009d5",
   "metadata": {
    "heading_collapsed": true,
    "hidden": true,
    "hide_input": true
   },
   "source": [
    "### 4. People with lower annual premium are the most interested.\n",
    "**TRUE.** However, that only applies to the <10k range."
   ]
  },
  {
   "cell_type": "code",
   "execution_count": 31,
   "id": "266615e3",
   "metadata": {
    "ExecuteTime": {
     "end_time": "2022-08-09T22:59:06.891490Z",
     "start_time": "2022-08-09T22:59:06.427538Z"
    },
    "hidden": true,
    "hide_input": true,
    "scrolled": false
   },
   "outputs": [
    {
     "data": {
      "image/png": "[encoded data removed]",
      "text/plain": [
       "<Figure size 1080x576 with 3 Axes>"
      ]
     },
     "metadata": {},
     "output_type": "display_data"
    }
   ],
   "source": [
    "h4 = df3[['annual_premium','response']].groupby('annual_premium').count().reset_index()\n",
    "h41 = aux32[['annual_premium','response']].groupby('annual_premium').count().reset_index()\n",
    "h411 = pd.merge(h4,h41,on='annual_premium',how='left')\n",
    "h411 = h411.fillna(0)\n",
    "h411['percentage'] = (h411['response_y']/h411['response_x']) *100\n",
    "\n",
    "bins = [0, 10000, 20000, 30000, 40000, 50000, 60000]\n",
    "labels = ['<10k','10-20k','20-30k', '30-40k', '40-50k', '> 60k']\n",
    "h411['premium_binned'] = pd.cut(h411['annual_premium'],bins=bins, labels=labels)\n",
    "h42 = h411[['premium_binned','percentage']].groupby('premium_binned').mean().reset_index()\n",
    "\n",
    "plt.subplot(1,2,1)\n",
    "sns.barplot(x='premium_binned',y='percentage',data=h42);\n",
    "\n",
    "plt.subplot(1,2,2)\n",
    "h411.drop(['response_x','response_y'],inplace=True,axis=1)\n",
    "sns.heatmap(h411.corr(method='pearson'),annot=True);"
   ]
  },
  {
   "cell_type": "markdown",
   "id": "47fef906",
   "metadata": {
    "heading_collapsed": true,
    "hidden": true
   },
   "source": [
    "### 5. People with higher vehicle age will be more interested.\n",
    "**TRUE.** People with higher vehicle age are percentually more interested."
   ]
  },
  {
   "cell_type": "code",
   "execution_count": 32,
   "id": "ca221a9a",
   "metadata": {
    "ExecuteTime": {
     "end_time": "2022-08-09T22:59:07.065285Z",
     "start_time": "2022-08-09T22:59:06.891490Z"
    },
    "hidden": true,
    "hide_input": true
   },
   "outputs": [
    {
     "data": {
      "image/png": "[encoded data removed]",
      "text/plain": [
       "<Figure size 1080x576 with 1 Axes>"
      ]
     },
     "metadata": {},
     "output_type": "display_data"
    }
   ],
   "source": [
    "h5 = df3[['vehicle_age','response']].groupby('vehicle_age').count().reset_index()\n",
    "h51 = aux32[['vehicle_age','response']].groupby('vehicle_age').count().reset_index()\n",
    "h511 = pd.merge(h5,h51,on='vehicle_age',how='left')\n",
    "h511 = h511.fillna(0)\n",
    "h511['percentage'] = (h511['response_y']/h511['response_x']) *100\n",
    "\n",
    "order = ['under_1_year','between_1_2_years','over_2_years']\n",
    "sns.barplot(x='vehicle_age',y='percentage',data=h511, order=order);"
   ]
  },
  {
   "cell_type": "markdown",
   "id": "d5093ee1",
   "metadata": {
    "heading_collapsed": true,
    "hidden": true,
    "hide_input": true
   },
   "source": [
    "### 6. People that had their vehicle damaged will be more interested.\n",
    "**TRUE**. People with higher vehicle age are percentually more interested."
   ]
  },
  {
   "cell_type": "code",
   "execution_count": 33,
   "id": "a7375da6",
   "metadata": {
    "ExecuteTime": {
     "end_time": "2022-08-09T22:59:07.295466Z",
     "start_time": "2022-08-09T22:59:07.065285Z"
    },
    "hidden": true,
    "hide_input": true
   },
   "outputs": [
    {
     "data": {
      "image/png": "[encoded data removed]",
      "text/plain": [
       "<Figure size 1080x576 with 1 Axes>"
      ]
     },
     "metadata": {},
     "output_type": "display_data"
    }
   ],
   "source": [
    "h6 = df3[['vehicle_damage','response']].groupby('vehicle_damage').count().reset_index()\n",
    "h61 = aux32[['vehicle_damage','response']].groupby('vehicle_damage').count().reset_index()\n",
    "h611 = pd.merge(h6,h61,on='vehicle_damage',how='left')\n",
    "h611 = h611.fillna(0)\n",
    "h611['percentage'] = (h611['response_y']/h611['response_x']) *100\n",
    "\n",
    "\n",
    "sns.barplot(x='vehicle_damage',y='percentage',data=h611);"
   ]
  },
  {
   "cell_type": "markdown",
   "id": "8eabe929",
   "metadata": {},
   "source": [
    "# 4.0 DATA PREPARATION "
   ]
  },
  {
   "cell_type": "code",
   "execution_count": 10,
   "id": "1d0ba985",
   "metadata": {
    "ExecuteTime": {
     "end_time": "2022-08-11T16:41:52.372616Z",
     "start_time": "2022-08-11T16:41:52.309706Z"
    }
   },
   "outputs": [],
   "source": [
    "df4 = df3.copy()"
   ]
  },
  {
   "cell_type": "markdown",
   "id": "9d571900",
   "metadata": {},
   "source": [
    "## 4.1 SPLITTING"
   ]
  },
  {
   "cell_type": "code",
   "execution_count": 11,
   "id": "011c490d",
   "metadata": {
    "ExecuteTime": {
     "end_time": "2022-08-11T16:41:54.773102Z",
     "start_time": "2022-08-11T16:41:54.132581Z"
    }
   },
   "outputs": [],
   "source": [
    "X = df4.drop('response',axis=1)\n",
    "y = df4['response'].copy()\n",
    "\n",
    "x_train, x_val, y_train, y_val = ms.train_test_split(X, y, stratify=y, test_size=0.20)\n",
    "\n",
    "df4 = pd.concat([x_train, y_train], axis=1)"
   ]
  },
  {
   "cell_type": "markdown",
   "id": "fc6f1c83",
   "metadata": {},
   "source": [
    "## 4.1 TRAIN STANDARDIZATION"
   ]
  },
  {
   "cell_type": "code",
   "execution_count": 209,
   "id": "9962799f",
   "metadata": {
    "ExecuteTime": {
     "end_time": "2022-08-10T00:13:54.821760Z",
     "start_time": "2022-08-10T00:13:54.741439Z"
    }
   },
   "outputs": [],
   "source": [
    "#annual_premium\n",
    "ss = pp.StandardScaler()\n",
    "df4['annual_premium'] = ss.fit_transform(df4[['annual_premium']].values)\n",
    "pickle.dump(ss, open('/Users/gusta/Documents/repos/health-cross-sell/scalers/annual_premium_scaler.pkl', 'wb'))"
   ]
  },
  {
   "cell_type": "markdown",
   "id": "0cda6a25",
   "metadata": {},
   "source": [
    "## 4.2 TRAIN RESCALING"
   ]
  },
  {
   "cell_type": "code",
   "execution_count": 210,
   "id": "021bbc97",
   "metadata": {
    "ExecuteTime": {
     "end_time": "2022-08-10T00:13:55.730876Z",
     "start_time": "2022-08-10T00:13:55.657770Z"
    }
   },
   "outputs": [],
   "source": [
    "mms_age = pp.MinMaxScaler()\n",
    "mms_vintage = pp.MinMaxScaler()\n",
    "#age\n",
    "df4['age'] = mms_age.fit_transform(df4[['age']].values)\n",
    "pickle.dump(mms_age, open('/Users/gusta/Documents/repos/health-cross-sell/scalers/age_scaler.pkl', 'wb'))\n",
    "#vintage\n",
    "df4['vintage'] = mms_vintage.fit_transform(df4[['vintage']].values)\n",
    "pickle.dump(mms_vintage, open('/Users/gusta/Documents/repos/health-cross-sell/scalers/vintage_scaler.pkl', 'wb'))"
   ]
  },
  {
   "cell_type": "markdown",
   "id": "dee6fc3f",
   "metadata": {},
   "source": [
    "## 4.3 TRAIN ENCODING "
   ]
  },
  {
   "cell_type": "code",
   "execution_count": 211,
   "id": "5b1b8410",
   "metadata": {
    "ExecuteTime": {
     "end_time": "2022-08-10T00:14:00.472070Z",
     "start_time": "2022-08-10T00:14:00.116987Z"
    }
   },
   "outputs": [],
   "source": [
    "# gender - Hot One/ Target Encoding\n",
    "target_encode_gender = df4.groupby('gender')['response'].mean()\n",
    "df4.loc[:,'gender'] = df4['gender'].map(target_encode_gender)\n",
    "pickle.dump(target_encode_gender, open('/Users/gusta/Documents/repos/health-cross-sell/scalers/gender_scaler.pkl', 'wb'))\n",
    "\n",
    "#region_code - Frequency/ Target/ Weighted Target \n",
    "target_encode_region_code = df4.groupby('region_code')['response'].mean()\n",
    "df4.loc[:,'region_code'] = df4['region_code'].map(target_encode_region_code)\n",
    "pickle.dump(target_encode_region_code, open('/Users/gusta/Documents/repos/health-cross-sell/scalers/region_code_scaler.pkl', 'wb'))\n",
    "\n",
    "#vehicle_age - One Hot/ Order/ Frequency\n",
    "df4 = pd.get_dummies(df4,prefix='vehicle_age',columns=['vehicle_age'])\n",
    "\n",
    "#policy_sales_channel - Target/ Frequency\n",
    "fe_policy_sales_channel = df4.groupby('policy_sales_channel').size()/len(df4)\n",
    "df4.loc[:,'policy_sales_channel'] = df4['policy_sales_channel'].map(fe_policy_sales_channel)\n",
    "pickle.dump(fe_policy_sales_channel, open('/Users/gusta/Documents/repos/health-cross-sell/scalers/policy_sales_channel_scaler.pkl', 'wb'))"
   ]
  },
  {
   "cell_type": "markdown",
   "id": "41581052",
   "metadata": {},
   "source": [
    "## 4.5 VALIDATION PREPARATION"
   ]
  },
  {
   "cell_type": "code",
   "execution_count": 97,
   "id": "1852e61e",
   "metadata": {
    "ExecuteTime": {
     "end_time": "2022-08-09T22:21:12.098998Z",
     "start_time": "2022-08-09T22:21:11.891343Z"
    }
   },
   "outputs": [],
   "source": [
    "# gender\n",
    "x_val.loc[:,'gender'] = x_val.loc[:,'gender'].map(target_encode_gender)\n",
    "\n",
    "# age\n",
    "x_val.loc[:,'age'] = mms_age.transform(x_val[['age']].values)\n",
    "\n",
    "# region_code\n",
    "x_val.loc[:,'region_code'] = x_val.loc[:,'region_code'].map(target_encode_region_code)\n",
    "\n",
    "# vehicle_age\n",
    "x_val = pd.get_dummies(x_val,prefix='vehicle_age',columns=['vehicle_age'])\n",
    "\n",
    "# annual_premium\n",
    "x_val.loc[:,'annual_premium'] = ss.transform(x_val[['annual_premium']].values)\n",
    "\n",
    "# policy_cales_channel\n",
    "x_val.loc[:,'policy_sales_channel'] = x_val['policy_sales_channel'].map(fe_policy_sales_channel)\n",
    "\n",
    "# vintage\n",
    "x_val.loc[:,'vintage'] = mms_vintage.transform(x_val[['vintage']].values)\n",
    "\n",
    "# fillna\n",
    "x_val = x_val.fillna(0)"
   ]
  },
  {
   "cell_type": "markdown",
   "id": "176bbf0e",
   "metadata": {},
   "source": [
    "# 5.0 FEATURE SELECTION"
   ]
  },
  {
   "cell_type": "code",
   "execution_count": 268,
   "id": "16861ee1",
   "metadata": {
    "ExecuteTime": {
     "end_time": "2022-08-10T00:33:01.203961Z",
     "start_time": "2022-08-10T00:33:01.167226Z"
    }
   },
   "outputs": [],
   "source": [
    "df5 = df4.copy()"
   ]
  },
  {
   "cell_type": "markdown",
   "id": "6ea3435d",
   "metadata": {},
   "source": [
    "## 5.1 FEATURE IMPORTANCE"
   ]
  },
  {
   "cell_type": "code",
   "execution_count": 99,
   "id": "5d9a7654",
   "metadata": {
    "ExecuteTime": {
     "end_time": "2022-08-09T22:21:12.215088Z",
     "start_time": "2022-08-09T22:21:12.181992Z"
    }
   },
   "outputs": [],
   "source": [
    "#forest = en.ExtraTreesClassifier(n_estimators=250,random_state=0,n_jobs=-1)\n",
    "\n",
    "#x_train_n = df5.drop(['id','response'],axis=1)\n",
    "#y_train_n = y_train.values\n",
    "#forest.fit(x_train_n,y_train_n);"
   ]
  },
  {
   "cell_type": "code",
   "execution_count": 100,
   "id": "7f6458a5",
   "metadata": {
    "ExecuteTime": {
     "end_time": "2022-08-09T22:21:12.316405Z",
     "start_time": "2022-08-09T22:21:12.215088Z"
    }
   },
   "outputs": [],
   "source": [
    "#importances = forest.feature_importances_\n",
    "#indices = np.argsort(importances)[::-1]\n",
    "\n",
    "#print('Feature Ranking:')\n",
    "#df = pd.DataFrame()\n",
    "#for i,j in zip(x_train_n,forest.feature_importances_):\n",
    "#    aux = pd.DataFrame({'feature':i,'importance':j},index=[0])\n",
    "#    df = pd.concat([df,aux],axis=0)\n",
    "#print(df.sort_values('importance', ascending=False))"
   ]
  },
  {
   "cell_type": "markdown",
   "id": "5a463876",
   "metadata": {},
   "source": [
    "# 6.0 MACHINE LEARNING MODELLING"
   ]
  },
  {
   "cell_type": "code",
   "execution_count": 269,
   "id": "d05f5123",
   "metadata": {
    "ExecuteTime": {
     "end_time": "2022-08-10T00:33:05.416924Z",
     "start_time": "2022-08-10T00:33:05.378167Z"
    }
   },
   "outputs": [],
   "source": [
    "df6 = df5.copy()"
   ]
  },
  {
   "cell_type": "code",
   "execution_count": 213,
   "id": "d54e3a58",
   "metadata": {
    "ExecuteTime": {
     "end_time": "2022-08-10T00:14:13.922126Z",
     "start_time": "2022-08-10T00:14:13.880545Z"
    }
   },
   "outputs": [],
   "source": [
    "cols_selected = ['vintage','annual_premium','age','region_code','vehicle_damage','policy_sales_channel','previously_insured']   \n",
    "x_train = df5[cols_selected]\n",
    "x_validation = x_val[cols_selected]"
   ]
  },
  {
   "cell_type": "markdown",
   "id": "59a794ee",
   "metadata": {
    "ExecuteTime": {
     "end_time": "2022-07-19T21:58:05.414802Z",
     "start_time": "2022-07-19T21:58:05.395115Z"
    },
    "heading_collapsed": true
   },
   "source": [
    "## 6.1 KNN"
   ]
  },
  {
   "cell_type": "code",
   "execution_count": 103,
   "id": "01967444",
   "metadata": {
    "ExecuteTime": {
     "end_time": "2022-08-09T22:21:24.242544Z",
     "start_time": "2022-08-09T22:21:12.585549Z"
    },
    "hidden": true
   },
   "outputs": [],
   "source": [
    "knn_model = nh.KNeighborsClassifier(n_neighbors=11)\n",
    "\n",
    "knn_model.fit(x_train,y_train)\n",
    "\n",
    "yhat_knn = knn_model.predict_proba(x_validation)"
   ]
  },
  {
   "cell_type": "code",
   "execution_count": 104,
   "id": "55b3c1f5",
   "metadata": {
    "ExecuteTime": {
     "end_time": "2022-08-09T22:21:24.443594Z",
     "start_time": "2022-08-09T22:21:24.242746Z"
    },
    "hidden": true,
    "hide_input": true
   },
   "outputs": [
    {
     "data": {
      "image/png": "[encoded data removed]",
      "text/plain": [
       "<Figure size 1080x576 with 1 Axes>"
      ]
     },
     "metadata": {},
     "output_type": "display_data"
    }
   ],
   "source": [
    "skplt.metrics.plot_cumulative_gain(y_val,yhat_knn);"
   ]
  },
  {
   "cell_type": "markdown",
   "id": "28e8a8bf",
   "metadata": {
    "ExecuteTime": {
     "end_time": "2022-07-19T21:58:05.414802Z",
     "start_time": "2022-07-19T21:58:05.395115Z"
    }
   },
   "source": [
    "## 6.2 LOGISTIC REGRESSION"
   ]
  },
  {
   "cell_type": "code",
   "execution_count": 214,
   "id": "6cb4f751",
   "metadata": {
    "ExecuteTime": {
     "end_time": "2022-08-10T00:14:19.388055Z",
     "start_time": "2022-08-10T00:14:18.713010Z"
    },
    "hide_input": false
   },
   "outputs": [],
   "source": [
    "lr_model = lr(max_iter=200)\n",
    "\n",
    "lr_model.fit(x_train,y_train)\n",
    "\n",
    "yhat_lr = lr_model.predict_proba(x_validation)\n"
   ]
  },
  {
   "cell_type": "code",
   "execution_count": 216,
   "id": "03bf86b6",
   "metadata": {
    "ExecuteTime": {
     "end_time": "2022-08-10T00:16:51.085613Z",
     "start_time": "2022-08-10T00:16:51.064007Z"
    }
   },
   "outputs": [
    {
     "data": {
      "text/plain": [
       "array([[1.00000000e+000, 9.46711596e-038],\n",
       "       [1.00000000e+000, 1.36704716e-095],\n",
       "       [1.00000000e+000, 2.58733879e-072],\n",
       "       ...,\n",
       "       [1.00000000e+000, 2.30732928e-101],\n",
       "       [8.81809453e-001, 1.18190547e-001],\n",
       "       [1.00000000e+000, 2.99289327e-083]])"
      ]
     },
     "execution_count": 216,
     "metadata": {},
     "output_type": "execute_result"
    }
   ],
   "source": [
    "yhat_lr"
   ]
  },
  {
   "cell_type": "code",
   "execution_count": 106,
   "id": "eb76ca56",
   "metadata": {
    "ExecuteTime": {
     "end_time": "2022-08-09T22:21:25.724642Z",
     "start_time": "2022-08-09T22:21:25.493373Z"
    }
   },
   "outputs": [
    {
     "data": {
      "image/png": "[encoded data removed]",
      "text/plain": [
       "<Figure size 1080x576 with 1 Axes>"
      ]
     },
     "metadata": {},
     "output_type": "display_data"
    }
   ],
   "source": [
    "skplt.metrics.plot_cumulative_gain(y_val,yhat_lr);"
   ]
  },
  {
   "cell_type": "markdown",
   "id": "af4048ad",
   "metadata": {
    "ExecuteTime": {
     "end_time": "2022-07-19T21:58:05.414802Z",
     "start_time": "2022-07-19T21:58:05.395115Z"
    },
    "heading_collapsed": true
   },
   "source": [
    "## 6.3 EXTRA TREES"
   ]
  },
  {
   "cell_type": "code",
   "execution_count": 107,
   "id": "ffefdb30",
   "metadata": {
    "ExecuteTime": {
     "end_time": "2022-08-09T22:21:52.899720Z",
     "start_time": "2022-08-09T22:21:25.725523Z"
    },
    "hidden": true
   },
   "outputs": [],
   "source": [
    "et =  en.ExtraTreesClassifier(n_estimators=300,n_jobs=-1,random_state=42)\n",
    "et.fit(x_train,y_train)\n",
    "yhat_et = et.predict_proba(x_validation)"
   ]
  },
  {
   "cell_type": "code",
   "execution_count": 108,
   "id": "4f1fa3e0",
   "metadata": {
    "ExecuteTime": {
     "end_time": "2022-08-09T22:21:53.510234Z",
     "start_time": "2022-08-09T22:21:52.943624Z"
    },
    "hidden": true
   },
   "outputs": [
    {
     "data": {
      "image/png": "[encoded data removed]",
      "text/plain": [
       "<Figure size 1080x576 with 1 Axes>"
      ]
     },
     "metadata": {},
     "output_type": "display_data"
    }
   ],
   "source": [
    "skplt.metrics.plot_cumulative_gain(y_val,yhat_et);"
   ]
  },
  {
   "cell_type": "markdown",
   "id": "0c23cccd",
   "metadata": {
    "heading_collapsed": true
   },
   "source": [
    "# 7.0 MODEL PERFORMANCE - CROSS VALIDATION"
   ]
  },
  {
   "cell_type": "markdown",
   "id": "476b50c8",
   "metadata": {
    "hidden": true
   },
   "source": [
    "For Logistic Regression and Extra Trees."
   ]
  },
  {
   "cell_type": "markdown",
   "id": "d8f6b23e",
   "metadata": {
    "heading_collapsed": true,
    "hidden": true
   },
   "source": [
    "## 7.1 LOGISTIC REGRESSION"
   ]
  },
  {
   "cell_type": "code",
   "execution_count": 109,
   "id": "83a8f93d",
   "metadata": {
    "ExecuteTime": {
     "end_time": "2022-08-09T22:21:53.527453Z",
     "start_time": "2022-08-09T22:21:53.511341Z"
    },
    "hidden": true
   },
   "outputs": [],
   "source": [
    "#cv.runCrossValidation(lr_model, x_train, x_validation,y_train,y_val, n_splits = 5, n_repeats = 2, top_k = 30000, verbose=False)"
   ]
  },
  {
   "cell_type": "markdown",
   "id": "a0a1d323",
   "metadata": {
    "heading_collapsed": true,
    "hidden": true
   },
   "source": [
    "## 7.2 EXTRA TREES"
   ]
  },
  {
   "cell_type": "code",
   "execution_count": 110,
   "id": "50a6dc38",
   "metadata": {
    "ExecuteTime": {
     "end_time": "2022-08-09T22:21:53.536061Z",
     "start_time": "2022-08-09T22:21:53.531025Z"
    },
    "hidden": true
   },
   "outputs": [],
   "source": [
    "#cv.runCrossValidation(et, x_train, x_validation,y_train,y_val, n_splits = 5, n_repeats = 2, top_k = 30000, verbose=False)"
   ]
  },
  {
   "cell_type": "markdown",
   "id": "343cdcb7",
   "metadata": {
    "hidden": true
   },
   "source": [
    "The model chosen was the Logistic regression because it runs approximately 4x faster than ExtraTrees, while having very close precision and recall numbers in comparison."
   ]
  },
  {
   "cell_type": "markdown",
   "id": "79f3208d",
   "metadata": {},
   "source": [
    "# 8.0 HYPERPARAMETER FINE TUNING"
   ]
  },
  {
   "cell_type": "code",
   "execution_count": 57,
   "id": "3ee6d7c6",
   "metadata": {
    "ExecuteTime": {
     "end_time": "2022-08-09T23:13:55.334970Z",
     "start_time": "2022-08-09T23:13:52.583160Z"
    }
   },
   "outputs": [
    {
     "data": {
      "text/html": [
       "<style>#sk-container-id-1 {color: black;background-color: white;}#sk-container-id-1 pre{padding: 0;}#sk-container-id-1 div.sk-toggleable {background-color: white;}#sk-container-id-1 label.sk-toggleable__label {cursor: pointer;display: block;width: 100%;margin-bottom: 0;padding: 0.3em;box-sizing: border-box;text-align: center;}#sk-container-id-1 label.sk-toggleable__label-arrow:before {content: \"▸\";float: left;margin-right: 0.25em;color: #696969;}#sk-container-id-1 label.sk-toggleable__label-arrow:hover:before {color: black;}#sk-container-id-1 div.sk-estimator:hover label.sk-toggleable__label-arrow:before {color: black;}#sk-container-id-1 div.sk-toggleable__content {max-height: 0;max-width: 0;overflow: hidden;text-align: left;background-color: #f0f8ff;}#sk-container-id-1 div.sk-toggleable__content pre {margin: 0.2em;color: black;border-radius: 0.25em;background-color: #f0f8ff;}#sk-container-id-1 input.sk-toggleable__control:checked~div.sk-toggleable__content {max-height: 200px;max-width: 100%;overflow: auto;}#sk-container-id-1 input.sk-toggleable__control:checked~label.sk-toggleable__label-arrow:before {content: \"▾\";}#sk-container-id-1 div.sk-estimator input.sk-toggleable__control:checked~label.sk-toggleable__label {background-color: #d4ebff;}#sk-container-id-1 div.sk-label input.sk-toggleable__control:checked~label.sk-toggleable__label {background-color: #d4ebff;}#sk-container-id-1 input.sk-hidden--visually {border: 0;clip: rect(1px 1px 1px 1px);clip: rect(1px, 1px, 1px, 1px);height: 1px;margin: -1px;overflow: hidden;padding: 0;position: absolute;width: 1px;}#sk-container-id-1 div.sk-estimator {font-family: monospace;background-color: #f0f8ff;border: 1px dotted black;border-radius: 0.25em;box-sizing: border-box;margin-bottom: 0.5em;}#sk-container-id-1 div.sk-estimator:hover {background-color: #d4ebff;}#sk-container-id-1 div.sk-parallel-item::after {content: \"\";width: 100%;border-bottom: 1px solid gray;flex-grow: 1;}#sk-container-id-1 div.sk-label:hover label.sk-toggleable__label {background-color: #d4ebff;}#sk-container-id-1 div.sk-serial::before {content: \"\";position: absolute;border-left: 1px solid gray;box-sizing: border-box;top: 0;bottom: 0;left: 50%;z-index: 0;}#sk-container-id-1 div.sk-serial {display: flex;flex-direction: column;align-items: center;background-color: white;padding-right: 0.2em;padding-left: 0.2em;position: relative;}#sk-container-id-1 div.sk-item {position: relative;z-index: 1;}#sk-container-id-1 div.sk-parallel {display: flex;align-items: stretch;justify-content: center;background-color: white;position: relative;}#sk-container-id-1 div.sk-item::before, #sk-container-id-1 div.sk-parallel-item::before {content: \"\";position: absolute;border-left: 1px solid gray;box-sizing: border-box;top: 0;bottom: 0;left: 50%;z-index: -1;}#sk-container-id-1 div.sk-parallel-item {display: flex;flex-direction: column;z-index: 1;position: relative;background-color: white;}#sk-container-id-1 div.sk-parallel-item:first-child::after {align-self: flex-end;width: 50%;}#sk-container-id-1 div.sk-parallel-item:last-child::after {align-self: flex-start;width: 50%;}#sk-container-id-1 div.sk-parallel-item:only-child::after {width: 0;}#sk-container-id-1 div.sk-dashed-wrapped {border: 1px dashed gray;margin: 0 0.4em 0.5em 0.4em;box-sizing: border-box;padding-bottom: 0.4em;background-color: white;}#sk-container-id-1 div.sk-label label {font-family: monospace;font-weight: bold;display: inline-block;line-height: 1.2em;}#sk-container-id-1 div.sk-label-container {text-align: center;}#sk-container-id-1 div.sk-container {/* jupyter's `normalize.less` sets `[hidden] { display: none; }` but bootstrap.min.css set `[hidden] { display: none !important; }` so we also need the `!important` here to be able to override the default hidden behavior on the sphinx rendered scikit-learn.org. See: https://github.com/scikit-learn/scikit-learn/issues/21755 */display: inline-block !important;position: relative;}#sk-container-id-1 div.sk-text-repr-fallback {display: none;}</style><div id=\"sk-container-id-1\" class=\"sk-top-container\"><div class=\"sk-text-repr-fallback\"><pre>LogisticRegression(class_weight=&#x27;balanced&#x27;, max_iter=1000, n_jobs=-1,\n",
       "                   penalty=&#x27;none&#x27;, solver=&#x27;sag&#x27;)</pre><b>In a Jupyter environment, please rerun this cell to show the HTML representation or trust the notebook. <br />On GitHub, the HTML representation is unable to render, please try loading this page with nbviewer.org.</b></div><div class=\"sk-container\" hidden><div class=\"sk-item\"><div class=\"sk-estimator sk-toggleable\"><input class=\"sk-toggleable__control sk-hidden--visually\" id=\"sk-estimator-id-1\" type=\"checkbox\" checked><label for=\"sk-estimator-id-1\" class=\"sk-toggleable__label sk-toggleable__label-arrow\">LogisticRegression</label><div class=\"sk-toggleable__content\"><pre>LogisticRegression(class_weight=&#x27;balanced&#x27;, max_iter=1000, n_jobs=-1,\n",
       "                   penalty=&#x27;none&#x27;, solver=&#x27;sag&#x27;)</pre></div></div></div></div></div>"
      ],
      "text/plain": [
       "LogisticRegression(class_weight='balanced', max_iter=1000, n_jobs=-1,\n",
       "                   penalty='none', solver='sag')"
      ]
     },
     "execution_count": 57,
     "metadata": {},
     "output_type": "execute_result"
    }
   ],
   "source": [
    "lr_model = lr(penalty = 'none',\n",
    "                              solver = 'sag',\n",
    "                              class_weight = 'balanced',\n",
    "                              max_iter = 1000,\n",
    "                              n_jobs=-1)\n",
    "\n",
    "#cv.runCrossValidation(lr_model, x_train, x_validation,y_train,y_val, n_splits = 5, n_repeats = 2, top_k = 30000, verbose=False)\n",
    "lr_model.fit(x_train,y_train)"
   ]
  },
  {
   "cell_type": "code",
   "execution_count": 58,
   "id": "dd4d116f",
   "metadata": {
    "ExecuteTime": {
     "end_time": "2022-08-09T23:14:05.567814Z",
     "start_time": "2022-08-09T23:14:05.556574Z"
    }
   },
   "outputs": [],
   "source": [
    "pickle.dump(lr_model, open('/Users/gusta/Documents/repos/health-cross-sell/model/lrmodel.pkl', 'wb'))"
   ]
  },
  {
   "cell_type": "markdown",
   "id": "3c5bb237",
   "metadata": {},
   "source": [
    "# 9.0 DEPLOYMENT"
   ]
  },
  {
   "cell_type": "markdown",
   "id": "f13e25c0",
   "metadata": {},
   "source": [
    "## 9.1 HEALTH INSURANCE CLASS"
   ]
  },
  {
   "cell_type": "code",
   "execution_count": 113,
   "id": "e741823d",
   "metadata": {
    "ExecuteTime": {
     "end_time": "2022-08-09T22:21:53.632325Z",
     "start_time": "2022-08-09T22:21:53.584442Z"
    }
   },
   "outputs": [],
   "source": [
    "import pickle\n",
    "import numpy as np\n",
    "import pandas as pd\n",
    "\n",
    "class HealthInsurance:\n",
    "    def __init__(self):\n",
    "        self.home_path = '/Users/gusta/Documents/repos/health-cross-sell/'\n",
    "        self.age_scaler =                  pickle.load(open(self.home_path + 'scalers/age_scaler.pkl')) \n",
    "        self.annual_premium_scaler =       pickle.load(open(self.home_path + 'scalers/annual_premium_scaler.pkl'))\n",
    "        self.gender_scaler =               pickle.load(open(self.home_path + 'scalers/gender_scaler.pkl'))\n",
    "        self.policy_sales_channel_scaler = pickle.load(open(self.home_path + 'scalers/policy_sales_channel_scaler.pkl'))\n",
    "        self.region_code_scaler =          pickle.load(open(self.home_path + 'scalers/region_code_scaler.pkl'))\n",
    "        self.vintage_scaler =              pickle.load(open(self.home_path + 'scalers/vintage_scaler.pkl'))\n",
    "        \n",
    "    def data_cleaning(self,data):\n",
    "        cols_new = ['id','gender','age','driving_license','region_code','previously_insured','vehicle_age','vehicle_damage','annual_premium','policy_sales_channel','vintage','response']\n",
    "        data.columns = cols_new\n",
    "        return data\n",
    "    \n",
    "    def feature_engineering(self,data):\n",
    "        dict_vehicle_age = {'> 2 Years':'over_2_years', '1-2 Year':'between_1_2_years', '< 1 Year':'under_1_year'}\n",
    "        data['vehicle_age'] = data['vehicle_age'].map(dict_vehicle_age)\n",
    "        \n",
    "        dict_vehicle_damage = {'Yes': 1, 'No': 0}\n",
    "        data['vehicle_damage'] = data['vehicle_damage'].map(dict_vehicle_damage)\n",
    "\n",
    "        return data\n",
    "    \n",
    "    def data_preparation(self,data):\n",
    "        data['annual_premium'] = self.vintage_scaler.transform(data[['annual_premium']].values)\n",
    "        data['age'] = self.age_scaler.transform(data[['age']].values)\n",
    "        data['vintage'] = self.vintage_scaler.transform(data[['vintage']].values)\n",
    "        data.loc[:,'gender'] = data['gender'].map(self.gender_scaler)\n",
    "        data.loc[:,'region_code'] = data['region_code'].map(self.region_code_scaler)\n",
    "        data = pd.get_dummies(data,prefix='vehicle_age',columns=['vehicle_age'])\n",
    "        data.loc[:,'policy_sales_channel'] = data['policy_sales_channel'].map(self.policy_sales_channel_scaler)\n",
    "        return data\n",
    "    \n",
    "    def feature_selection(self,data):\n",
    "        cols_selected = ['vintage','annual_premium','age','region_code','vehicle_damage','policy_sales_channel','previously_insured']   \n",
    "        return data[cols_selected]\n",
    "    \n",
    "    def get_prediction(self,model,original_data,test_data):\n",
    "        pred = model.predict_proba(test_data)\n",
    "        original_data['score'] = pred\n",
    "        return original_data.to_json(orient='records',date_format='iso')"
   ]
  },
  {
   "cell_type": "markdown",
   "id": "1dce1db0",
   "metadata": {},
   "source": [
    "## 9.2 API HANDLER"
   ]
  },
  {
   "cell_type": "code",
   "execution_count": 120,
   "id": "70dc8268",
   "metadata": {
    "ExecuteTime": {
     "end_time": "2022-08-09T22:27:54.019240Z",
     "start_time": "2022-08-09T22:27:50.957273Z"
    }
   },
   "outputs": [
    {
     "name": "stdout",
     "output_type": "stream",
     "text": [
      " * Serving Flask app '__main__'\n",
      " * Debug mode: on\n"
     ]
    },
    {
     "name": "stderr",
     "output_type": "stream",
     "text": [
      "WARNING: This is a development server. Do not use it in a production deployment. Use a production WSGI server instead.\n",
      " * Running on all addresses (0.0.0.0)\n",
      " * Running on http://127.0.0.1:5000\n",
      " * Running on http://192.168.0.14:5000\n",
      "Press CTRL+C to quit\n",
      " * Restarting with stat\n"
     ]
    },
    {
     "ename": "SystemExit",
     "evalue": "1",
     "output_type": "error",
     "traceback": [
      "An exception has occurred, use %tb to see the full traceback.\n",
      "\u001b[1;31mSystemExit\u001b[0m\u001b[1;31m:\u001b[0m 1\n"
     ]
    }
   ],
   "source": [
    "import pickle\n",
    "import pandas as pd\n",
    "from flask import Flask, request, Response\n",
    "from healthinsurance import HealthInsurance\n",
    "\n",
    "path = '/Users/gusta/Documents/repos/health-cross-sell/'\n",
    "model = pickle.load(open(path + 'model/lrmodel.pkl','rb')) \n",
    "\n",
    "app = Flask(__name__)\n",
    "\n",
    "@app.route('/predict', methods=['POST'])\n",
    "\n",
    "\n",
    "\n",
    "def health_insurance_predict():\n",
    "    test_json = request.get_json()\n",
    "    if test_json:\n",
    "        if isinstance(test_json,dict):\n",
    "            test_raw = pd.Dataframe(test_json,index=[0])\n",
    "        else:\n",
    "            test_raw = pd.Dataframe(test_json,columns=test_json[0].keys())\n",
    "    \n",
    "        pipeline = HealthInsurance()\n",
    "        df1 = pipeline.data_cleaning(test_raw)\n",
    "        df2 = pipeline.feature_engineering(df1)\n",
    "        df3 = pipeline.data_preparation(df2)\n",
    "        df4 = pipeline.feature_selection(df3)\n",
    "        df_response = pipeline.get_prediction(model, test_raw, df4)\n",
    "        return df_response\n",
    "    else:\n",
    "        return Response('{}',status=200,mimetype='application/json')\n",
    "\n",
    "if __name__ == '__main__':\n",
    "    app.run('0.0.0.0',debug=True)"
   ]
  },
  {
   "cell_type": "code",
   "execution_count": 45,
   "id": "eba86693",
   "metadata": {
    "ExecuteTime": {
     "end_time": "2022-08-10T22:44:58.250957Z",
     "start_time": "2022-08-10T22:44:58.242060Z"
    }
   },
   "outputs": [],
   "source": [
    "import requests"
   ]
  },
  {
   "cell_type": "code",
   "execution_count": 63,
   "id": "3efa992a",
   "metadata": {
    "ExecuteTime": {
     "end_time": "2022-08-11T00:28:49.805603Z",
     "start_time": "2022-08-11T00:28:49.784452Z"
    }
   },
   "outputs": [],
   "source": [
    "data={'id':381158, 'region_code':30.0, 'age':54, 'gender':'Male', 'vehicle_age':'1-2 Year', 'policy_sales_channel':156.0, 'annual_premium':23364.0, 'previously_insured':0, 'vintage':217, 'driving_license':1, 'vehicle_damage':'Yes'}"
   ]
  },
  {
   "cell_type": "code",
   "execution_count": 64,
   "id": "8d482179",
   "metadata": {
    "ExecuteTime": {
     "end_time": "2022-08-11T00:28:51.288754Z",
     "start_time": "2022-08-11T00:28:51.268726Z"
    }
   },
   "outputs": [
    {
     "data": {
      "text/plain": [
       "{'id': 381158,\n",
       " 'region_code': 30.0,\n",
       " 'age': 54,\n",
       " 'gender': 'Male',\n",
       " 'vehicle_age': '1-2 Year',\n",
       " 'policy_sales_channel': 156.0,\n",
       " 'annual_premium': 23364.0,\n",
       " 'previously_insured': 0,\n",
       " 'vintage': 217,\n",
       " 'driving_license': 1,\n",
       " 'vehicle_damage': 'Yes'}"
      ]
     },
     "execution_count": 64,
     "metadata": {},
     "output_type": "execute_result"
    }
   ],
   "source": [
    "data"
   ]
  },
  {
   "cell_type": "code",
   "execution_count": 47,
   "id": "65ca7ac0",
   "metadata": {
    "ExecuteTime": {
     "end_time": "2022-08-10T22:44:59.181949Z",
     "start_time": "2022-08-10T22:44:59.156905Z"
    }
   },
   "outputs": [],
   "source": [
    "data = json.dumps(df_test.to_dict(orient='records'))"
   ]
  },
  {
   "cell_type": "code",
   "execution_count": 48,
   "id": "5bc6febb",
   "metadata": {
    "ExecuteTime": {
     "end_time": "2022-08-10T22:44:59.712002Z",
     "start_time": "2022-08-10T22:44:59.702042Z"
    }
   },
   "outputs": [
    {
     "data": {
      "text/plain": [
       "'[{\"id\": 21436, \"gender\": \"Female\", \"age\": 29, \"region_code\": 14.0, \"policy_sales_channel\": 152.0, \"driving_license\": 1, \"vehicle_age\": \"< 1 Year\", \"vehicle_damage\": \"No\", \"previously_insured\": 0, \"annual_premium\": 26291.0, \"vintage\": 223}, {\"id\": 117284, \"gender\": \"Female\", \"age\": 29, \"region_code\": 28.0, \"policy_sales_channel\": 152.0, \"driving_license\": 1, \"vehicle_age\": \"< 1 Year\", \"vehicle_damage\": \"No\", \"previously_insured\": 1, \"annual_premium\": 43241.0, \"vintage\": 180}, {\"id\": 285337, \"gender\": \"Male\", \"age\": 47, \"region_code\": 28.0, \"policy_sales_channel\": 25.0, \"driving_license\": 1, \"vehicle_age\": \"1-2 Year\", \"vehicle_damage\": \"Yes\", \"previously_insured\": 0, \"annual_premium\": 40363.0, \"vintage\": 114}, {\"id\": 316964, \"gender\": \"Male\", \"age\": 59, \"region_code\": 28.0, \"policy_sales_channel\": 26.0, \"driving_license\": 1, \"vehicle_age\": \"1-2 Year\", \"vehicle_damage\": \"No\", \"previously_insured\": 1, \"annual_premium\": 40625.0, \"vintage\": 238}, {\"id\": 371240, \"gender\": \"Male\", \"age\": 56, \"region_code\": 31.0, \"policy_sales_channel\": 26.0, \"driving_license\": 1, \"vehicle_age\": \"1-2 Year\", \"vehicle_damage\": \"Yes\", \"previously_insured\": 0, \"annual_premium\": 2630.0, \"vintage\": 95}, {\"id\": 244556, \"gender\": \"Female\", \"age\": 23, \"region_code\": 8.0, \"policy_sales_channel\": 152.0, \"driving_license\": 1, \"vehicle_age\": \"< 1 Year\", \"vehicle_damage\": \"No\", \"previously_insured\": 1, \"annual_premium\": 42805.0, \"vintage\": 92}, {\"id\": 318563, \"gender\": \"Male\", \"age\": 50, \"region_code\": 28.0, \"policy_sales_channel\": 13.0, \"driving_license\": 1, \"vehicle_age\": \"1-2 Year\", \"vehicle_damage\": \"Yes\", \"previously_insured\": 0, \"annual_premium\": 40999.0, \"vintage\": 106}, {\"id\": 221574, \"gender\": \"Female\", \"age\": 47, \"region_code\": 50.0, \"policy_sales_channel\": 152.0, \"driving_license\": 1, \"vehicle_age\": \"1-2 Year\", \"vehicle_damage\": \"Yes\", \"previously_insured\": 0, \"annual_premium\": 36831.0, \"vintage\": 106}, {\"id\": 280137, \"gender\": \"Female\", \"age\": 39, \"region_code\": 46.0, \"policy_sales_channel\": 157.0, \"driving_license\": 1, \"vehicle_age\": \"1-2 Year\", \"vehicle_damage\": \"Yes\", \"previously_insured\": 0, \"annual_premium\": 23217.0, \"vintage\": 248}, {\"id\": 233713, \"gender\": \"Male\", \"age\": 53, \"region_code\": 28.0, \"policy_sales_channel\": 158.0, \"driving_license\": 1, \"vehicle_age\": \"1-2 Year\", \"vehicle_damage\": \"Yes\", \"previously_insured\": 0, \"annual_premium\": 51560.0, \"vintage\": 219}]'"
      ]
     },
     "execution_count": 48,
     "metadata": {},
     "output_type": "execute_result"
    }
   ],
   "source": [
    "data"
   ]
  },
  {
   "cell_type": "code",
   "execution_count": 49,
   "id": "3cdb12c3",
   "metadata": {
    "ExecuteTime": {
     "end_time": "2022-08-10T22:45:00.771217Z",
     "start_time": "2022-08-10T22:45:00.346693Z"
    }
   },
   "outputs": [
    {
     "name": "stdout",
     "output_type": "stream",
     "text": [
      "200\n"
     ]
    }
   ],
   "source": [
    "url = 'https://health-ccross-sell.herokuapp.com/predict'\n",
    "header = {'Content-type':'application/json'}\n",
    "\n",
    "r = requests.post(url,data=data,headers=header)\n",
    "print(r.status_code)"
   ]
  },
  {
   "cell_type": "code",
   "execution_count": 50,
   "id": "432664ab",
   "metadata": {
    "ExecuteTime": {
     "end_time": "2022-08-10T22:45:01.246874Z",
     "start_time": "2022-08-10T22:45:01.209743Z"
    }
   },
   "outputs": [
    {
     "data": {
      "text/html": [
       "<div>\n",
       "<style scoped>\n",
       "    .dataframe tbody tr th:only-of-type {\n",
       "        vertical-align: middle;\n",
       "    }\n",
       "\n",
       "    .dataframe tbody tr th {\n",
       "        vertical-align: top;\n",
       "    }\n",
       "\n",
       "    .dataframe thead th {\n",
       "        text-align: right;\n",
       "    }\n",
       "</style>\n",
       "<table border=\"1\" class=\"dataframe\">\n",
       "  <thead>\n",
       "    <tr style=\"text-align: right;\">\n",
       "      <th></th>\n",
       "      <th>id</th>\n",
       "      <th>gender</th>\n",
       "      <th>age</th>\n",
       "      <th>region_code</th>\n",
       "      <th>policy_sales_channel</th>\n",
       "      <th>driving_license</th>\n",
       "      <th>vehicle_age</th>\n",
       "      <th>vehicle_damage</th>\n",
       "      <th>previously_insured</th>\n",
       "      <th>annual_premium</th>\n",
       "      <th>vintage</th>\n",
       "      <th>score</th>\n",
       "    </tr>\n",
       "  </thead>\n",
       "  <tbody>\n",
       "    <tr>\n",
       "      <th>2</th>\n",
       "      <td>285337</td>\n",
       "      <td>0.138278</td>\n",
       "      <td>0.415385</td>\n",
       "      <td>0.187021</td>\n",
       "      <td>25.0</td>\n",
       "      <td>1</td>\n",
       "      <td>between_1_2_years</td>\n",
       "      <td>1</td>\n",
       "      <td>0</td>\n",
       "      <td>139.629758</td>\n",
       "      <td>0.359862</td>\n",
       "      <td>0.664944</td>\n",
       "    </tr>\n",
       "    <tr>\n",
       "      <th>6</th>\n",
       "      <td>318563</td>\n",
       "      <td>0.138278</td>\n",
       "      <td>0.461538</td>\n",
       "      <td>0.187021</td>\n",
       "      <td>13.0</td>\n",
       "      <td>1</td>\n",
       "      <td>between_1_2_years</td>\n",
       "      <td>1</td>\n",
       "      <td>0</td>\n",
       "      <td>141.830450</td>\n",
       "      <td>0.332180</td>\n",
       "      <td>0.661458</td>\n",
       "    </tr>\n",
       "    <tr>\n",
       "      <th>4</th>\n",
       "      <td>371240</td>\n",
       "      <td>0.138278</td>\n",
       "      <td>0.553846</td>\n",
       "      <td>0.095908</td>\n",
       "      <td>26.0</td>\n",
       "      <td>1</td>\n",
       "      <td>between_1_2_years</td>\n",
       "      <td>1</td>\n",
       "      <td>0</td>\n",
       "      <td>9.065744</td>\n",
       "      <td>0.294118</td>\n",
       "      <td>0.640919</td>\n",
       "    </tr>\n",
       "    <tr>\n",
       "      <th>8</th>\n",
       "      <td>280137</td>\n",
       "      <td>0.104072</td>\n",
       "      <td>0.292308</td>\n",
       "      <td>0.102868</td>\n",
       "      <td>157.0</td>\n",
       "      <td>1</td>\n",
       "      <td>between_1_2_years</td>\n",
       "      <td>1</td>\n",
       "      <td>0</td>\n",
       "      <td>80.301038</td>\n",
       "      <td>0.823529</td>\n",
       "      <td>0.630015</td>\n",
       "    </tr>\n",
       "    <tr>\n",
       "      <th>9</th>\n",
       "      <td>233713</td>\n",
       "      <td>0.138278</td>\n",
       "      <td>0.507692</td>\n",
       "      <td>0.187021</td>\n",
       "      <td>158.0</td>\n",
       "      <td>1</td>\n",
       "      <td>between_1_2_years</td>\n",
       "      <td>1</td>\n",
       "      <td>0</td>\n",
       "      <td>178.373702</td>\n",
       "      <td>0.723183</td>\n",
       "      <td>0.623946</td>\n",
       "    </tr>\n",
       "    <tr>\n",
       "      <th>7</th>\n",
       "      <td>221574</td>\n",
       "      <td>0.104072</td>\n",
       "      <td>0.415385</td>\n",
       "      <td>0.063695</td>\n",
       "      <td>152.0</td>\n",
       "      <td>1</td>\n",
       "      <td>between_1_2_years</td>\n",
       "      <td>1</td>\n",
       "      <td>0</td>\n",
       "      <td>127.408304</td>\n",
       "      <td>0.332180</td>\n",
       "      <td>0.446185</td>\n",
       "    </tr>\n",
       "    <tr>\n",
       "      <th>0</th>\n",
       "      <td>21436</td>\n",
       "      <td>0.104072</td>\n",
       "      <td>0.138462</td>\n",
       "      <td>0.090836</td>\n",
       "      <td>152.0</td>\n",
       "      <td>1</td>\n",
       "      <td>under_1_year</td>\n",
       "      <td>0</td>\n",
       "      <td>0</td>\n",
       "      <td>90.937716</td>\n",
       "      <td>0.737024</td>\n",
       "      <td>0.118581</td>\n",
       "    </tr>\n",
       "    <tr>\n",
       "      <th>3</th>\n",
       "      <td>316964</td>\n",
       "      <td>0.138278</td>\n",
       "      <td>0.600000</td>\n",
       "      <td>0.187021</td>\n",
       "      <td>26.0</td>\n",
       "      <td>1</td>\n",
       "      <td>between_1_2_years</td>\n",
       "      <td>0</td>\n",
       "      <td>1</td>\n",
       "      <td>140.536332</td>\n",
       "      <td>0.788927</td>\n",
       "      <td>0.003351</td>\n",
       "    </tr>\n",
       "    <tr>\n",
       "      <th>1</th>\n",
       "      <td>117284</td>\n",
       "      <td>0.104072</td>\n",
       "      <td>0.138462</td>\n",
       "      <td>0.187021</td>\n",
       "      <td>152.0</td>\n",
       "      <td>1</td>\n",
       "      <td>under_1_year</td>\n",
       "      <td>0</td>\n",
       "      <td>1</td>\n",
       "      <td>149.588235</td>\n",
       "      <td>0.588235</td>\n",
       "      <td>0.002971</td>\n",
       "    </tr>\n",
       "    <tr>\n",
       "      <th>5</th>\n",
       "      <td>244556</td>\n",
       "      <td>0.104072</td>\n",
       "      <td>0.046154</td>\n",
       "      <td>0.096312</td>\n",
       "      <td>152.0</td>\n",
       "      <td>1</td>\n",
       "      <td>under_1_year</td>\n",
       "      <td>0</td>\n",
       "      <td>1</td>\n",
       "      <td>148.079585</td>\n",
       "      <td>0.283737</td>\n",
       "      <td>0.001953</td>\n",
       "    </tr>\n",
       "  </tbody>\n",
       "</table>\n",
       "</div>"
      ],
      "text/plain": [
       "       id    gender       age  region_code  policy_sales_channel  driving_license        vehicle_age  vehicle_damage  previously_insured  annual_premium   vintage     score\n",
       "2  285337  0.138278  0.415385     0.187021                  25.0                1  between_1_2_years               1                   0      139.629758  0.359862  0.664944\n",
       "6  318563  0.138278  0.461538     0.187021                  13.0                1  between_1_2_years               1                   0      141.830450  0.332180  0.661458\n",
       "4  371240  0.138278  0.553846     0.095908                  26.0                1  between_1_2_years               1                   0        9.065744  0.294118  0.640919\n",
       "8  280137  0.104072  0.292308     0.102868                 157.0                1  between_1_2_years               1                   0       80.301038  0.823529  0.630015\n",
       "9  233713  0.138278  0.507692     0.187021                 158.0                1  between_1_2_years               1                   0      178.373702  0.723183  0.623946\n",
       "7  221574  0.104072  0.415385     0.063695                 152.0                1  between_1_2_years               1                   0      127.408304  0.332180  0.446185\n",
       "0   21436  0.104072  0.138462     0.090836                 152.0                1       under_1_year               0                   0       90.937716  0.737024  0.118581\n",
       "3  316964  0.138278  0.600000     0.187021                  26.0                1  between_1_2_years               0                   1      140.536332  0.788927  0.003351\n",
       "1  117284  0.104072  0.138462     0.187021                 152.0                1       under_1_year               0                   1      149.588235  0.588235  0.002971\n",
       "5  244556  0.104072  0.046154     0.096312                 152.0                1       under_1_year               0                   1      148.079585  0.283737  0.001953"
      ]
     },
     "execution_count": 50,
     "metadata": {},
     "output_type": "execute_result"
    }
   ],
   "source": [
    "d1 = pd.DataFrame(r.json(),columns=r.json()[0].keys())\n",
    "d1.sort_values('score',ascending=False)"
   ]
  },
  {
   "cell_type": "code",
   "execution_count": null,
   "id": "9598930f",
   "metadata": {},
   "outputs": [],
   "source": []
  }
 ],
 "metadata": {
  "kernelspec": {
   "display_name": "Python 3 (ipykernel)",
   "language": "python",
   "name": "python3"
  },
  "language_info": {
   "codemirror_mode": {
    "name": "ipython",
    "version": 3
   },
   "file_extension": ".py",
   "mimetype": "text/x-python",
   "name": "python",
   "nbconvert_exporter": "python",
   "pygments_lexer": "ipython3",
   "version": "3.9.12"
  }
 },
 "nbformat": 4,
 "nbformat_minor": 5
}
